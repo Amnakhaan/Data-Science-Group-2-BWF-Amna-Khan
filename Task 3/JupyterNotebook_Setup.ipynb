{
 "cells": [
  {
   "cell_type": "markdown",
   "id": "0664646e",
   "metadata": {},
   "source": [
    "# Bytewise Limited"
   ]
  },
  {
   "cell_type": "markdown",
   "id": "9488f686",
   "metadata": {},
   "source": [
    "## Fellowship Program"
   ]
  },
  {
   "cell_type": "markdown",
   "id": "97f5878d",
   "metadata": {},
   "source": [
    "### Data Science"
   ]
  },
  {
   "cell_type": "markdown",
   "id": "6682db66",
   "metadata": {},
   "source": [
    "#### Group II"
   ]
  },
  {
   "cell_type": "code",
   "execution_count": 1,
   "id": "31b5143f",
   "metadata": {},
   "outputs": [
    {
     "name": "stdout",
     "output_type": "stream",
     "text": [
      "Hey!! Amna here\n"
     ]
    }
   ],
   "source": [
    "print(\"Hey!! Amna here\")"
   ]
  },
  {
   "cell_type": "code",
   "execution_count": null,
   "id": "89ef2c2e",
   "metadata": {},
   "outputs": [],
   "source": []
  }
 ],
 "metadata": {
  "kernelspec": {
   "display_name": "Python 3 (ipykernel)",
   "language": "python",
   "name": "python3"
  },
  "language_info": {
   "codemirror_mode": {
    "name": "ipython",
    "version": 3
   },
   "file_extension": ".py",
   "mimetype": "text/x-python",
   "name": "python",
   "nbconvert_exporter": "python",
   "pygments_lexer": "ipython3",
   "version": "3.11.5"
  }
 },
 "nbformat": 4,
 "nbformat_minor": 5
}
