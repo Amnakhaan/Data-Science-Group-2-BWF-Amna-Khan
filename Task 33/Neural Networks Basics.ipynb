{
 "cells": [
  {
   "cell_type": "code",
   "execution_count": 2,
   "id": "bac4526f",
   "metadata": {},
   "outputs": [],
   "source": [
    "import numpy as np"
   ]
  },
  {
   "cell_type": "markdown",
   "id": "f597bb4a",
   "metadata": {},
   "source": [
    "#### Sigmoid activation function for illustration"
   ]
  },
  {
   "cell_type": "code",
   "execution_count": 3,
   "id": "a76c6141",
   "metadata": {},
   "outputs": [],
   "source": [
    "def sigmoid(x):\n",
    "    return 1 / (1 + np.exp(-x))"
   ]
  },
  {
   "cell_type": "code",
   "execution_count": 4,
   "id": "3052a617",
   "metadata": {},
   "outputs": [],
   "source": [
    "# Derivative of the above function\n",
    "def sigmoid_derivative(x):\n",
    "    return x * (1 - x)"
   ]
  },
  {
   "cell_type": "markdown",
   "id": "cfce4fe0",
   "metadata": {},
   "source": [
    "#### Mean Squared Error function"
   ]
  },
  {
   "cell_type": "code",
   "execution_count": 5,
   "id": "66e56fd5",
   "metadata": {},
   "outputs": [],
   "source": [
    "def mse(y_true, y_pred):\n",
    "    return np.mean((y_true - y_pred) ** 2)"
   ]
  },
  {
   "cell_type": "markdown",
   "id": "8c74e259",
   "metadata": {},
   "source": [
    "#### Perceptron with one input layer, one hidden layer, and one output layer"
   ]
  },
  {
   "cell_type": "code",
   "execution_count": 6,
   "id": "baee162b",
   "metadata": {},
   "outputs": [],
   "source": [
    "class SimpleNeuralNetwork:\n",
    "    def __init__(self, input_size, hidden_size, output_size):\n",
    "        # weights\n",
    "        self.weights_input_hidden = np.random.rand(input_size, hidden_size)\n",
    "        self.weights_hidden_output = np.random.rand(hidden_size, output_size)\n",
    "        # biases\n",
    "        self.bias_hidden = np.zeros((1, hidden_size))\n",
    "        self.bias_output = np.zeros((1, output_size))\n",
    "    \n",
    "    def forward(self, X):\n",
    "        # Forward pass\n",
    "        self.hidden_layer_activation = np.dot(X, self.weights_input_hidden) + self.bias_hidden\n",
    "        self.hidden_layer_output = sigmoid(self.hidden_layer_activation)  # Hidden layer output using sigmoid activation\n",
    "        self.output_layer_activation = np.dot(self.hidden_layer_output, self.weights_hidden_output) + self.bias_output\n",
    "        return self.output_layer_activation\n",
    "    \n",
    "    def backward(self, X, y, output, learning_rate):\n",
    "        # Backward pass\n",
    "        error = output - y  # Error in output\n",
    "        d_output = error  # Derivative of the output\n",
    "\n",
    "        error_hidden_layer = d_output.dot(self.weights_hidden_output.T)\n",
    "        d_hidden_layer = error_hidden_layer * sigmoid_derivative(self.hidden_layer_output)\n",
    "\n",
    "        # Update weights and biases values here\n",
    "        self.weights_hidden_output -= self.hidden_layer_output.T.dot(d_output) * learning_rate\n",
    "        self.bias_output -= np.sum(d_output, axis=0, keepdims=True) * learning_rate\n",
    "        self.weights_input_hidden -= X.T.dot(d_hidden_layer) * learning_rate\n",
    "        self.bias_hidden -= np.sum(d_hidden_layer, axis=0, keepdims=True) * learning_rate\n",
    "    \n",
    "    def train(self, X, y, epochs, learning_rate):\n",
    "        for epoch in range(epochs):\n",
    "            # propagation\n",
    "            output = self.forward(X)\n",
    "            self.backward(X, y, output, learning_rate)\n",
    "            \n",
    "            # Calculate loss at every 100 epochs\n",
    "            if epoch % 100 == 0:\n",
    "                loss = mse(y, output)\n",
    "                print(f\"Epoch {epoch}, Loss: {loss}\")"
   ]
  },
  {
   "cell_type": "code",
   "execution_count": 7,
   "id": "eb4c8f92",
   "metadata": {},
   "outputs": [],
   "source": [
    "# data\n",
    "X = np.array([[0, 0], [0, 1], [1, 0], [1, 1]])\n",
    "y = np.array([[0], [1], [1], [0]])  # XOR problem"
   ]
  },
  {
   "cell_type": "markdown",
   "id": "38eff52d",
   "metadata": {},
   "source": [
    "Initialize neural network"
   ]
  },
  {
   "cell_type": "code",
   "execution_count": 8,
   "id": "0e567807",
   "metadata": {},
   "outputs": [],
   "source": [
    "nn = SimpleNeuralNetwork(input_size=2, hidden_size=2, output_size=1)"
   ]
  },
  {
   "cell_type": "markdown",
   "id": "567e56c2",
   "metadata": {},
   "source": [
    "Train the network"
   ]
  },
  {
   "cell_type": "code",
   "execution_count": 10,
   "id": "1799afaa",
   "metadata": {},
   "outputs": [
    {
     "name": "stdout",
     "output_type": "stream",
     "text": [
      "Epoch 0, Loss: 0.27040370813891634\n",
      "Epoch 100, Loss: 0.24621132939278145\n",
      "Epoch 200, Loss: 0.24282921656997802\n",
      "Epoch 300, Loss: 0.23733372430207733\n",
      "Epoch 400, Loss: 0.22925158190041095\n",
      "Epoch 500, Loss: 0.21892251525729778\n",
      "Epoch 600, Loss: 0.20656763219741098\n",
      "Epoch 700, Loss: 0.19080443698254826\n",
      "Epoch 800, Loss: 0.16978894892540342\n",
      "Epoch 900, Loss: 0.14242495984884604\n"
     ]
    }
   ],
   "source": [
    "nn.train(X, y, epochs=1000, learning_rate=0.1)"
   ]
  },
  {
   "cell_type": "markdown",
   "id": "9b5416f5",
   "metadata": {},
   "source": [
    "Test the network"
   ]
  },
  {
   "cell_type": "code",
   "execution_count": 11,
   "id": "e385d2eb",
   "metadata": {},
   "outputs": [
    {
     "name": "stdout",
     "output_type": "stream",
     "text": [
      "Predicted output:\n",
      " [[0.17197656]\n",
      " [0.7008142 ]\n",
      " [0.6986278 ]\n",
      " [0.46921059]]\n"
     ]
    }
   ],
   "source": [
    "output = nn.forward(X)\n",
    "print(\"Predicted output:\\n\", output)"
   ]
  }
 ],
 "metadata": {
  "kernelspec": {
   "display_name": "Python 3 (ipykernel)",
   "language": "python",
   "name": "python3"
  },
  "language_info": {
   "codemirror_mode": {
    "name": "ipython",
    "version": 3
   },
   "file_extension": ".py",
   "mimetype": "text/x-python",
   "name": "python",
   "nbconvert_exporter": "python",
   "pygments_lexer": "ipython3",
   "version": "3.11.5"
  }
 },
 "nbformat": 4,
 "nbformat_minor": 5
}
