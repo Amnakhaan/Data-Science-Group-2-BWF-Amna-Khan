{
 "cells": [
  {
   "cell_type": "markdown",
   "id": "84d9d1e9",
   "metadata": {},
   "source": [
    "### Task 4: Python Basics (Variable, Datatypes, Operators)"
   ]
  },
  {
   "cell_type": "markdown",
   "id": "988658a2",
   "metadata": {},
   "source": [
    "#### Temperature Converter"
   ]
  },
  {
   "cell_type": "markdown",
   "id": "33807426",
   "metadata": {},
   "source": [
    "###### \n",
    "Celsius to Fahrenheit:\n",
    "F=9/5*C+32\n",
    "\n",
    "Celsius to Kelvin:\n",
    "K=C+273.15\n",
    "\n",
    "Fahrenheit to Celsius:\n",
    "C=5/9*(F−32)\n",
    "\n",
    "Fahrenheit to Kelvin:\n",
    "K=5/9*(F−32)+273.15\n",
    "\n",
    "Kelvin to Celsius:\n",
    "C=K−273.15\n",
    "\n",
    "Kelvin to Fahrenheit:\n",
    "F=9/5*(K−273.15)+32"
   ]
  },
  {
   "cell_type": "code",
   "execution_count": 17,
   "id": "b6d86026",
   "metadata": {},
   "outputs": [
    {
     "name": "stdout",
     "output_type": "stream",
     "text": [
      "Enter temperature 12\n",
      "Enter temperature unit (K,F,C)C\n",
      "Desired unit (K,F,C)K\n",
      "Converted temperature is  285.15 K\n"
     ]
    }
   ],
   "source": [
    "temp = float(input(\"Enter temperature \"))\n",
    "unit = input(\"Enter temperature unit (K,F,C)\")\n",
    "new_unit = input(\"Desired unit (K,F,C)\")\n",
    "if unit == 'C':\n",
    "    if new_unit == 'F':\n",
    "        new_temp = 9/5*temp+32\n",
    "    elif new_unit == 'K':\n",
    "        new_temp = temp + 273.15\n",
    "    elif new_unit == 'C':\n",
    "        new_temp = temp\n",
    "    else:\n",
    "        print(\"Invalid Input!!\")\n",
    "        \n",
    "elif unit == 'F':\n",
    "    if new_unit == 'C':\n",
    "        new_temp = 5/9*(temp-32)\n",
    "    elif new_unit == 'K':\n",
    "        new_temp = 5/9*(temp-32)+273.15\n",
    "    elif new_unit == 'F':\n",
    "        new_temp = temp\n",
    "    else:\n",
    "        print(\"Invalid Input!!\")\n",
    "        \n",
    "elif unit == 'K':\n",
    "    if new_unit == 'C':\n",
    "        new_temp = temp - 273.15\n",
    "    elif new_unit == 'F':\n",
    "        new_temp = 9/5*(temp-273.15)+32\n",
    "    elif new_unit == 'K':\n",
    "        new_temp = temp\n",
    "    else:\n",
    "        print(\"Invalid Input!!\")\n",
    "else:\n",
    "    print(\"Invalid Input!!\")\n",
    "print(f\"Converted temperature is \", round(new_temp,3), new_unit)"
   ]
  }
 ],
 "metadata": {
  "kernelspec": {
   "display_name": "Python 3 (ipykernel)",
   "language": "python",
   "name": "python3"
  },
  "language_info": {
   "codemirror_mode": {
    "name": "ipython",
    "version": 3
   },
   "file_extension": ".py",
   "mimetype": "text/x-python",
   "name": "python",
   "nbconvert_exporter": "python",
   "pygments_lexer": "ipython3",
   "version": "3.11.5"
  }
 },
 "nbformat": 4,
 "nbformat_minor": 5
}
