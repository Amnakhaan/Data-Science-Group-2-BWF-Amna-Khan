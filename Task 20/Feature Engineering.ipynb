{
 "cells": [
  {
   "cell_type": "markdown",
   "id": "3b628d01",
   "metadata": {},
   "source": [
    "### Feature Engineering"
   ]
  },
  {
   "cell_type": "code",
   "execution_count": 3,
   "id": "545aecc5",
   "metadata": {},
   "outputs": [],
   "source": [
    "import pandas as pd\n",
    "import numpy as np\n",
    "import seaborn as sns\n",
    "import matplotlib.pyplot as plt\n",
    "from sklearn.preprocessing import LabelEncoder"
   ]
  },
  {
   "cell_type": "code",
   "execution_count": 4,
   "id": "4733743f",
   "metadata": {},
   "outputs": [],
   "source": [
    "titanic = sns.load_dataset(\"titanic\")"
   ]
  },
  {
   "cell_type": "code",
   "execution_count": 5,
   "id": "4237de69",
   "metadata": {},
   "outputs": [
    {
     "name": "stdout",
     "output_type": "stream",
     "text": [
      "   survived  pclass     sex   age  sibsp  parch     fare embarked  class  \\\n",
      "0         0       3    male  22.0      1      0   7.2500        S  Third   \n",
      "1         1       1  female  38.0      1      0  71.2833        C  First   \n",
      "2         1       3  female  26.0      0      0   7.9250        S  Third   \n",
      "3         1       1  female  35.0      1      0  53.1000        S  First   \n",
      "4         0       3    male  35.0      0      0   8.0500        S  Third   \n",
      "\n",
      "     who  adult_male deck  embark_town alive  alone  \n",
      "0    man        True  NaN  Southampton    no  False  \n",
      "1  woman       False    C    Cherbourg   yes  False  \n",
      "2  woman       False  NaN  Southampton   yes   True  \n",
      "3  woman       False    C  Southampton   yes  False  \n",
      "4    man        True  NaN  Southampton    no   True  \n"
     ]
    }
   ],
   "source": [
    "print(titanic.head(5))"
   ]
  },
  {
   "cell_type": "markdown",
   "id": "b1149da9",
   "metadata": {},
   "source": [
    "### Feature Selection"
   ]
  },
  {
   "cell_type": "code",
   "execution_count": null,
   "id": "530b73bd",
   "metadata": {},
   "outputs": [],
   "source": []
  },
  {
   "cell_type": "code",
   "execution_count": 10,
   "id": "ce5cdb62",
   "metadata": {},
   "outputs": [
    {
     "data": {
      "text/plain": [
       "survived         0\n",
       "pclass           0\n",
       "sex              0\n",
       "age              0\n",
       "sibsp            0\n",
       "parch            0\n",
       "fare             0\n",
       "embarked         0\n",
       "class            0\n",
       "who              0\n",
       "adult_male       0\n",
       "deck           688\n",
       "embark_town      2\n",
       "alive            0\n",
       "alone            0\n",
       "dtype: int64"
      ]
     },
     "execution_count": 10,
     "metadata": {},
     "output_type": "execute_result"
    }
   ],
   "source": [
    "# Replacing missing age with the mean number\n",
    "mean_age = titanic['age'].mean()\n",
    "titanic['age'].fillna(mean_age, inplace = True)\n",
    "titanic['age'].astype(int)\n",
    "\n",
    "titanic['embarked'].value_counts()\n",
    "# Replacing missing with most occuring value\n",
    "titanic['embarked'].fillna('S', inplace = True)\n",
    "\n",
    "titanic.isnull().sum()"
   ]
  },
  {
   "cell_type": "code",
   "execution_count": 11,
   "id": "bbbf84ba",
   "metadata": {
    "scrolled": true
   },
   "outputs": [
    {
     "name": "stdout",
     "output_type": "stream",
     "text": [
      "survived          int64\n",
      "pclass            int64\n",
      "sex              object\n",
      "age             float64\n",
      "sibsp             int64\n",
      "parch             int64\n",
      "fare            float64\n",
      "embarked         object\n",
      "class          category\n",
      "who              object\n",
      "adult_male         bool\n",
      "deck           category\n",
      "embark_town      object\n",
      "alive            object\n",
      "alone              bool\n",
      "dtype: object\n"
     ]
    }
   ],
   "source": [
    "print(titanic.dtypes)"
   ]
  },
  {
   "cell_type": "code",
   "execution_count": 12,
   "id": "6c89cc5c",
   "metadata": {},
   "outputs": [
    {
     "data": {
      "text/html": [
       "<div>\n",
       "<style scoped>\n",
       "    .dataframe tbody tr th:only-of-type {\n",
       "        vertical-align: middle;\n",
       "    }\n",
       "\n",
       "    .dataframe tbody tr th {\n",
       "        vertical-align: top;\n",
       "    }\n",
       "\n",
       "    .dataframe thead th {\n",
       "        text-align: right;\n",
       "    }\n",
       "</style>\n",
       "<table border=\"1\" class=\"dataframe\">\n",
       "  <thead>\n",
       "    <tr style=\"text-align: right;\">\n",
       "      <th></th>\n",
       "      <th>pclass</th>\n",
       "      <th>sex</th>\n",
       "      <th>age</th>\n",
       "      <th>sibsp</th>\n",
       "      <th>parch</th>\n",
       "      <th>fare</th>\n",
       "      <th>embarked</th>\n",
       "      <th>class</th>\n",
       "      <th>who</th>\n",
       "      <th>adult_male</th>\n",
       "      <th>deck</th>\n",
       "      <th>embark_town</th>\n",
       "      <th>alive</th>\n",
       "      <th>alone</th>\n",
       "    </tr>\n",
       "  </thead>\n",
       "  <tbody>\n",
       "    <tr>\n",
       "      <th>0</th>\n",
       "      <td>3</td>\n",
       "      <td>1</td>\n",
       "      <td>22.000000</td>\n",
       "      <td>1</td>\n",
       "      <td>0</td>\n",
       "      <td>7.2500</td>\n",
       "      <td>2</td>\n",
       "      <td>Third</td>\n",
       "      <td>man</td>\n",
       "      <td>True</td>\n",
       "      <td>NaN</td>\n",
       "      <td>Southampton</td>\n",
       "      <td>no</td>\n",
       "      <td>False</td>\n",
       "    </tr>\n",
       "    <tr>\n",
       "      <th>1</th>\n",
       "      <td>1</td>\n",
       "      <td>0</td>\n",
       "      <td>38.000000</td>\n",
       "      <td>1</td>\n",
       "      <td>0</td>\n",
       "      <td>71.2833</td>\n",
       "      <td>0</td>\n",
       "      <td>First</td>\n",
       "      <td>woman</td>\n",
       "      <td>False</td>\n",
       "      <td>C</td>\n",
       "      <td>Cherbourg</td>\n",
       "      <td>yes</td>\n",
       "      <td>False</td>\n",
       "    </tr>\n",
       "    <tr>\n",
       "      <th>2</th>\n",
       "      <td>3</td>\n",
       "      <td>0</td>\n",
       "      <td>26.000000</td>\n",
       "      <td>0</td>\n",
       "      <td>0</td>\n",
       "      <td>7.9250</td>\n",
       "      <td>2</td>\n",
       "      <td>Third</td>\n",
       "      <td>woman</td>\n",
       "      <td>False</td>\n",
       "      <td>NaN</td>\n",
       "      <td>Southampton</td>\n",
       "      <td>yes</td>\n",
       "      <td>True</td>\n",
       "    </tr>\n",
       "    <tr>\n",
       "      <th>3</th>\n",
       "      <td>1</td>\n",
       "      <td>0</td>\n",
       "      <td>35.000000</td>\n",
       "      <td>1</td>\n",
       "      <td>0</td>\n",
       "      <td>53.1000</td>\n",
       "      <td>2</td>\n",
       "      <td>First</td>\n",
       "      <td>woman</td>\n",
       "      <td>False</td>\n",
       "      <td>C</td>\n",
       "      <td>Southampton</td>\n",
       "      <td>yes</td>\n",
       "      <td>False</td>\n",
       "    </tr>\n",
       "    <tr>\n",
       "      <th>4</th>\n",
       "      <td>3</td>\n",
       "      <td>1</td>\n",
       "      <td>35.000000</td>\n",
       "      <td>0</td>\n",
       "      <td>0</td>\n",
       "      <td>8.0500</td>\n",
       "      <td>2</td>\n",
       "      <td>Third</td>\n",
       "      <td>man</td>\n",
       "      <td>True</td>\n",
       "      <td>NaN</td>\n",
       "      <td>Southampton</td>\n",
       "      <td>no</td>\n",
       "      <td>True</td>\n",
       "    </tr>\n",
       "    <tr>\n",
       "      <th>...</th>\n",
       "      <td>...</td>\n",
       "      <td>...</td>\n",
       "      <td>...</td>\n",
       "      <td>...</td>\n",
       "      <td>...</td>\n",
       "      <td>...</td>\n",
       "      <td>...</td>\n",
       "      <td>...</td>\n",
       "      <td>...</td>\n",
       "      <td>...</td>\n",
       "      <td>...</td>\n",
       "      <td>...</td>\n",
       "      <td>...</td>\n",
       "      <td>...</td>\n",
       "    </tr>\n",
       "    <tr>\n",
       "      <th>886</th>\n",
       "      <td>2</td>\n",
       "      <td>1</td>\n",
       "      <td>27.000000</td>\n",
       "      <td>0</td>\n",
       "      <td>0</td>\n",
       "      <td>13.0000</td>\n",
       "      <td>2</td>\n",
       "      <td>Second</td>\n",
       "      <td>man</td>\n",
       "      <td>True</td>\n",
       "      <td>NaN</td>\n",
       "      <td>Southampton</td>\n",
       "      <td>no</td>\n",
       "      <td>True</td>\n",
       "    </tr>\n",
       "    <tr>\n",
       "      <th>887</th>\n",
       "      <td>1</td>\n",
       "      <td>0</td>\n",
       "      <td>19.000000</td>\n",
       "      <td>0</td>\n",
       "      <td>0</td>\n",
       "      <td>30.0000</td>\n",
       "      <td>2</td>\n",
       "      <td>First</td>\n",
       "      <td>woman</td>\n",
       "      <td>False</td>\n",
       "      <td>B</td>\n",
       "      <td>Southampton</td>\n",
       "      <td>yes</td>\n",
       "      <td>True</td>\n",
       "    </tr>\n",
       "    <tr>\n",
       "      <th>888</th>\n",
       "      <td>3</td>\n",
       "      <td>0</td>\n",
       "      <td>29.699118</td>\n",
       "      <td>1</td>\n",
       "      <td>2</td>\n",
       "      <td>23.4500</td>\n",
       "      <td>2</td>\n",
       "      <td>Third</td>\n",
       "      <td>woman</td>\n",
       "      <td>False</td>\n",
       "      <td>NaN</td>\n",
       "      <td>Southampton</td>\n",
       "      <td>no</td>\n",
       "      <td>False</td>\n",
       "    </tr>\n",
       "    <tr>\n",
       "      <th>889</th>\n",
       "      <td>1</td>\n",
       "      <td>1</td>\n",
       "      <td>26.000000</td>\n",
       "      <td>0</td>\n",
       "      <td>0</td>\n",
       "      <td>30.0000</td>\n",
       "      <td>0</td>\n",
       "      <td>First</td>\n",
       "      <td>man</td>\n",
       "      <td>True</td>\n",
       "      <td>C</td>\n",
       "      <td>Cherbourg</td>\n",
       "      <td>yes</td>\n",
       "      <td>True</td>\n",
       "    </tr>\n",
       "    <tr>\n",
       "      <th>890</th>\n",
       "      <td>3</td>\n",
       "      <td>1</td>\n",
       "      <td>32.000000</td>\n",
       "      <td>0</td>\n",
       "      <td>0</td>\n",
       "      <td>7.7500</td>\n",
       "      <td>1</td>\n",
       "      <td>Third</td>\n",
       "      <td>man</td>\n",
       "      <td>True</td>\n",
       "      <td>NaN</td>\n",
       "      <td>Queenstown</td>\n",
       "      <td>no</td>\n",
       "      <td>True</td>\n",
       "    </tr>\n",
       "  </tbody>\n",
       "</table>\n",
       "<p>891 rows × 14 columns</p>\n",
       "</div>"
      ],
      "text/plain": [
       "     pclass  sex        age  sibsp  parch     fare  embarked   class    who  \\\n",
       "0         3    1  22.000000      1      0   7.2500         2   Third    man   \n",
       "1         1    0  38.000000      1      0  71.2833         0   First  woman   \n",
       "2         3    0  26.000000      0      0   7.9250         2   Third  woman   \n",
       "3         1    0  35.000000      1      0  53.1000         2   First  woman   \n",
       "4         3    1  35.000000      0      0   8.0500         2   Third    man   \n",
       "..      ...  ...        ...    ...    ...      ...       ...     ...    ...   \n",
       "886       2    1  27.000000      0      0  13.0000         2  Second    man   \n",
       "887       1    0  19.000000      0      0  30.0000         2   First  woman   \n",
       "888       3    0  29.699118      1      2  23.4500         2   Third  woman   \n",
       "889       1    1  26.000000      0      0  30.0000         0   First    man   \n",
       "890       3    1  32.000000      0      0   7.7500         1   Third    man   \n",
       "\n",
       "     adult_male deck  embark_town alive  alone  \n",
       "0          True  NaN  Southampton    no  False  \n",
       "1         False    C    Cherbourg   yes  False  \n",
       "2         False  NaN  Southampton   yes   True  \n",
       "3         False    C  Southampton   yes  False  \n",
       "4          True  NaN  Southampton    no   True  \n",
       "..          ...  ...          ...   ...    ...  \n",
       "886        True  NaN  Southampton    no   True  \n",
       "887       False    B  Southampton   yes   True  \n",
       "888       False  NaN  Southampton    no  False  \n",
       "889        True    C    Cherbourg   yes   True  \n",
       "890        True  NaN   Queenstown    no   True  \n",
       "\n",
       "[891 rows x 14 columns]"
      ]
     },
     "execution_count": 12,
     "metadata": {},
     "output_type": "execute_result"
    }
   ],
   "source": [
    "le = LabelEncoder()\n",
    "\n",
    "titanic['embarked'] = le.fit_transform(titanic['embarked'])\n",
    "titanic['sex'] = le.fit_transform(titanic['sex'])\n",
    "\n",
    "titanic.head()\n",
    "\n",
    "y_data = titanic['survived']\n",
    "X_data = titanic.drop(['survived'], axis=1)\n",
    "X_data"
   ]
  },
  {
   "cell_type": "code",
   "execution_count": 13,
   "id": "646cebe5",
   "metadata": {},
   "outputs": [
    {
     "data": {
      "image/png": "[encoded data removed]",
      "text/plain": [
       "<Figure size 800x800 with 2 Axes>"
      ]
     },
     "metadata": {},
     "output_type": "display_data"
    }
   ],
   "source": [
    "import pandas as pd\n",
    "import seaborn as sns\n",
    "import matplotlib.pyplot as plt\n",
    "\n",
    "numeric_titanic = titanic.select_dtypes(include=['number'])\n",
    "\n",
    "# Calculate correlation coefficients\n",
    "correlation_matrix = numeric_titanic.corr()\n",
    "\n",
    "# Plot the heatmap\n",
    "plt.figure(figsize=(8, 8))\n",
    "sns.heatmap(correlation_matrix, annot=True)\n",
    "plt.show()\n"
   ]
  },
  {
   "cell_type": "markdown",
   "id": "b31bbcf2",
   "metadata": {},
   "source": [
    "### Feature Transformation"
   ]
  },
  {
   "cell_type": "code",
   "execution_count": 14,
   "id": "acf3052e",
   "metadata": {},
   "outputs": [],
   "source": [
    "from sklearn.preprocessing import MinMaxScaler"
   ]
  },
  {
   "cell_type": "code",
   "execution_count": 20,
   "id": "8059be5a",
   "metadata": {},
   "outputs": [
    {
     "name": "stdout",
     "output_type": "stream",
     "text": [
      "   survived  pclass  sex   age  sibsp  parch     fare  embarked  class    who  \\\n",
      "0         0       3    1  22.0      1      0   7.2500         2  Third    man   \n",
      "1         1       1    0  38.0      1      0  71.2833         0  First  woman   \n",
      "2         1       3    0  26.0      0      0   7.9250         2  Third  woman   \n",
      "3         1       1    0  35.0      1      0  53.1000         2  First  woman   \n",
      "4         0       3    1  35.0      0      0   8.0500         2  Third    man   \n",
      "\n",
      "   adult_male deck  embark_town alive  alone  \n",
      "0        True  NaN  Southampton    no  False  \n",
      "1       False    C    Cherbourg   yes  False  \n",
      "2       False  NaN  Southampton   yes   True  \n",
      "3       False    C  Southampton   yes  False  \n",
      "4        True  NaN  Southampton    no   True  \n"
     ]
    }
   ],
   "source": [
    "convertible_columns = ['survived', 'pclass', 'sex', 'age', 'sibsp', 'parch', 'fare', 'embarked', 'class', 'who', 'adult_male', 'deck', 'embark_town', 'alive', 'alone']\n",
    "convertible_columns = [col for col in convertible_columns if col in titanic.columns]\n",
    "\n",
    "titanic[convertible_columns] = titanic[convertible_columns].apply(pd.to_numeric, errors='ignore', downcast='integer')\n",
    "\n",
    "print(titanic.head())"
   ]
  },
  {
   "cell_type": "code",
   "execution_count": 21,
   "id": "2b958564",
   "metadata": {},
   "outputs": [],
   "source": [
    "col_names = ['Pclass', 'Sex', 'Age', 'SibSp', 'Parch',\n",
    "       'Fare', 'Embarked']"
   ]
  },
  {
   "cell_type": "code",
   "execution_count": 22,
   "id": "794bd3c9",
   "metadata": {},
   "outputs": [],
   "source": [
    "X_data_scaled = X_data.copy()\n",
    "col_names = X_data.columns\n",
    "features = X_data_scaled[col_names]"
   ]
  },
  {
   "cell_type": "markdown",
   "id": "00adb352",
   "metadata": {},
   "source": [
    "MinMax Scaling"
   ]
  },
  {
   "cell_type": "code",
   "execution_count": 29,
   "id": "52880d7c",
   "metadata": {},
   "outputs": [
    {
     "name": "stdout",
     "output_type": "stream",
     "text": [
      "   survived  pclass  sex       age  sibsp  parch      fare  embarked  class  \\\n",
      "0         0       3    1  0.271174  0.125    0.0  0.014151         2  Third   \n",
      "1         1       1    0  0.472229  0.125    0.0  0.139136         0  First   \n",
      "2         1       3    0  0.321438  0.000    0.0  0.015469         2  Third   \n",
      "3         1       1    0  0.434531  0.125    0.0  0.103644         2  First   \n",
      "4         0       3    1  0.434531  0.000    0.0  0.015713         2  Third   \n",
      "\n",
      "     who  adult_male deck  embark_town alive  alone  \n",
      "0    man        True  NaN  Southampton    no  False  \n",
      "1  woman       False    C    Cherbourg   yes  False  \n",
      "2  woman       False  NaN  Southampton   yes   True  \n",
      "3  woman       False    C  Southampton   yes  False  \n",
      "4    man        True  NaN  Southampton    no   True  \n"
     ]
    }
   ],
   "source": [
    "X_data_scaled = titanic.copy()\n",
    "\n",
    "#columns for scaling\n",
    "numeric_features = ['age', 'fare', 'sibsp', 'parch']\n",
    "scaler = MinMaxScaler()\n",
    "X_data_scaled[numeric_features] = scaler.fit_transform(titanic[numeric_features])\n",
    "\n",
    "print(X_data_scaled.head())"
   ]
  },
  {
   "cell_type": "markdown",
   "id": "c157379d",
   "metadata": {},
   "source": [
    "### Feature Creation"
   ]
  },
  {
   "cell_type": "markdown",
   "id": "580ae2cc",
   "metadata": {},
   "source": [
    "This feature helps in understanding the size of the travel group"
   ]
  },
  {
   "cell_type": "code",
   "execution_count": 30,
   "id": "1dace48a",
   "metadata": {},
   "outputs": [
    {
     "name": "stdout",
     "output_type": "stream",
     "text": [
      "   pclass  sex   age  sibsp  parch     fare  embarked  class    who  \\\n",
      "0       3    1  22.0      1      0   7.2500         2  Third    man   \n",
      "1       1    0  38.0      1      0  71.2833         0  First  woman   \n",
      "2       3    0  26.0      0      0   7.9250         2  Third  woman   \n",
      "3       1    0  35.0      1      0  53.1000         2  First  woman   \n",
      "4       3    1  35.0      0      0   8.0500         2  Third    man   \n",
      "\n",
      "   adult_male deck  embark_town alive  alone  FamilySize  \n",
      "0        True  NaN  Southampton    no  False           2  \n",
      "1       False    C    Cherbourg   yes  False           2  \n",
      "2       False  NaN  Southampton   yes   True           1  \n",
      "3       False    C  Southampton   yes  False           2  \n",
      "4        True  NaN  Southampton    no   True           1  \n"
     ]
    }
   ],
   "source": [
    "# Create FamilySize feature\n",
    "X_data['FamilySize'] = X_data['sibsp'] + X_data['parch'] + 1\n",
    "print(X_data.head())"
   ]
  },
  {
   "cell_type": "markdown",
   "id": "0ebeb289",
   "metadata": {},
   "source": [
    "### Polynomial Features"
   ]
  },
  {
   "cell_type": "code",
   "execution_count": 37,
   "id": "d1f55fa9",
   "metadata": {},
   "outputs": [],
   "source": [
    "from sklearn.preprocessing import PolynomialFeatures"
   ]
  },
  {
   "cell_type": "code",
   "execution_count": 38,
   "id": "73a6cca4",
   "metadata": {},
   "outputs": [
    {
     "name": "stdout",
     "output_type": "stream",
     "text": [
      "      CRIM    ZN  INDUS  CHAS    NOX     RM   AGE     DIS  RAD  TAX  PTRATIO  \\\n",
      "0  0.00632  18.0   2.31   0.0  0.538  6.575  65.2  4.0900    1  296     15.3   \n",
      "1  0.02731   0.0   7.07   0.0  0.469  6.421  78.9  4.9671    2  242     17.8   \n",
      "2  0.02729   0.0   7.07   0.0  0.469  7.185  61.1  4.9671    2  242     17.8   \n",
      "3  0.03237   0.0   2.18   0.0  0.458  6.998  45.8  6.0622    3  222     18.7   \n",
      "4  0.06905   0.0   2.18   0.0  0.458  7.147  54.2  6.0622    3  222     18.7   \n",
      "\n",
      "        B  LSTAT  MEDV  \n",
      "0  396.90   4.98  24.0  \n",
      "1  396.90   9.14  21.6  \n",
      "2  392.83   4.03  34.7  \n",
      "3  394.63   2.94  33.4  \n",
      "4  396.90    NaN  36.2  \n"
     ]
    }
   ],
   "source": [
    "file_path = 'HousingData.csv'\n",
    "data = pd.read_csv(file_path)\n",
    "\n",
    "print(data.head())"
   ]
  },
  {
   "cell_type": "code",
   "execution_count": 41,
   "id": "181a573f",
   "metadata": {},
   "outputs": [],
   "source": [
    "#generate polynomial features for all numerical columns\n",
    "numerical_features = data.select_dtypes(include=['int64', 'float64']).columns"
   ]
  },
  {
   "cell_type": "markdown",
   "id": "7033b776",
   "metadata": {},
   "source": [
    "Create polynomial features"
   ]
  },
  {
   "cell_type": "code",
   "execution_count": 47,
   "id": "e78ea6dd",
   "metadata": {},
   "outputs": [
    {
     "name": "stdout",
     "output_type": "stream",
     "text": [
      "      CRIM    ZN  INDUS  CHAS    NOX     RM   AGE     DIS  RAD    TAX  ...  \\\n",
      "0  0.00632  18.0   2.31   0.0  0.538  6.575  65.2  4.0900  1.0  296.0  ...   \n",
      "1  0.02731   0.0   7.07   0.0  0.469  6.421  78.9  4.9671  2.0  242.0  ...   \n",
      "2  0.02729   0.0   7.07   0.0  0.469  7.185  61.1  4.9671  2.0  242.0  ...   \n",
      "3  0.03237   0.0   2.18   0.0  0.458  6.998  45.8  6.0622  3.0  222.0  ...   \n",
      "4  0.06905   0.0   2.18   0.0  0.458  7.147  54.2  6.0622  3.0  222.0  ...   \n",
      "\n",
      "   PTRATIO^2  PTRATIO B  PTRATIO LSTAT  PTRATIO MEDV          B^2    B LSTAT  \\\n",
      "0     234.09   6072.570       76.19400        367.20  157529.6100  1976.5620   \n",
      "1     316.84   7064.820      162.69200        384.48  157529.6100  3627.6660   \n",
      "2     316.84   6992.374       71.73400        617.66  154315.4089  1583.1049   \n",
      "3     349.69   7379.581       54.97800        624.58  155732.8369  1160.2122   \n",
      "4     349.69   7422.030      237.77858        676.94  157529.6100  5046.7550   \n",
      "\n",
      "      B MEDV     LSTAT^2  LSTAT MEDV   MEDV^2  \n",
      "0   9525.600   24.800400  119.520000   576.00  \n",
      "1   8573.040   83.539600  197.424000   466.56  \n",
      "2  13631.201   16.240900  139.841000  1204.09  \n",
      "3  13180.642    8.643600   98.196000  1115.56  \n",
      "4  14367.780  161.682213  460.298642  1310.44  \n",
      "\n",
      "[5 rows x 119 columns]\n"
     ]
    }
   ],
   "source": [
    "poly = PolynomialFeatures(degree=2, include_bias=False)\n",
    "poly_features = poly.fit_transform(data_imputed)\n",
    "\n",
    "# Convert the result back to a DataFrame \n",
    "poly_features_df = pd.DataFrame(poly_features, columns=poly.get_feature_names_out(numerical_features))\n",
    "print(poly_features_df.head())\n"
   ]
  },
  {
   "cell_type": "markdown",
   "id": "cc471de1",
   "metadata": {},
   "source": [
    "### Handling Categorical Features"
   ]
  },
  {
   "cell_type": "markdown",
   "id": "32b93095",
   "metadata": {},
   "source": [
    "one-hot encoding"
   ]
  },
  {
   "cell_type": "code",
   "execution_count": 52,
   "id": "aaefdc56",
   "metadata": {},
   "outputs": [],
   "source": [
    "# Select categorical columns\n",
    "cat_cols = ['sex', 'embarked', 'class']\n",
    "encoded_df = pd.get_dummies(titanic, columns=cat_cols, drop_first=True)"
   ]
  },
  {
   "cell_type": "markdown",
   "id": "e4048075",
   "metadata": {},
   "source": [
    "LabelEncoder"
   ]
  },
  {
   "cell_type": "code",
   "execution_count": 54,
   "id": "5381cb6f",
   "metadata": {},
   "outputs": [],
   "source": [
    "from sklearn.preprocessing import LabelEncoder\n",
    "\n",
    "# Initialize LabelEncoder\n",
    "label_encoder = LabelEncoder()\n",
    "\n",
    "# Apply LabelEncoder to 'class'\n",
    "titanic['class_encoded'] = label_encoder.fit_transform(titanic['class'])\n"
   ]
  },
  {
   "cell_type": "markdown",
   "id": "5f1fe645",
   "metadata": {},
   "source": [
    "Convert the class column to numeric values using label encoding."
   ]
  },
  {
   "cell_type": "code",
   "execution_count": 60,
   "id": "819acf8d",
   "metadata": {},
   "outputs": [
    {
     "name": "stdout",
     "output_type": "stream",
     "text": [
      "   survived  pclass     sex   age  sibsp  parch     fare embarked  class  \\\n",
      "0         0       3    male  22.0      1      0   7.2500        S  Third   \n",
      "1         1       1  female  38.0      1      0  71.2833        C  First   \n",
      "2         1       3  female  26.0      0      0   7.9250        S  Third   \n",
      "3         1       1  female  35.0      1      0  53.1000        S  First   \n",
      "4         0       3    male  35.0      0      0   8.0500        S  Third   \n",
      "\n",
      "     who  adult_male  deck  embark_town alive  alone  class_encoded  \\\n",
      "0    man        True  None  Southampton    no  False              1   \n",
      "1  woman       False     C    Cherbourg   yes  False              0   \n",
      "2  woman       False  None  Southampton   yes   True              1   \n",
      "3  woman       False     C  Southampton   yes  False              0   \n",
      "4    man        True  None  Southampton    no   True              1   \n",
      "\n",
      "   alive_encoded  \n",
      "0       1.000000  \n",
      "1       0.333333  \n",
      "2       0.333333  \n",
      "3       0.333333  \n",
      "4       1.000000  \n"
     ]
    }
   ],
   "source": [
    "from sklearn.preprocessing import LabelEncoder\n",
    "\n",
    "data = {\n",
    "    'survived': [0, 1, 1, 1, 0],\n",
    "    'pclass': [3, 1, 3, 1, 3],\n",
    "    'sex': ['male', 'female', 'female', 'female', 'male'],\n",
    "    'age': [22.0, 38.0, 26.0, 35.0, 35.0],\n",
    "    'sibsp': [1, 1, 0, 1, 0],\n",
    "    'parch': [0, 0, 0, 0, 0],\n",
    "    'fare': [7.25, 71.2833, 7.925, 53.1, 8.05],\n",
    "    'embarked': ['S', 'C', 'S', 'S', 'S'],\n",
    "    'class': ['Third', 'First', 'Third', 'First', 'Third'],\n",
    "    'who': ['man', 'woman', 'woman', 'woman', 'man'],\n",
    "    'adult_male': [True, False, False, False, True],\n",
    "    'deck': [None, 'C', None, 'C', None],\n",
    "    'embark_town': ['Southampton', 'Cherbourg', 'Southampton', 'Southampton', 'Southampton'],\n",
    "    'alive': ['no', 'yes', 'yes', 'yes', 'no'],\n",
    "    'alone': [False, False, True, False, True]\n",
    "}\n",
    "\n",
    "label_encoder = LabelEncoder()\n",
    "titanic['class_encoded'] = label_encoder.fit_transform(titanic['class'])\n",
    "\n",
    "target_encoding_map = titanic.groupby('alive')['class_encoded'].mean().to_dict()\n",
    "titanic['alive_encoded'] = titanic['alive'].map(target_encoding_map)\n",
    "\n",
    "\n",
    "print(titanic)\n"
   ]
  },
  {
   "cell_type": "code",
   "execution_count": null,
   "id": "726d4abe",
   "metadata": {},
   "outputs": [],
   "source": []
  }
 ],
 "metadata": {
  "kernelspec": {
   "display_name": "Python 3 (ipykernel)",
   "language": "python",
   "name": "python3"
  },
  "language_info": {
   "codemirror_mode": {
    "name": "ipython",
    "version": 3
   },
   "file_extension": ".py",
   "mimetype": "text/x-python",
   "name": "python",
   "nbconvert_exporter": "python",
   "pygments_lexer": "ipython3",
   "version": "3.11.5"
  }
 },
 "nbformat": 4,
 "nbformat_minor": 5
}
