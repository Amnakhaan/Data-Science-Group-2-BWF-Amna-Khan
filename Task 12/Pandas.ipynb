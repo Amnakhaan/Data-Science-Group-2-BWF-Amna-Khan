{
 "cells": [
  {
   "cell_type": "markdown",
   "id": "04607b54",
   "metadata": {},
   "source": [
    "### Introduction to Pandas (Series, DataFrame basics)\n"
   ]
  },
  {
   "cell_type": "code",
   "execution_count": 4,
   "id": "b3186e71",
   "metadata": {},
   "outputs": [],
   "source": [
    "import pandas as pd\n",
    "import numpy as np"
   ]
  },
  {
   "cell_type": "code",
   "execution_count": 5,
   "id": "3d53dc21",
   "metadata": {},
   "outputs": [
    {
     "name": "stdout",
     "output_type": "stream",
     "text": [
      "0    10\n",
      "1    20\n",
      "2    30\n",
      "3    40\n",
      "4    50\n",
      "dtype: int64\n",
      "0    10\n",
      "1    20\n",
      "2    30\n",
      "3    40\n",
      "4    50\n",
      "dtype: int32\n",
      "a    10\n",
      "b    20\n",
      "c    30\n",
      "d    40\n",
      "e    50\n",
      "dtype: int64\n"
     ]
    }
   ],
   "source": [
    "# Creating a Series from a list,array,dictionary\n",
    "list1 = [10, 20, 30, 40, 50]\n",
    "series = pd.Series(list1)\n",
    "print(series)\n",
    "\n",
    "array = np.array([10, 20, 30, 40, 50])\n",
    "series = pd.Series(array)\n",
    "print(series)\n",
    "\n",
    "data_dict = {'a': 10, 'b': 20, 'c': 30, 'd': 40, 'e': 50}\n",
    "series = pd.Series(data_dict)\n",
    "print(series)"
   ]
  },
  {
   "cell_type": "code",
   "execution_count": 6,
   "id": "5985f2a6",
   "metadata": {},
   "outputs": [
    {
     "name": "stdout",
     "output_type": "stream",
     "text": [
      "A    10\n",
      "B    20\n",
      "C    30\n",
      "D    40\n",
      "E    50\n",
      "dtype: int64\n"
     ]
    }
   ],
   "source": [
    "custom_index = pd.Series(list1, index=['A', 'B', 'C', 'D', 'E'])\n",
    "print(custom_index)"
   ]
  },
  {
   "cell_type": "code",
   "execution_count": 7,
   "id": "09e90608",
   "metadata": {},
   "outputs": [
    {
     "name": "stdout",
     "output_type": "stream",
     "text": [
      "0    5\n",
      "1    7\n",
      "2    9\n",
      "dtype: int64\n",
      "0   -3\n",
      "1   -3\n",
      "2   -3\n",
      "dtype: int64\n",
      "0     4\n",
      "1    10\n",
      "2    18\n",
      "dtype: int64\n",
      "0    0.25\n",
      "1    0.40\n",
      "2    0.50\n",
      "dtype: float64\n"
     ]
    }
   ],
   "source": [
    "# Arithmetic operations\n",
    "series1 = pd.Series([1, 2, 3])\n",
    "series2 = pd.Series([4, 5, 6])\n",
    "\n",
    "# Addition\n",
    "print(series1 + series2)\n",
    "\n",
    "# Subtraction\n",
    "print(series1 - series2)\n",
    "\n",
    "# Multiplication\n",
    "print(series1 * series2)\n",
    "\n",
    "# Division\n",
    "print(series1 / series2)\n"
   ]
  },
  {
   "cell_type": "code",
   "execution_count": 8,
   "id": "b4a3a59f",
   "metadata": {},
   "outputs": [
    {
     "name": "stdout",
     "output_type": "stream",
     "text": [
      "20\n",
      "20\n"
     ]
    }
   ],
   "source": [
    "#using index labels\n",
    "print(custom_index['B'])\n",
    "\n",
    "#using position\n",
    "print(custom_index[1])\n"
   ]
  },
  {
   "cell_type": "code",
   "execution_count": 9,
   "id": "b826fd2e",
   "metadata": {},
   "outputs": [
    {
     "name": "stdout",
     "output_type": "stream",
     "text": [
      "D    40\n",
      "E    50\n",
      "dtype: int64\n"
     ]
    }
   ],
   "source": [
    "#threshold = 30 here\n",
    "filtered_series = custom_index[custom_index > 30]\n",
    "print(filtered_series)"
   ]
  },
  {
   "cell_type": "markdown",
   "id": "712d8e94",
   "metadata": {},
   "source": [
    "#### Create DataFrames"
   ]
  },
  {
   "cell_type": "code",
   "execution_count": 10,
   "id": "0cb5d211",
   "metadata": {},
   "outputs": [
    {
     "name": "stdout",
     "output_type": "stream",
     "text": [
      "     Name  Age       City\n",
      "0    Amna   20  Islamabad\n",
      "1  Hareem   21   Sargodha\n",
      "2  Noreen   21    KhanPur\n",
      "3   Faiza   20      Kabul\n"
     ]
    }
   ],
   "source": [
    "data = {'Name': ['Amna', 'Hareem', 'Noreen', 'Faiza'],\n",
    "    'Age': [20, 21, 21, 20],\n",
    "    'City': ['Islamabad', 'Sargodha', 'KhanPur', 'Kabul']}\n",
    "df_from_dict = pd.DataFrame(data)\n",
    "print(df_from_dict)"
   ]
  },
  {
   "cell_type": "code",
   "execution_count": 11,
   "id": "2851e62a",
   "metadata": {},
   "outputs": [
    {
     "name": "stdout",
     "output_type": "stream",
     "text": [
      "       Age       City\n",
      "Amna    20  Islamabad\n",
      "Hareem  21   Sargodha\n",
      "Noreen  21    KhanPur\n",
      "Kabul   20      Kabul\n"
     ]
    }
   ],
   "source": [
    "# numpy array\n",
    "data_array = np.array([[20, 'Islamabad'], [21, 'Sargodha'], [21, 'KhanPur'], [20, 'Kabul']])\n",
    "df_from_array = pd.DataFrame(data_array, columns=['Age', 'City'], index=['Amna', 'Hareem', 'Noreen', 'Kabul'])\n",
    "print(df_from_array)"
   ]
  },
  {
   "cell_type": "code",
   "execution_count": 31,
   "id": "c5a86212",
   "metadata": {},
   "outputs": [
    {
     "name": "stdout",
     "output_type": "stream",
     "text": [
      "   ID     Name  Age  Score          City\n",
      "0   1     Amna   23     85     Islamabad\n",
      "1   2   Bushra   27     90        Lahore\n",
      "2   3   kareem   22     70  Chicha watni\n",
      "3   4    Daood   25     88    Haiderabad\n",
      "4   5    Elina   28     95      Peshawar\n",
      "5   6    Farah   24     80          Peru\n",
      "6   7     Gull   29     92        Sharda\n",
      "7   8    Hamna   26     78        Shimla\n",
      "8   9     Irum   21     74           Dam\n",
      "9  10  Javeria   23     84       Sialkot\n"
     ]
    }
   ],
   "source": [
    "# Sample data\n",
    "data = {\n",
    "    'ID': [1, 2, 3, 4, 5, 6, 7, 8, 9, 10],\n",
    "    'Name': ['Amna', 'Bushra', 'kareem', 'Daood', 'Elina', 'Farah', 'Gull', 'Hamna', 'Irum', 'Javeria'],\n",
    "    'Age': [23, 27, 22, 25, 28, 24, 29, 26, 21, 23],\n",
    "    'Score': [85, 90, 70, 88, 95, 80, 92, 78, 74, 84],\n",
    "    'City': ['Islamabad', 'Lahore', 'Chicha watni', 'Haiderabad', 'Peshawar', 'Peru', 'Sharda', 'Shimla', 'Dam', 'Sialkot']\n",
    "}\n",
    "\n",
    "# Creating DataFrame\n",
    "df = pd.DataFrame(data)\n",
    "\n",
    "# Saving to CSV\n",
    "csv_file_path = 'C:/Users/Abid Khan/Desktop/BWF_DS/Task 12/dataset.csv'\n",
    "df.to_csv(csv_file_path, index=False)\n",
    "\n",
    "# Loading the DataFrame from the CSV file\n",
    "df_loaded = pd.read_csv(csv_file_path)\n",
    "print(df_loaded)"
   ]
  },
  {
   "cell_type": "code",
   "execution_count": 35,
   "id": "d5f5aa7d",
   "metadata": {},
   "outputs": [
    {
     "name": "stdout",
     "output_type": "stream",
     "text": [
      "   ID  Name  Age  Score       City\n",
      "0   1  Amna   23     85  Islamabad\n",
      "\n",
      "\n",
      "\n",
      "   ID     Name  Age  Score     City\n",
      "9  10  Javeria   23     84  Sialkot\n"
     ]
    }
   ],
   "source": [
    "# Display the first five rows\n",
    "print(df_loaded.head(1))\n",
    "print(\"\\n\\n\")\n",
    "# Display the last five rows\n",
    "print(df_loaded.tail(1))"
   ]
  },
  {
   "cell_type": "code",
   "execution_count": 38,
   "id": "f06ced54",
   "metadata": {},
   "outputs": [
    {
     "name": "stdout",
     "output_type": "stream",
     "text": [
      "\n",
      "Summary of the DataFrame:\n",
      "              ID       Age      Score\n",
      "count   10.00000  10.00000  10.000000\n",
      "mean     5.50000  24.80000  83.600000\n",
      "std      3.02765   2.65832   8.058122\n",
      "min      1.00000  21.00000  70.000000\n",
      "25%      3.25000  23.00000  78.500000\n",
      "50%      5.50000  24.50000  84.500000\n",
      "75%      7.75000  26.75000  89.500000\n",
      "max     10.00000  29.00000  95.000000\n",
      "median   5.50000  24.50000  84.500000\n"
     ]
    }
   ],
   "source": [
    "summary = df_loaded.describe()\n",
    "summary.loc['median'] = df_loaded.median(numeric_only=True)\n",
    "print(\"\\nSummary of the DataFrame:\")\n",
    "print(summary)\n"
   ]
  },
  {
   "cell_type": "code",
   "execution_count": 42,
   "id": "f82b8ef3",
   "metadata": {},
   "outputs": [
    {
     "name": "stdout",
     "output_type": "stream",
     "text": [
      "\n",
      "Age column as a Series:\n",
      "0    23\n",
      "1    27\n",
      "2    22\n",
      "3    25\n",
      "4    28\n",
      "5    24\n",
      "6    29\n",
      "7    26\n",
      "8    21\n",
      "9    23\n",
      "Name: Age, dtype: int64\n",
      "\n",
      "Rows where Age > 25:\n",
      "   ID    Name  Age  Score      City\n",
      "1   2  Bushra   27     90    Lahore\n",
      "4   5   Elina   28     95  Peshawar\n",
      "6   7    Gull   29     92    Sharda\n",
      "7   8   Hamna   26     78    Shimla\n",
      "\n",
      "Rows where Age > 25 and Score > 80:\n",
      "   ID    Name  Age  Score      City\n",
      "1   2  Bushra   27     90    Lahore\n",
      "4   5   Elina   28     95  Peshawar\n",
      "6   7    Gull   29     92    Sharda\n"
     ]
    }
   ],
   "source": [
    "# Extracting a column as a Series\n",
    "age_series = df_loaded['Age']\n",
    "print(\"\\nAge column as a Series:\")\n",
    "print(age_series)\n",
    "\n",
    "\n",
    "# Filtering rows \n",
    "filtered_df = df_loaded[df_loaded['Age'] > 25]\n",
    "print(\"\\nRows where Age > 25:\")\n",
    "print(filtered_df)\n",
    "\n",
    "# Both\n",
    "filtered_df_multiple_conditions = df_loaded[(df_loaded['Age'] > 25) & (df_loaded['Score'] > 80)]\n",
    "print(\"\\nRows where Age > 25 and Score > 80:\")\n",
    "print(filtered_df_multiple_conditions)"
   ]
  },
  {
   "cell_type": "code",
   "execution_count": 44,
   "id": "e5c6215d",
   "metadata": {},
   "outputs": [
    {
     "name": "stdout",
     "output_type": "stream",
     "text": [
      "\n",
      "DataFrame after adding 'Pass' column:\n",
      "   ID     Name  Age  Score          City   Pass\n",
      "0   1     Amna   23     85     Islamabad   True\n",
      "1   2   Bushra   27     90        Lahore   True\n",
      "2   3   kareem   22     70  Chicha watni  False\n",
      "3   4    Daood   25     88    Haiderabad   True\n",
      "4   5    Elina   28     95      Peshawar   True\n",
      "5   6    Farah   24     80          Peru   True\n",
      "6   7     Gull   29     92        Sharda   True\n",
      "7   8    Hamna   26     78        Shimla   True\n",
      "8   9     Irum   21     74           Dam  False\n",
      "9  10  Javeria   23     84       Sialkot   True\n",
      "\n",
      "DataFrame after deleting 'City' column:\n",
      "   ID     Name  Age  Score   Pass\n",
      "0   1     Amna   23     85   True\n",
      "1   2   Bushra   27     90   True\n",
      "2   3   kareem   22     70  False\n",
      "3   4    Daood   25     88   True\n",
      "4   5    Elina   28     95   True\n",
      "5   6    Farah   24     80   True\n",
      "6   7     Gull   29     92   True\n",
      "7   8    Hamna   26     78   True\n",
      "8   9     Irum   21     74  False\n",
      "9  10  Javeria   23     84   True\n"
     ]
    }
   ],
   "source": [
    "df_loaded['Pass'] = df_loaded['Score'] >= 75\n",
    "print(\"\\nDataFrame after adding 'Pass' column:\")\n",
    "print(df_loaded)\n",
    "\n",
    "df_loaded.drop('City', axis=1, inplace=True)\n",
    "print(\"\\nDataFrame after deleting 'City' column:\")\n",
    "print(df_loaded)"
   ]
  },
  {
   "cell_type": "code",
   "execution_count": 48,
   "id": "50296756",
   "metadata": {},
   "outputs": [
    {
     "name": "stdout",
     "output_type": "stream",
     "text": [
      "\n",
      "DataFrame after renaming columns:\n",
      "   ID FullName  Years  TestScore   Pass\n",
      "0   1     Amna     23         85   True\n",
      "1   2   Bushra     27         90   True\n",
      "2   3   kareem     22         70  False\n",
      "3   4    Daood     25         88   True\n",
      "4   5    Elina     28         95   True\n",
      "5   6    Farah     24         80   True\n",
      "6   7     Gull     29         92   True\n",
      "7   8    Hamna     26         78   True\n",
      "8   9     Irum     21         74  False\n",
      "9  10  Javeria     23         84   True\n"
     ]
    }
   ],
   "source": [
    "# Renaming columns in the DataFrame\n",
    "df_loaded.rename(columns={'Name': 'First Name', 'Age': 'Years', 'Score': 'TestScore'}, inplace=True)\n",
    "print(\"\\nDataFrame after renaming columns:\")\n",
    "print(df_loaded)"
   ]
  },
  {
   "cell_type": "code",
   "execution_count": null,
   "id": "54d41b49",
   "metadata": {},
   "outputs": [],
   "source": []
  }
 ],
 "metadata": {
  "kernelspec": {
   "display_name": "Python 3 (ipykernel)",
   "language": "python",
   "name": "python3"
  },
  "language_info": {
   "codemirror_mode": {
    "name": "ipython",
    "version": 3
   },
   "file_extension": ".py",
   "mimetype": "text/x-python",
   "name": "python",
   "nbconvert_exporter": "python",
   "pygments_lexer": "ipython3",
   "version": "3.11.5"
  }
 },
 "nbformat": 4,
 "nbformat_minor": 5
}
