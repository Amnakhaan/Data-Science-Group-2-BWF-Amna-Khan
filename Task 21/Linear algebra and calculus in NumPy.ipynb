{
 "cells": [
  {
   "cell_type": "markdown",
   "id": "a9990750",
   "metadata": {},
   "source": [
    "### Linear Algebra"
   ]
  },
  {
   "cell_type": "code",
   "execution_count": 1,
   "id": "768dee75",
   "metadata": {},
   "outputs": [
    {
     "name": "stdout",
     "output_type": "stream",
     "text": [
      "Zero Matrix:\n",
      " [[0. 0. 0.]\n",
      " [0. 0. 0.]\n",
      " [0. 0. 0.]]\n",
      "\n",
      "Identity Matrix:\n",
      " [[1. 0. 0.]\n",
      " [0. 1. 0.]\n",
      " [0. 0. 1.]]\n",
      "\n",
      "Random Matrix:\n",
      " [[0.89066611 0.19038602 0.81390163]\n",
      " [0.91533165 0.77836764 0.22467622]\n",
      " [0.76895899 0.35243025 0.27702523]]\n"
     ]
    }
   ],
   "source": [
    "import numpy as np\n",
    "\n",
    "zero_matrix = np.zeros((3, 3))\n",
    "print(\"Zero Matrix:\\n\", zero_matrix)\n",
    "\n",
    "identity_matrix = np.eye(3)\n",
    "print(\"\\nIdentity Matrix:\\n\", identity_matrix)\n",
    "\n",
    "random_matrix = np.random.rand(3, 3)\n",
    "print(\"\\nRandom Matrix:\\n\", random_matrix)\n"
   ]
  },
  {
   "cell_type": "markdown",
   "id": "f2d39486",
   "metadata": {},
   "source": [
    "#### Matrices operations"
   ]
  },
  {
   "cell_type": "code",
   "execution_count": 3,
   "id": "7b94638e",
   "metadata": {},
   "outputs": [
    {
     "name": "stdout",
     "output_type": "stream",
     "text": [
      "\n",
      "Addition:\n",
      " [[10 10 10]\n",
      " [10 10 10]\n",
      " [10 10 10]]\n",
      "\n",
      "Subtraction:\n",
      " [[-8 -6 -4]\n",
      " [-2  0  2]\n",
      " [ 4  6  8]]\n",
      "\n",
      "Element-wise Multiplication:\n",
      " [[ 9 16 21]\n",
      " [24 25 24]\n",
      " [21 16  9]]\n",
      "\n",
      "Matrix Multiplication:\n",
      " [[ 30  24  18]\n",
      " [ 84  69  54]\n",
      " [138 114  90]]\n"
     ]
    }
   ],
   "source": [
    "A = np.array([[1, 2, 3], [4, 5, 6], [7, 8, 9]])\n",
    "B = np.array([[9, 8, 7], [6, 5, 4], [3, 2, 1]])\n",
    "\n",
    "addition = A + B\n",
    "print(\"\\nAddition:\\n\", addition)\n",
    "\n",
    "subtraction = A - B\n",
    "print(\"\\nSubtraction:\\n\", subtraction)\n",
    "\n",
    "# element-wise multiplication\n",
    "multiplication = A * B\n",
    "print(\"\\nElement-wise Multiplication:\\n\", multiplication)\n",
    "\n",
    "matrix_multiplication = np.dot(A, B)\n",
    "print(\"\\nMatrix Multiplication:\\n\", matrix_multiplication)\n"
   ]
  },
  {
   "cell_type": "markdown",
   "id": "7e1af86b",
   "metadata": {},
   "source": [
    "#### Transpose, Determinant, Inverse"
   ]
  },
  {
   "cell_type": "code",
   "execution_count": 9,
   "id": "15f8f979",
   "metadata": {},
   "outputs": [
    {
     "name": "stdout",
     "output_type": "stream",
     "text": [
      "\n",
      "Transpose of A:\n",
      " [[1 4 7]\n",
      " [2 5 8]\n",
      " [3 6 9]]\n",
      "\n",
      "Determinant of A: -9.51619735392994e-16\n",
      "\n",
      "Inverse of C:\n",
      " [[-24.  18.   5.]\n",
      " [ 20. -15.  -4.]\n",
      " [ -5.   4.   1.]]\n"
     ]
    }
   ],
   "source": [
    "transpose_A = A.T\n",
    "print(\"\\nTranspose of A:\\n\", transpose_A)\n",
    "\n",
    "det_A = np.linalg.det(A)\n",
    "print(\"\\nDeterminant of A:\", det_A)\n",
    "\n",
    "C = np.array([[1, 2, 3], [0, 1, 4], [5, 6, 0]])\n",
    "inverse_C = np.linalg.inv(C)\n",
    "print(\"\\nInverse of C:\\n\", inverse_C)"
   ]
  },
  {
   "cell_type": "markdown",
   "id": "a543870d",
   "metadata": {},
   "source": [
    "#### Implement matrix factorization methods"
   ]
  },
  {
   "cell_type": "code",
   "execution_count": 10,
   "id": "882f0d0c",
   "metadata": {},
   "outputs": [
    {
     "name": "stdout",
     "output_type": "stream",
     "text": [
      "LU Decomposition:\n",
      "P:\n",
      " [[0. 1. 0.]\n",
      " [0. 0. 1.]\n",
      " [1. 0. 0.]] \n",
      "L:\n",
      " [[1.         0.         0.        ]\n",
      " [0.14285714 1.         0.        ]\n",
      " [0.57142857 0.5        1.        ]] \n",
      "U:\n",
      " [[ 7.00000000e+00  8.00000000e+00  9.00000000e+00]\n",
      " [ 0.00000000e+00  8.57142857e-01  1.71428571e+00]\n",
      " [ 0.00000000e+00  0.00000000e+00 -1.58603289e-16]]\n",
      "QR Decomposition:\n",
      "Q:\n",
      " [[-0.12309149  0.90453403  0.40824829]\n",
      " [-0.49236596  0.30151134 -0.81649658]\n",
      " [-0.86164044 -0.30151134  0.40824829]] \n",
      "R:\n",
      " [[-8.12403840e+00 -9.60113630e+00 -1.10782342e+01]\n",
      " [ 0.00000000e+00  9.04534034e-01  1.80906807e+00]\n",
      " [ 0.00000000e+00  0.00000000e+00 -1.11164740e-15]]\n"
     ]
    }
   ],
   "source": [
    "# LU Decomposition\n",
    "import scipy.linalg\n",
    "\n",
    "P, L, U = scipy.linalg.lu(A)\n",
    "print(\"LU Decomposition:\\nP:\\n\", P, \"\\nL:\\n\", L, \"\\nU:\\n\", U)\n",
    "\n",
    "# QR Decomposition\n",
    "Q, R = np.linalg.qr(A)\n",
    "print(\"QR Decomposition:\\nQ:\\n\", Q, \"\\nR:\\n\", R)\n"
   ]
  },
  {
   "cell_type": "markdown",
   "id": "68ef20bd",
   "metadata": {},
   "source": [
    "#### Eigenvalues and eigenvectors"
   ]
  },
  {
   "cell_type": "code",
   "execution_count": 15,
   "id": "204e706d",
   "metadata": {},
   "outputs": [
    {
     "name": "stdout",
     "output_type": "stream",
     "text": [
      "Eigenvalues:\n",
      " [ 1.74940261 -0.1798363   0.37649267]\n",
      "Eigenvectors:\n",
      " [[-0.58779527 -0.59731165  0.41117866]\n",
      " [-0.66175486  0.40879718 -0.91035208]\n",
      " [-0.46537858  0.69000266 -0.04681013]]\n"
     ]
    }
   ],
   "source": [
    "eigenvalues, eigenvectors = np.linalg.eig(random_matrix)\n",
    "\n",
    "print(\"Eigenvalues:\\n\", eigenvalues)\n",
    "print(\"Eigenvectors:\\n\", eigenvectors)\n"
   ]
  },
  {
   "cell_type": "markdown",
   "id": "88e95a91",
   "metadata": {},
   "source": [
    "#### Matrix Decomposition"
   ]
  },
  {
   "cell_type": "code",
   "execution_count": 16,
   "id": "d4d00998",
   "metadata": {},
   "outputs": [
    {
     "name": "stdout",
     "output_type": "stream",
     "text": [
      "Principal Components:\n",
      " [[-0.50985226  0.35741887 -0.18084235  0.20479103 -0.73325241]\n",
      " [-0.51852609  0.1445345  -0.53646063  0.19877161  0.61882171]\n",
      " [-0.48132727  0.32722052  0.72862941 -0.27072355  0.23886969]\n",
      " [ 0.46491472  0.7542749   0.08156733  0.43267739  0.14512313]\n",
      " [-0.15283887 -0.41875725  0.37676516  0.81120251  0.03579313]]\n"
     ]
    }
   ],
   "source": [
    "# Data matrix\n",
    "data_matrix = np.random.rand(10, 5)\n",
    "\n",
    "# Mean centering\n",
    "data_matrix_centered = data_matrix - np.mean(data_matrix, axis=0)\n",
    "\n",
    "# SVD\n",
    "U, S, Vt = np.linalg.svd(data_matrix_centered, full_matrices=False)\n",
    "\n",
    "# PCA\n",
    "principal_components = Vt.T\n",
    "\n",
    "print(\"Principal Components:\\n\", principal_components)\n"
   ]
  },
  {
   "cell_type": "markdown",
   "id": "4487b384",
   "metadata": {},
   "source": [
    "### Calculus"
   ]
  },
  {
   "cell_type": "markdown",
   "id": "bed9d898",
   "metadata": {},
   "source": [
    "#### Numerical Differentiation"
   ]
  },
  {
   "cell_type": "code",
   "execution_count": 17,
   "id": "f304c6b2",
   "metadata": {},
   "outputs": [
    {
     "name": "stdout",
     "output_type": "stream",
     "text": [
      "Numerical Derivative:\n",
      " [ 0.1010101   0.2020202   0.4040404   0.60606061  0.80808081  1.01010101\n",
      "  1.21212121  1.41414141  1.61616162  1.81818182  2.02020202  2.22222222\n",
      "  2.42424242  2.62626263  2.82828283  3.03030303  3.23232323  3.43434343\n",
      "  3.63636364  3.83838384  4.04040404  4.24242424  4.44444444  4.64646465\n",
      "  4.84848485  5.05050505  5.25252525  5.45454545  5.65656566  5.85858586\n",
      "  6.06060606  6.26262626  6.46464646  6.66666667  6.86868687  7.07070707\n",
      "  7.27272727  7.47474747  7.67676768  7.87878788  8.08080808  8.28282828\n",
      "  8.48484848  8.68686869  8.88888889  9.09090909  9.29292929  9.49494949\n",
      "  9.6969697   9.8989899  10.1010101  10.3030303  10.50505051 10.70707071\n",
      " 10.90909091 11.11111111 11.31313131 11.51515152 11.71717172 11.91919192\n",
      " 12.12121212 12.32323232 12.52525253 12.72727273 12.92929293 13.13131313\n",
      " 13.33333333 13.53535354 13.73737374 13.93939394 14.14141414 14.34343434\n",
      " 14.54545455 14.74747475 14.94949495 15.15151515 15.35353535 15.55555556\n",
      " 15.75757576 15.95959596 16.16161616 16.36363636 16.56565657 16.76767677\n",
      " 16.96969697 17.17171717 17.37373737 17.57575758 17.77777778 17.97979798\n",
      " 18.18181818 18.38383838 18.58585859 18.78787879 18.98989899 19.19191919\n",
      " 19.39393939 19.5959596  19.7979798  19.8989899 ]\n"
     ]
    }
   ],
   "source": [
    "def f(x):\n",
    "    return x**2\n",
    "\n",
    "\n",
    "x = np.linspace(0, 10, 100)\n",
    "dx = x[1] - x[0]\n",
    "numerical_derivative = np.gradient(f(x), dx)\n",
    "\n",
    "print(\"Numerical Derivative:\\n\", numerical_derivative)\n"
   ]
  },
  {
   "cell_type": "markdown",
   "id": "1dbdab5c",
   "metadata": {},
   "source": [
    "#### Implement forward, backward, and central difference methods"
   ]
  },
  {
   "cell_type": "code",
   "execution_count": 19,
   "id": "ca3bb6ff",
   "metadata": {},
   "outputs": [
    {
     "name": "stdout",
     "output_type": "stream",
     "text": [
      "Forward Difference:\n",
      " [ 0.1010101   0.3030303   0.50505051  0.70707071  0.90909091  1.11111111\n",
      "  1.31313131  1.51515152  1.71717172  1.91919192  2.12121212  2.32323232\n",
      "  2.52525253  2.72727273  2.92929293  3.13131313  3.33333333  3.53535354\n",
      "  3.73737374  3.93939394  4.14141414  4.34343434  4.54545455  4.74747475\n",
      "  4.94949495  5.15151515  5.35353535  5.55555556  5.75757576  5.95959596\n",
      "  6.16161616  6.36363636  6.56565657  6.76767677  6.96969697  7.17171717\n",
      "  7.37373737  7.57575758  7.77777778  7.97979798  8.18181818  8.38383838\n",
      "  8.58585859  8.78787879  8.98989899  9.19191919  9.39393939  9.5959596\n",
      "  9.7979798  10.         10.2020202  10.4040404  10.60606061 10.80808081\n",
      " 11.01010101 11.21212121 11.41414141 11.61616162 11.81818182 12.02020202\n",
      " 12.22222222 12.42424242 12.62626263 12.82828283 13.03030303 13.23232323\n",
      " 13.43434343 13.63636364 13.83838384 14.04040404 14.24242424 14.44444444\n",
      " 14.64646465 14.84848485 15.05050505 15.25252525 15.45454545 15.65656566\n",
      " 15.85858586 16.06060606 16.26262626 16.46464646 16.66666667 16.86868687\n",
      " 17.07070707 17.27272727 17.47474747 17.67676768 17.87878788 18.08080808\n",
      " 18.28282828 18.48484848 18.68686869 18.88888889 19.09090909 19.29292929\n",
      " 19.49494949 19.6969697  19.8989899  20.1010101 ]\n",
      "Backward Difference:\n",
      " [-0.1010101   0.1010101   0.3030303   0.50505051  0.70707071  0.90909091\n",
      "  1.11111111  1.31313131  1.51515152  1.71717172  1.91919192  2.12121212\n",
      "  2.32323232  2.52525253  2.72727273  2.92929293  3.13131313  3.33333333\n",
      "  3.53535354  3.73737374  3.93939394  4.14141414  4.34343434  4.54545455\n",
      "  4.74747475  4.94949495  5.15151515  5.35353535  5.55555556  5.75757576\n",
      "  5.95959596  6.16161616  6.36363636  6.56565657  6.76767677  6.96969697\n",
      "  7.17171717  7.37373737  7.57575758  7.77777778  7.97979798  8.18181818\n",
      "  8.38383838  8.58585859  8.78787879  8.98989899  9.19191919  9.39393939\n",
      "  9.5959596   9.7979798  10.         10.2020202  10.4040404  10.60606061\n",
      " 10.80808081 11.01010101 11.21212121 11.41414141 11.61616162 11.81818182\n",
      " 12.02020202 12.22222222 12.42424242 12.62626263 12.82828283 13.03030303\n",
      " 13.23232323 13.43434343 13.63636364 13.83838384 14.04040404 14.24242424\n",
      " 14.44444444 14.64646465 14.84848485 15.05050505 15.25252525 15.45454545\n",
      " 15.65656566 15.85858586 16.06060606 16.26262626 16.46464646 16.66666667\n",
      " 16.86868687 17.07070707 17.27272727 17.47474747 17.67676768 17.87878788\n",
      " 18.08080808 18.28282828 18.48484848 18.68686869 18.88888889 19.09090909\n",
      " 19.29292929 19.49494949 19.6969697  19.8989899 ]\n",
      "Central Difference:\n",
      " [ 0.          0.2020202   0.4040404   0.60606061  0.80808081  1.01010101\n",
      "  1.21212121  1.41414141  1.61616162  1.81818182  2.02020202  2.22222222\n",
      "  2.42424242  2.62626263  2.82828283  3.03030303  3.23232323  3.43434343\n",
      "  3.63636364  3.83838384  4.04040404  4.24242424  4.44444444  4.64646465\n",
      "  4.84848485  5.05050505  5.25252525  5.45454545  5.65656566  5.85858586\n",
      "  6.06060606  6.26262626  6.46464646  6.66666667  6.86868687  7.07070707\n",
      "  7.27272727  7.47474747  7.67676768  7.87878788  8.08080808  8.28282828\n",
      "  8.48484848  8.68686869  8.88888889  9.09090909  9.29292929  9.49494949\n",
      "  9.6969697   9.8989899  10.1010101  10.3030303  10.50505051 10.70707071\n",
      " 10.90909091 11.11111111 11.31313131 11.51515152 11.71717172 11.91919192\n",
      " 12.12121212 12.32323232 12.52525253 12.72727273 12.92929293 13.13131313\n",
      " 13.33333333 13.53535354 13.73737374 13.93939394 14.14141414 14.34343434\n",
      " 14.54545455 14.74747475 14.94949495 15.15151515 15.35353535 15.55555556\n",
      " 15.75757576 15.95959596 16.16161616 16.36363636 16.56565657 16.76767677\n",
      " 16.96969697 17.17171717 17.37373737 17.57575758 17.77777778 17.97979798\n",
      " 18.18181818 18.38383838 18.58585859 18.78787879 18.98989899 19.19191919\n",
      " 19.39393939 19.5959596  19.7979798  20.        ]\n"
     ]
    }
   ],
   "source": [
    "forward_difference = (f(x + dx) - f(x)) / dx\n",
    "\n",
    "backward_difference = (f(x) - f(x - dx)) / dx\n",
    "\n",
    "central_difference = (f(x + dx) - f(x - dx)) / (2 * dx)\n",
    "\n",
    "print(\"Forward Difference:\\n\", forward_difference)\n",
    "print(\"Backward Difference:\\n\", backward_difference)\n",
    "print(\"Central Difference:\\n\", central_difference)\n"
   ]
  },
  {
   "cell_type": "markdown",
   "id": "7a80df2d",
   "metadata": {},
   "source": [
    "#### Numerical Integration"
   ]
  },
  {
   "cell_type": "markdown",
   "id": "1b0f4a5b",
   "metadata": {},
   "source": [
    "#### Trapezoidal rule for integration"
   ]
  },
  {
   "cell_type": "code",
   "execution_count": 23,
   "id": "e8e12919",
   "metadata": {},
   "outputs": [
    {
     "name": "stdout",
     "output_type": "stream",
     "text": [
      "Integral (Trapezoidal Rule):  1.8375075863321546\n"
     ]
    }
   ],
   "source": [
    "def g(x):\n",
    "    return np.sin(x)\n",
    "\n",
    "integral_trapezoidal = np.trapz(g(x), x)\n",
    "\n",
    "print(\"Integral (Trapezoidal Rule): \", integral_trapezoidal)\n"
   ]
  },
  {
   "cell_type": "markdown",
   "id": "b2de0452",
   "metadata": {},
   "source": [
    "#### Simpson's rule for integration"
   ]
  },
  {
   "cell_type": "code",
   "execution_count": 24,
   "id": "043e33c5",
   "metadata": {},
   "outputs": [
    {
     "name": "stdout",
     "output_type": "stream",
     "text": [
      "Integral (Simpson's Rule):  1.8390764529333192\n"
     ]
    }
   ],
   "source": [
    "integral_simpsons = scipy.integrate.simps(g(x), x)\n",
    "print(\"Integral (Simpson's Rule): \", integral_simpsons)"
   ]
  },
  {
   "cell_type": "markdown",
   "id": "84b480ab",
   "metadata": {},
   "source": [
    "### Partial derivative"
   ]
  },
  {
   "cell_type": "code",
   "execution_count": 25,
   "id": "7890e432",
   "metadata": {},
   "outputs": [
    {
     "name": "stdout",
     "output_type": "stream",
     "text": [
      "Partial Derivative w.r.t. x:\n",
      " [[-19.99999    -19.5959496  -19.19190919 ...  19.19192919  19.5959696\n",
      "   20.00001   ]\n",
      " [-19.99999    -19.5959496  -19.19190919 ...  19.19192919  19.5959696\n",
      "   20.00001   ]\n",
      " [-19.99999    -19.5959496  -19.19190919 ...  19.19192919  19.5959696\n",
      "   20.00001   ]\n",
      " ...\n",
      " [-19.99999    -19.5959496  -19.19190919 ...  19.19192919  19.5959696\n",
      "   20.00001   ]\n",
      " [-19.99999    -19.5959496  -19.19190919 ...  19.19192919  19.5959696\n",
      "   20.00001   ]\n",
      " [-19.99999    -19.5959496  -19.19190919 ...  19.19192919  19.5959696\n",
      "   20.00001   ]]\n",
      "Partial Derivative w.r.t. y:\n",
      " [[-19.99999    -19.99999    -19.99999    ... -19.99999    -19.99999\n",
      "  -19.99999   ]\n",
      " [-19.5959496  -19.5959496  -19.5959496  ... -19.5959496  -19.5959496\n",
      "  -19.5959496 ]\n",
      " [-19.19190919 -19.19190919 -19.19190919 ... -19.19190919 -19.19190919\n",
      "  -19.19190919]\n",
      " ...\n",
      " [ 19.19192919  19.19192919  19.19192919 ...  19.19192919  19.19192919\n",
      "   19.19192919]\n",
      " [ 19.5959696   19.5959696   19.5959696  ...  19.5959696   19.5959696\n",
      "   19.5959696 ]\n",
      " [ 20.00001     20.00001     20.00001    ...  20.00001     20.00001\n",
      "   20.00001   ]]\n"
     ]
    }
   ],
   "source": [
    "def h(x, y): # Multivariable function\n",
    "    return x**2 + y**2\n",
    "\n",
    "# with respect to x\n",
    "def partial_x(x, y, dx=1e-5):\n",
    "    return (h(x + dx, y) - h(x, y)) / dx\n",
    "\n",
    "# with respect to y\n",
    "def partial_y(x, y, dy=1e-5):\n",
    "    return (h(x, y + dy) - h(x, y)) / dy\n",
    "\n",
    "\n",
    "x, y = np.meshgrid(np.linspace(-10, 10, 100), np.linspace(-10, 10, 100))\n",
    "partial_x_result = partial_x(x, y)\n",
    "partial_y_result = partial_y(x, y)\n",
    "\n",
    "print(\"Partial Derivative w.r.t. x:\\n\", partial_x_result)\n",
    "print(\"Partial Derivative w.r.t. y:\\n\", partial_y_result)\n"
   ]
  },
  {
   "cell_type": "code",
   "execution_count": null,
   "id": "f1a349a7",
   "metadata": {},
   "outputs": [],
   "source": []
  }
 ],
 "metadata": {
  "kernelspec": {
   "display_name": "Python 3 (ipykernel)",
   "language": "python",
   "name": "python3"
  },
  "language_info": {
   "codemirror_mode": {
    "name": "ipython",
    "version": 3
   },
   "file_extension": ".py",
   "mimetype": "text/x-python",
   "name": "python",
   "nbconvert_exporter": "python",
   "pygments_lexer": "ipython3",
   "version": "3.11.5"
  }
 },
 "nbformat": 4,
 "nbformat_minor": 5
}
