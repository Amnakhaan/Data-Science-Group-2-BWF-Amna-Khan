{
 "cells": [
  {
   "cell_type": "markdown",
   "id": "5c30d983",
   "metadata": {},
   "source": [
    "### Task 5: If conditions, for loops, while loops, and functions using Python. "
   ]
  },
  {
   "cell_type": "markdown",
   "id": "eb6f3c7f",
   "metadata": {},
   "source": [
    "#### Variations of for and while loops"
   ]
  },
  {
   "cell_type": "code",
   "execution_count": 3,
   "id": "c17e0d2b",
   "metadata": {},
   "outputs": [
    {
     "name": "stdout",
     "output_type": "stream",
     "text": [
      "        A \n",
      "       A B \n",
      "      A B C \n",
      "     A B C D \n",
      "    A B C D E \n",
      "   A B C D E F \n",
      "  A B C D E F G \n"
     ]
    }
   ],
   "source": [
    "rows = 7\n",
    "char = 65 #ascii for A\n",
    "i = 0\n",
    "while i < rows:\n",
    "    print(\" \" * (rows - i), end = \" \")\n",
    "    for j in range(0,i+1):\n",
    "        print(chr(char), end = \" \")\n",
    "        char += 1\n",
    "    char = 65 #every line starts with A again \n",
    "    print() \n",
    "    i += 1"
   ]
  },
  {
   "cell_type": "code",
   "execution_count": 2,
   "id": "0132231d",
   "metadata": {},
   "outputs": [
    {
     "name": "stdout",
     "output_type": "stream",
     "text": [
      "\n",
      "1 \n",
      "2 3 \n",
      "4 5 6 \n",
      "7 8 9 10 \n",
      "11 12 13 14 15 "
     ]
    }
   ],
   "source": [
    "rows = 5 \n",
    "num = 1\n",
    "for i in range(0,rows):\n",
    "    print()\n",
    "    j = 0\n",
    "    while j < i+1:\n",
    "        print(num, end = \" \")\n",
    "        num += 1\n",
    "        j += 1"
   ]
  },
  {
   "cell_type": "code",
   "execution_count": 5,
   "id": "a2b66ad6",
   "metadata": {},
   "outputs": [
    {
     "name": "stdout",
     "output_type": "stream",
     "text": [
      "  * * * * * * * \n",
      "   * * * * * * \n",
      "    * * * * * \n",
      "     * * * * \n",
      "      * * * \n",
      "       * * \n",
      "        * \n"
     ]
    }
   ],
   "source": [
    "rows = 7\n",
    "x = rows\n",
    "char = '*'\n",
    "i = 0\n",
    "while i < rows:\n",
    "    print(\" \" * (i+1), end = \" \")\n",
    "    j = 0\n",
    "    while j < x:\n",
    "        print(char, end = \" \")\n",
    "        j += 1\n",
    "    x -= 1\n",
    "    print()\n",
    "    i += 1"
   ]
  },
  {
   "cell_type": "code",
   "execution_count": 9,
   "id": "b2fad0ed",
   "metadata": {},
   "outputs": [
    {
     "name": "stdout",
     "output_type": "stream",
     "text": [
      "        * \n",
      "       * * \n",
      "      * * * \n",
      "     * * * * \n",
      "    * * * * * \n",
      "   * * * * * * \n",
      "  * * * * * * * \n"
     ]
    }
   ],
   "source": [
    "rows = 7\n",
    "char = '*'\n",
    "for i in range(0,rows):\n",
    "    print(\" \" * (rows - i), end = \" \")\n",
    "    for j in range(0,i+1):\n",
    "        print(char, end = \" \")\n",
    "    print() #new line"
   ]
  },
  {
   "cell_type": "code",
   "execution_count": 1,
   "id": "142ea839",
   "metadata": {},
   "outputs": [
    {
     "name": "stdout",
     "output_type": "stream",
     "text": [
      "\n",
      "* * * * * * * \n",
      "* * * * * * \n",
      "* * * * * \n",
      "* * * * \n",
      "* * * \n",
      "* * \n",
      "* "
     ]
    }
   ],
   "source": [
    "rows, row = 7, 7\n",
    "char = '*'\n",
    "i = 0\n",
    "while i < rows:\n",
    "    print()\n",
    "    j = 0\n",
    "    while j < row:\n",
    "        print(char, end = \" \")\n",
    "        j += 1\n",
    "    row -= 1 \n",
    "    i += 1"
   ]
  },
  {
   "cell_type": "code",
   "execution_count": 19,
   "id": "e135571f",
   "metadata": {},
   "outputs": [
    {
     "name": "stdout",
     "output_type": "stream",
     "text": [
      "\n",
      "* \n",
      "* * \n",
      "* * * \n",
      "* * * * \n",
      "* * * * * \n",
      "* * * * * * \n",
      "* * * * * * * "
     ]
    }
   ],
   "source": [
    "rows = 7\n",
    "char = '*'\n",
    "for i in range(0,rows):\n",
    "    print()\n",
    "    for j in range(0,i+1):\n",
    "        print(char, end = \" \")"
   ]
  },
  {
   "cell_type": "markdown",
   "id": "f66f9ecb",
   "metadata": {},
   "source": [
    "### Conditions and Functions"
   ]
  },
  {
   "cell_type": "markdown",
   "id": "595271b4",
   "metadata": {},
   "source": [
    "##### Calculate age in days"
   ]
  },
  {
   "cell_type": "code",
   "execution_count": 3,
   "id": "f60398e4",
   "metadata": {},
   "outputs": [
    {
     "name": "stdout",
     "output_type": "stream",
     "text": [
      "Enter your birth year (YYYY): 2003\n",
      "Enter your birth month (MM): 12\n",
      "Enter your birth day (DD): 17\n",
      "Enter the current year (YYYY): 2024\n",
      "Enter the current month (MM): 06\n",
      "Enter the current day (DD): 16\n",
      "Your age in days is: 7487 days.\n"
     ]
    }
   ],
   "source": [
    "def leap_year(year):  # leap year condition\n",
    "    if year % 4 == 0 and (year % 100 != 0 or year % 400 == 0):\n",
    "        return True\n",
    "    return False\n",
    "\n",
    "def days_in_months(month, year):  # calc no of days in month of specific year\n",
    "    if month in [4, 6, 9, 11]:\n",
    "        return 30\n",
    "    elif month == 2:\n",
    "        if leap_year(year):\n",
    "            return 29\n",
    "        else:\n",
    "            return 28\n",
    "    else:\n",
    "        return 31\n",
    "\n",
    "def days_in_years(start_year, end_year):  # calculate no of days b/w start and end year\n",
    "    days = 0\n",
    "    for yr in range(start_year, end_year + 1):\n",
    "        if leap_year(yr):\n",
    "            days += 366\n",
    "        else:\n",
    "            days += 365\n",
    "    return days\n",
    "\n",
    "def day_between_months(start_year, start_month, end_year, end_month):  # calculate no of days b/w start and end month\n",
    "    days = 0\n",
    "    if start_year == end_year:  # same yr (age is less than a yr)\n",
    "        for month in range(start_month, end_month + 1):\n",
    "            days += days_in_months(month, start_year)\n",
    "    else:  # diff yr (age is more than a yr)\n",
    "        for month in range(start_month, 13):  # e.g., born in Sep 22, 2002 calc days from that till end of that yr\n",
    "            days += days_in_months(month, start_year)\n",
    "        for yr in range(start_year + 1, end_year):  # e.g., from 2003 till 2023\n",
    "            if leap_year(yr):\n",
    "                days += 366\n",
    "            else:\n",
    "                days += 365\n",
    "        for month in range(1, end_month + 1):  # e.g., yr 2024\n",
    "            days += days_in_months(month, end_year)\n",
    "    return days\n",
    "\n",
    "def days_from_start_of_year(year, month, day):\n",
    "    days = 0\n",
    "    for m in range(1, month):\n",
    "        days += days_in_months(m, year)\n",
    "    days += day\n",
    "    return days\n",
    "\n",
    "def days_to_end_of_year(year, month, day):\n",
    "    days = 0\n",
    "    for m in range(month + 1, 13):\n",
    "        days += days_in_months(m, year)\n",
    "    days += days_in_months(month, year) - day\n",
    "    return days\n",
    "\n",
    "def calculate_age_in_days(birth_year, birth_month, birth_day, current_year, current_month, current_day):\n",
    "    if birth_year == current_year:\n",
    "        return days_from_start_of_year(current_year, current_month, current_day) - days_from_start_of_year(birth_year, birth_month, birth_day)\n",
    "    else:\n",
    "        days = days_to_end_of_year(birth_year, birth_month, birth_day)\n",
    "        days += days_from_start_of_year(current_year, current_month, current_day)\n",
    "        if birth_year + 1 <= current_year - 1:\n",
    "            days += days_in_years(birth_year + 1, current_year - 1)\n",
    "        return days\n",
    "\n",
    "# Main Program\n",
    "birth_year = int(input(\"Enter your birth year (YYYY): \"))\n",
    "birth_month = int(input(\"Enter your birth month (MM): \"))\n",
    "birth_day = int(input(\"Enter your birth day (DD): \"))\n",
    "\n",
    "current_year = int(input(\"Enter the current year (YYYY): \"))\n",
    "current_month = int(input(\"Enter the current month (MM): \"))\n",
    "current_day = int(input(\"Enter the current day (DD): \"))\n",
    "\n",
    "age_in_days = calculate_age_in_days(birth_year, birth_month, birth_day, current_year, current_month, current_day)\n",
    "\n",
    "print(f\"Your age in days is: {age_in_days} days.\")\n"
   ]
  },
  {
   "cell_type": "code",
   "execution_count": null,
   "id": "f157a785",
   "metadata": {},
   "outputs": [],
   "source": []
  }
 ],
 "metadata": {
  "kernelspec": {
   "display_name": "Python 3 (ipykernel)",
   "language": "python",
   "name": "python3"
  },
  "language_info": {
   "codemirror_mode": {
    "name": "ipython",
    "version": 3
   },
   "file_extension": ".py",
   "mimetype": "text/x-python",
   "name": "python",
   "nbconvert_exporter": "python",
   "pygments_lexer": "ipython3",
   "version": "3.11.5"
  }
 },
 "nbformat": 4,
 "nbformat_minor": 5
}
