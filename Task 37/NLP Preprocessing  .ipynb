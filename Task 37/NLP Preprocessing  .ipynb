{
 "cells": [
  {
   "cell_type": "code",
   "execution_count": 2,
   "id": "26c2c3a1",
   "metadata": {},
   "outputs": [],
   "source": [
    "import nltk\n",
    "import string\n",
    "import pandas as pd\n",
    "from nltk.corpus import stopwords\n",
    "from nltk.tokenize import word_tokenize\n",
    "from nltk.stem import PorterStemmer, WordNetLemmatizer\n",
    "import re"
   ]
  },
  {
   "cell_type": "code",
   "execution_count": 3,
   "id": "9ed10617",
   "metadata": {},
   "outputs": [
    {
     "name": "stderr",
     "output_type": "stream",
     "text": [
      "[nltk_data] Downloading package punkt to C:\\Users\\Abid\n",
      "[nltk_data]     Khan\\AppData\\Roaming\\nltk_data...\n",
      "[nltk_data]   Package punkt is already up-to-date!\n",
      "[nltk_data] Downloading package stopwords to C:\\Users\\Abid\n",
      "[nltk_data]     Khan\\AppData\\Roaming\\nltk_data...\n",
      "[nltk_data]   Package stopwords is already up-to-date!\n",
      "[nltk_data] Downloading package wordnet to C:\\Users\\Abid\n",
      "[nltk_data]     Khan\\AppData\\Roaming\\nltk_data...\n",
      "[nltk_data]   Package wordnet is already up-to-date!\n"
     ]
    },
    {
     "data": {
      "text/plain": [
       "True"
      ]
     },
     "execution_count": 3,
     "metadata": {},
     "output_type": "execute_result"
    }
   ],
   "source": [
    "nltk.download('punkt')\n",
    "nltk.download('stopwords')\n",
    "nltk.download('wordnet')"
   ]
  },
  {
   "cell_type": "markdown",
   "id": "6626b868",
   "metadata": {},
   "source": [
    "#### Make dictionary of data"
   ]
  },
  {
   "cell_type": "code",
   "execution_count": 4,
   "id": "aa241257",
   "metadata": {},
   "outputs": [
    {
     "name": "stdout",
     "output_type": "stream",
     "text": [
      "                                                text\n",
      "0  Natural Language Processing (NLP) is a field o...\n",
      "1  NLP involves the interaction between computers...\n",
      "2  The ultimate goal of NLP is to enable computer...\n"
     ]
    }
   ],
   "source": [
    "\n",
    "data = {\n",
    "    'text': [\n",
    "        \"Natural Language Processing (NLP) is a field of artificial intelligence!\",\n",
    "        \"NLP involves the interaction between computers and humans using natural language.\",\n",
    "        \"The ultimate goal of NLP is to enable computers to understand, interpret, and generate human language.\"\n",
    "    ]\n",
    "}\n",
    "\n",
    "df = pd.DataFrame(data)\n",
    "print(df)"
   ]
  },
  {
   "cell_type": "markdown",
   "id": "d0461ff1",
   "metadata": {},
   "source": [
    "# Data Preprocessing"
   ]
  },
  {
   "cell_type": "markdown",
   "id": "9fcf9c67",
   "metadata": {},
   "source": [
    "### Tokenized"
   ]
  },
  {
   "cell_type": "code",
   "execution_count": 5,
   "id": "c69089c6",
   "metadata": {},
   "outputs": [
    {
     "name": "stdout",
     "output_type": "stream",
     "text": [
      "                                                text  \\\n",
      "0  Natural Language Processing (NLP) is a field o...   \n",
      "1  NLP involves the interaction between computers...   \n",
      "2  The ultimate goal of NLP is to enable computer...   \n",
      "\n",
      "                                           tokenized  \n",
      "0  [Natural, Language, Processing, (, NLP, ), is,...  \n",
      "1  [NLP, involves, the, interaction, between, com...  \n",
      "2  [The, ultimate, goal, of, NLP, is, to, enable,...  \n"
     ]
    }
   ],
   "source": [
    "df['tokenized'] = df['text'].apply(lambda x: word_tokenize(x))\n",
    "print(df[['text', 'tokenized']])"
   ]
  },
  {
   "cell_type": "markdown",
   "id": "ef4de80a",
   "metadata": {},
   "source": [
    "### lowercase"
   ]
  },
  {
   "cell_type": "code",
   "execution_count": 6,
   "id": "a7361b53",
   "metadata": {},
   "outputs": [
    {
     "name": "stdout",
     "output_type": "stream",
     "text": [
      "                                                text  \\\n",
      "0  Natural Language Processing (NLP) is a field o...   \n",
      "1  NLP involves the interaction between computers...   \n",
      "2  The ultimate goal of NLP is to enable computer...   \n",
      "\n",
      "                                           lowercase  \n",
      "0  natural language processing (nlp) is a field o...  \n",
      "1  nlp involves the interaction between computers...  \n",
      "2  the ultimate goal of nlp is to enable computer...  \n"
     ]
    }
   ],
   "source": [
    "df['lowercase'] = df['text'].apply(lambda x: x.lower())\n",
    "print(df[['text', 'lowercase']])"
   ]
  },
  {
   "cell_type": "markdown",
   "id": "8c73f7d5",
   "metadata": {},
   "source": [
    "### no punctuation "
   ]
  },
  {
   "cell_type": "code",
   "execution_count": 7,
   "id": "9d988a58",
   "metadata": {},
   "outputs": [
    {
     "name": "stdout",
     "output_type": "stream",
     "text": [
      "                                           lowercase  \\\n",
      "0  natural language processing (nlp) is a field o...   \n",
      "1  nlp involves the interaction between computers...   \n",
      "2  the ultimate goal of nlp is to enable computer...   \n",
      "\n",
      "                                      no_punctuation  \n",
      "0  natural language processing nlp is a field of ...  \n",
      "1  nlp involves the interaction between computers...  \n",
      "2  the ultimate goal of nlp is to enable computer...  \n"
     ]
    }
   ],
   "source": [
    "df['no_punctuation'] = df['lowercase'].apply(lambda x: x.translate(str.maketrans('', '', string.punctuation)))\n",
    "print(df[['lowercase', 'no_punctuation']])"
   ]
  },
  {
   "cell_type": "markdown",
   "id": "4251201c",
   "metadata": {},
   "source": [
    "### no stopwords"
   ]
  },
  {
   "cell_type": "code",
   "execution_count": 8,
   "id": "edbbac4e",
   "metadata": {},
   "outputs": [
    {
     "name": "stdout",
     "output_type": "stream",
     "text": [
      "                                      no_punctuation  \\\n",
      "0  natural language processing nlp is a field of ...   \n",
      "1  nlp involves the interaction between computers...   \n",
      "2  the ultimate goal of nlp is to enable computer...   \n",
      "\n",
      "                                        no_stopwords  \n",
      "0  natural language processing nlp field artifici...  \n",
      "1  nlp involves interaction computers humans usin...  \n",
      "2  ultimate goal nlp enable computers understand ...  \n"
     ]
    }
   ],
   "source": [
    "stop_words = set(stopwords.words('english'))\n",
    "df['no_stopwords'] = df['no_punctuation'].apply(lambda x: ' '.join([word for word in x.split() if word not in stop_words]))\n",
    "print(df[['no_punctuation', 'no_stopwords']])"
   ]
  },
  {
   "cell_type": "markdown",
   "id": "9339bce0",
   "metadata": {},
   "source": [
    "### stemmed"
   ]
  },
  {
   "cell_type": "code",
   "execution_count": 9,
   "id": "122e9176",
   "metadata": {},
   "outputs": [
    {
     "name": "stdout",
     "output_type": "stream",
     "text": [
      "                                        no_stopwords  \\\n",
      "0  natural language processing nlp field artifici...   \n",
      "1  nlp involves interaction computers humans usin...   \n",
      "2  ultimate goal nlp enable computers understand ...   \n",
      "\n",
      "                                             stemmed  \n",
      "0  natur languag process nlp field artifici intellig  \n",
      "1  nlp involv interact comput human use natur lan...  \n",
      "2  ultim goal nlp enabl comput understand interpr...  \n"
     ]
    }
   ],
   "source": [
    "stemmer = PorterStemmer()\n",
    "df['stemmed'] = df['no_stopwords'].apply(lambda x: ' '.join([stemmer.stem(word) for word in x.split()]))\n",
    "print(df[['no_stopwords', 'stemmed']])"
   ]
  },
  {
   "cell_type": "markdown",
   "id": "c4e8d860",
   "metadata": {},
   "source": [
    "### lemmatized "
   ]
  },
  {
   "cell_type": "code",
   "execution_count": 10,
   "id": "f56ebe48",
   "metadata": {},
   "outputs": [
    {
     "name": "stdout",
     "output_type": "stream",
     "text": [
      "                                        no_stopwords  \\\n",
      "0  natural language processing nlp field artifici...   \n",
      "1  nlp involves interaction computers humans usin...   \n",
      "2  ultimate goal nlp enable computers understand ...   \n",
      "\n",
      "                                          lemmatized  \n",
      "0  natural language processing nlp field artifici...  \n",
      "1  nlp involves interaction computer human using ...  \n",
      "2  ultimate goal nlp enable computer understand i...  \n"
     ]
    }
   ],
   "source": [
    "lemmatizer = WordNetLemmatizer()\n",
    "df['lemmatized'] = df['no_stopwords'].apply(lambda x: ' '.join([lemmatizer.lemmatize(word) for word in x.split()]))\n",
    "print(df[['no_stopwords', 'lemmatized']])"
   ]
  },
  {
   "cell_type": "markdown",
   "id": "37dcd748",
   "metadata": {},
   "source": [
    "### no special character"
   ]
  },
  {
   "cell_type": "code",
   "execution_count": 11,
   "id": "ae337e13",
   "metadata": {},
   "outputs": [
    {
     "name": "stdout",
     "output_type": "stream",
     "text": [
      "                                          lemmatized  \\\n",
      "0  natural language processing nlp field artifici...   \n",
      "1  nlp involves interaction computer human using ...   \n",
      "2  ultimate goal nlp enable computer understand i...   \n",
      "\n",
      "                                     no_special_char  \n",
      "0  natural language processing nlp field artifici...  \n",
      "1  nlp involves interaction computer human using ...  \n",
      "2  ultimate goal nlp enable computer understand i...  \n"
     ]
    }
   ],
   "source": [
    "df['no_special_char'] = df['lemmatized'].apply(lambda x: re.sub(r'\\d+', '', x))\n",
    "print(df[['lemmatized', 'no_special_char']])"
   ]
  },
  {
   "cell_type": "markdown",
   "id": "0d76e425",
   "metadata": {},
   "source": [
    "### cleaned text "
   ]
  },
  {
   "cell_type": "code",
   "execution_count": 15,
   "id": "8e084382",
   "metadata": {},
   "outputs": [
    {
     "name": "stdout",
     "output_type": "stream",
     "text": [
      "                                     no_special_char  \\\n",
      "0  natural language processing nlp field artifici...   \n",
      "1  nlp involves interaction computer human using ...   \n",
      "2  ultimate goal nlp enable computer understand i...   \n",
      "\n",
      "                                        cleaned_text  \n",
      "0  natural language processing nlp field artifici...  \n",
      "1  nlp involves interaction computer human using ...  \n",
      "2  ultimate goal nlp enable computer understand i...  \n"
     ]
    }
   ],
   "source": [
    "df['cleaned_text'] = df['no_special_char'].apply(lambda x: ' '.join(x.split()))\n",
    "print(df[['no_special_char', 'cleaned_text']])"
   ]
  },
  {
   "cell_type": "markdown",
   "id": "e1acb773",
   "metadata": {},
   "source": [
    "# Importing Dataset"
   ]
  },
  {
   "cell_type": "code",
   "execution_count": 17,
   "id": "20668185",
   "metadata": {},
   "outputs": [
    {
     "data": {
      "text/html": [
       "<div>\n",
       "<style scoped>\n",
       "    .dataframe tbody tr th:only-of-type {\n",
       "        vertical-align: middle;\n",
       "    }\n",
       "\n",
       "    .dataframe tbody tr th {\n",
       "        vertical-align: top;\n",
       "    }\n",
       "\n",
       "    .dataframe thead th {\n",
       "        text-align: right;\n",
       "    }\n",
       "</style>\n",
       "<table border=\"1\" class=\"dataframe\">\n",
       "  <thead>\n",
       "    <tr style=\"text-align: right;\">\n",
       "      <th></th>\n",
       "      <th>Index</th>\n",
       "      <th>Reviews</th>\n",
       "    </tr>\n",
       "  </thead>\n",
       "  <tbody>\n",
       "    <tr>\n",
       "      <th>0</th>\n",
       "      <td>1</td>\n",
       "      <td>Alexa cannot hear after she starts playing</td>\n",
       "    </tr>\n",
       "    <tr>\n",
       "      <th>1</th>\n",
       "      <td>2</td>\n",
       "      <td>I purchased this as a birthday gift for my 7 y...</td>\n",
       "    </tr>\n",
       "    <tr>\n",
       "      <th>2</th>\n",
       "      <td>3</td>\n",
       "      <td>/*Here I'm Uploading video, enjoy*/Most idioti...</td>\n",
       "    </tr>\n",
       "    <tr>\n",
       "      <th>3</th>\n",
       "      <td>4</td>\n",
       "      <td>Do not buy this product. When i asked alexa t...</td>\n",
       "    </tr>\n",
       "    <tr>\n",
       "      <th>4</th>\n",
       "      <td>5</td>\n",
       "      <td>Its just one if the best deal i ever got on am...</td>\n",
       "    </tr>\n",
       "  </tbody>\n",
       "</table>\n",
       "</div>"
      ],
      "text/plain": [
       "   Index                                            Reviews\n",
       "0      1         Alexa cannot hear after she starts playing\n",
       "1      2  I purchased this as a birthday gift for my 7 y...\n",
       "2      3  /*Here I'm Uploading video, enjoy*/Most idioti...\n",
       "3      4   Do not buy this product. When i asked alexa t...\n",
       "4      5  Its just one if the best deal i ever got on am..."
      ]
     },
     "execution_count": 17,
     "metadata": {},
     "output_type": "execute_result"
    }
   ],
   "source": [
    "import pandas as pd\n",
    "file_path = 'ECO.csv'\n",
    "df = pd.read_csv(file_path)\n",
    "\n",
    "df.head()\n"
   ]
  },
  {
   "cell_type": "code",
   "execution_count": 18,
   "id": "200ede2b",
   "metadata": {},
   "outputs": [
    {
     "name": "stdout",
     "output_type": "stream",
     "text": [
      "<class 'pandas.core.frame.DataFrame'>\n",
      "RangeIndex: 4919 entries, 0 to 4918\n",
      "Data columns (total 2 columns):\n",
      " #   Column   Non-Null Count  Dtype \n",
      "---  ------   --------------  ----- \n",
      " 0   Index    4919 non-null   int64 \n",
      " 1   Reviews  4918 non-null   object\n",
      "dtypes: int64(1), object(1)\n",
      "memory usage: 77.0+ KB\n"
     ]
    },
    {
     "data": {
      "text/html": [
       "<div>\n",
       "<style scoped>\n",
       "    .dataframe tbody tr th:only-of-type {\n",
       "        vertical-align: middle;\n",
       "    }\n",
       "\n",
       "    .dataframe tbody tr th {\n",
       "        vertical-align: top;\n",
       "    }\n",
       "\n",
       "    .dataframe thead th {\n",
       "        text-align: right;\n",
       "    }\n",
       "</style>\n",
       "<table border=\"1\" class=\"dataframe\">\n",
       "  <thead>\n",
       "    <tr style=\"text-align: right;\">\n",
       "      <th></th>\n",
       "      <th>Index</th>\n",
       "      <th>Reviews</th>\n",
       "    </tr>\n",
       "  </thead>\n",
       "  <tbody>\n",
       "    <tr>\n",
       "      <th>0</th>\n",
       "      <td>1</td>\n",
       "      <td>Alexa cannot hear after she starts playing</td>\n",
       "    </tr>\n",
       "    <tr>\n",
       "      <th>1</th>\n",
       "      <td>2</td>\n",
       "      <td>I purchased this as a birthday gift for my 7 y...</td>\n",
       "    </tr>\n",
       "    <tr>\n",
       "      <th>2</th>\n",
       "      <td>3</td>\n",
       "      <td>/*Here I'm Uploading video, enjoy*/Most idioti...</td>\n",
       "    </tr>\n",
       "    <tr>\n",
       "      <th>3</th>\n",
       "      <td>4</td>\n",
       "      <td>Do not buy this product. When i asked alexa t...</td>\n",
       "    </tr>\n",
       "    <tr>\n",
       "      <th>4</th>\n",
       "      <td>5</td>\n",
       "      <td>Its just one if the best deal i ever got on am...</td>\n",
       "    </tr>\n",
       "  </tbody>\n",
       "</table>\n",
       "</div>"
      ],
      "text/plain": [
       "   Index                                            Reviews\n",
       "0      1         Alexa cannot hear after she starts playing\n",
       "1      2  I purchased this as a birthday gift for my 7 y...\n",
       "2      3  /*Here I'm Uploading video, enjoy*/Most idioti...\n",
       "3      4   Do not buy this product. When i asked alexa t...\n",
       "4      5  Its just one if the best deal i ever got on am..."
      ]
     },
     "execution_count": 18,
     "metadata": {},
     "output_type": "execute_result"
    }
   ],
   "source": [
    "df.info()\n",
    "\n",
    "df.head()"
   ]
  },
  {
   "cell_type": "code",
   "execution_count": 20,
   "id": "30b72816",
   "metadata": {},
   "outputs": [
    {
     "data": {
      "text/html": [
       "<div>\n",
       "<style scoped>\n",
       "    .dataframe tbody tr th:only-of-type {\n",
       "        vertical-align: middle;\n",
       "    }\n",
       "\n",
       "    .dataframe tbody tr th {\n",
       "        vertical-align: top;\n",
       "    }\n",
       "\n",
       "    .dataframe thead th {\n",
       "        text-align: right;\n",
       "    }\n",
       "</style>\n",
       "<table border=\"1\" class=\"dataframe\">\n",
       "  <thead>\n",
       "    <tr style=\"text-align: right;\">\n",
       "      <th></th>\n",
       "      <th>Reviews</th>\n",
       "      <th>tokenized</th>\n",
       "      <th>lowercase</th>\n",
       "      <th>no_punctuation</th>\n",
       "      <th>no_stopwords</th>\n",
       "      <th>stemmed</th>\n",
       "      <th>lemmatized</th>\n",
       "      <th>cleaned_text</th>\n",
       "    </tr>\n",
       "  </thead>\n",
       "  <tbody>\n",
       "    <tr>\n",
       "      <th>0</th>\n",
       "      <td>Alexa cannot hear after she starts playing</td>\n",
       "      <td>[Alexa, can, not, hear, after, she, starts, pl...</td>\n",
       "      <td>alexa cannot hear after she starts playing</td>\n",
       "      <td>alexa cannot hear after she starts playing</td>\n",
       "      <td>alexa cannot hear starts playing</td>\n",
       "      <td>alexa cannot hear start play</td>\n",
       "      <td>alexa cannot hear start playing</td>\n",
       "      <td>alexa cannot hear start playing</td>\n",
       "    </tr>\n",
       "    <tr>\n",
       "      <th>1</th>\n",
       "      <td>I purchased this as a birthday gift for my 7 y...</td>\n",
       "      <td>[I, purchased, this, as, a, birthday, gift, fo...</td>\n",
       "      <td>i purchased this as a birthday gift for my 7 y...</td>\n",
       "      <td>i purchased this as a birthday gift for my 7 y...</td>\n",
       "      <td>purchased birthday gift 7 years old son since ...</td>\n",
       "      <td>purchas birthday gift 7 year old son sinc dont...</td>\n",
       "      <td>purchased birthday gift 7 year old son since d...</td>\n",
       "      <td>purchased birthday gift year old son since don...</td>\n",
       "    </tr>\n",
       "    <tr>\n",
       "      <th>2</th>\n",
       "      <td>/*Here I'm Uploading video, enjoy*/Most idioti...</td>\n",
       "      <td>[/, *, Here, I, 'm, Uploading, video, ,, enjoy...</td>\n",
       "      <td>/*here i'm uploading video, enjoy*/most idioti...</td>\n",
       "      <td>here im uploading video enjoymost idiotic devi...</td>\n",
       "      <td>im uploading video enjoymost idiotic device ev...</td>\n",
       "      <td>im upload video enjoymost idiot devic everi bo...</td>\n",
       "      <td>im uploading video enjoymost idiotic device ev...</td>\n",
       "      <td>im uploading video enjoymost idiotic device ev...</td>\n",
       "    </tr>\n",
       "    <tr>\n",
       "      <th>3</th>\n",
       "      <td>Do not buy this product. When i asked alexa t...</td>\n",
       "      <td>[Do, not, buy, this, product, ., When, i, aske...</td>\n",
       "      <td>do not buy this product. when i asked alexa t...</td>\n",
       "      <td>do not buy this product when i asked alexa th...</td>\n",
       "      <td>buy product asked alexa kashmir part country s...</td>\n",
       "      <td>buy product ask alexa kashmir part countri sai...</td>\n",
       "      <td>buy product asked alexa kashmir part country s...</td>\n",
       "      <td>buy product asked alexa kashmir part country s...</td>\n",
       "    </tr>\n",
       "    <tr>\n",
       "      <th>4</th>\n",
       "      <td>Its just one if the best deal i ever got on am...</td>\n",
       "      <td>[Its, just, one, if, the, best, deal, i, ever,...</td>\n",
       "      <td>its just one if the best deal i ever got on am...</td>\n",
       "      <td>its just one if the best deal i ever got on am...</td>\n",
       "      <td>one best deal ever got amazon purchased 12 wat...</td>\n",
       "      <td>one best deal ever got amazon purchas 12 watt ...</td>\n",
       "      <td>one best deal ever got amazon purchased 12 wat...</td>\n",
       "      <td>one best deal ever got amazon purchased watt w...</td>\n",
       "    </tr>\n",
       "  </tbody>\n",
       "</table>\n",
       "</div>"
      ],
      "text/plain": [
       "                                             Reviews  \\\n",
       "0         Alexa cannot hear after she starts playing   \n",
       "1  I purchased this as a birthday gift for my 7 y...   \n",
       "2  /*Here I'm Uploading video, enjoy*/Most idioti...   \n",
       "3   Do not buy this product. When i asked alexa t...   \n",
       "4  Its just one if the best deal i ever got on am...   \n",
       "\n",
       "                                           tokenized  \\\n",
       "0  [Alexa, can, not, hear, after, she, starts, pl...   \n",
       "1  [I, purchased, this, as, a, birthday, gift, fo...   \n",
       "2  [/, *, Here, I, 'm, Uploading, video, ,, enjoy...   \n",
       "3  [Do, not, buy, this, product, ., When, i, aske...   \n",
       "4  [Its, just, one, if, the, best, deal, i, ever,...   \n",
       "\n",
       "                                           lowercase  \\\n",
       "0         alexa cannot hear after she starts playing   \n",
       "1  i purchased this as a birthday gift for my 7 y...   \n",
       "2  /*here i'm uploading video, enjoy*/most idioti...   \n",
       "3   do not buy this product. when i asked alexa t...   \n",
       "4  its just one if the best deal i ever got on am...   \n",
       "\n",
       "                                      no_punctuation  \\\n",
       "0         alexa cannot hear after she starts playing   \n",
       "1  i purchased this as a birthday gift for my 7 y...   \n",
       "2  here im uploading video enjoymost idiotic devi...   \n",
       "3   do not buy this product when i asked alexa th...   \n",
       "4  its just one if the best deal i ever got on am...   \n",
       "\n",
       "                                        no_stopwords  \\\n",
       "0                   alexa cannot hear starts playing   \n",
       "1  purchased birthday gift 7 years old son since ...   \n",
       "2  im uploading video enjoymost idiotic device ev...   \n",
       "3  buy product asked alexa kashmir part country s...   \n",
       "4  one best deal ever got amazon purchased 12 wat...   \n",
       "\n",
       "                                             stemmed  \\\n",
       "0                       alexa cannot hear start play   \n",
       "1  purchas birthday gift 7 year old son sinc dont...   \n",
       "2  im upload video enjoymost idiot devic everi bo...   \n",
       "3  buy product ask alexa kashmir part countri sai...   \n",
       "4  one best deal ever got amazon purchas 12 watt ...   \n",
       "\n",
       "                                          lemmatized  \\\n",
       "0                    alexa cannot hear start playing   \n",
       "1  purchased birthday gift 7 year old son since d...   \n",
       "2  im uploading video enjoymost idiotic device ev...   \n",
       "3  buy product asked alexa kashmir part country s...   \n",
       "4  one best deal ever got amazon purchased 12 wat...   \n",
       "\n",
       "                                        cleaned_text  \n",
       "0                    alexa cannot hear start playing  \n",
       "1  purchased birthday gift year old son since don...  \n",
       "2  im uploading video enjoymost idiotic device ev...  \n",
       "3  buy product asked alexa kashmir part country s...  \n",
       "4  one best deal ever got amazon purchased watt w...  "
      ]
     },
     "execution_count": 20,
     "metadata": {},
     "output_type": "execute_result"
    }
   ],
   "source": [
    "text_column = 'Reviews'\n",
    "\n",
    "# Preprocessing steps\n",
    "df['tokenized'] = df[text_column].apply(lambda x: word_tokenize(str(x)))\n",
    "df['lowercase'] = df[text_column].apply(lambda x: str(x).lower())\n",
    "df['no_punctuation'] = df['lowercase'].apply(lambda x: x.translate(str.maketrans('', '', string.punctuation)))\n",
    "stop_words = set(stopwords.words('english'))\n",
    "df['no_stopwords'] = df['no_punctuation'].apply(lambda x: ' '.join([word for word in x.split() if word not in stop_words]))\n",
    "stemmer = PorterStemmer()\n",
    "df['stemmed'] = df['no_stopwords'].apply(lambda x: ' '.join([stemmer.stem(word) for word in x.split()]))\n",
    "lemmatizer = WordNetLemmatizer()\n",
    "df['lemmatized'] = df['no_stopwords'].apply(lambda x: ' '.join([lemmatizer.lemmatize(word) for word in x.split()]))\n",
    "df['no_special_char'] = df['lemmatized'].apply(lambda x: re.sub(r'\\d+', '', x))\n",
    "df['cleaned_text'] = df['no_special_char'].apply(lambda x: ' '.join(x.split()))\n",
    "\n",
    "# Display the first few rows of the dataframe with preprocessing applied\n",
    "df_display = df[[text_column, 'tokenized', 'lowercase', 'no_punctuation', 'no_stopwords', 'stemmed', 'lemmatized', 'cleaned_text']]\n",
    "df_display.head()"
   ]
  },
  {
   "cell_type": "code",
   "execution_count": null,
   "id": "02c1f744",
   "metadata": {},
   "outputs": [],
   "source": []
  }
 ],
 "metadata": {
  "kernelspec": {
   "display_name": "Python 3 (ipykernel)",
   "language": "python",
   "name": "python3"
  },
  "language_info": {
   "codemirror_mode": {
    "name": "ipython",
    "version": 3
   },
   "file_extension": ".py",
   "mimetype": "text/x-python",
   "name": "python",
   "nbconvert_exporter": "python",
   "pygments_lexer": "ipython3",
   "version": "3.11.5"
  }
 },
 "nbformat": 4,
 "nbformat_minor": 5
}
