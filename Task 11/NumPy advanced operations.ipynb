{
 "cells": [
  {
   "cell_type": "code",
   "execution_count": null,
   "id": "09036056",
   "metadata": {},
   "outputs": [],
   "source": [
    "import numpy as np"
   ]
  },
  {
   "cell_type": "code",
   "execution_count": 3,
   "id": "ae9d5f41",
   "metadata": {},
   "outputs": [
    {
     "name": "stdout",
     "output_type": "stream",
     "text": [
      "[[ 7  8  9]\n",
      " [12 13 14]\n",
      " [17 18 19]]\n"
     ]
    }
   ],
   "source": [
    "arr = np.array([\n",
    "    [1, 2, 3, 4, 5],\n",
    "    [6, 7, 8, 9, 10],\n",
    "    [11, 12, 13, 14, 15],\n",
    "    [16, 17, 18, 19, 20],\n",
    "    [21, 22, 23, 24, 25]\n",
    "])\n",
    "sub_arr = arr[1:4, 1:4]\n",
    "print(sub_arr)\n"
   ]
  },
  {
   "cell_type": "code",
   "execution_count": 4,
   "id": "291a999f",
   "metadata": {},
   "outputs": [
    {
     "name": "stdout",
     "output_type": "stream",
     "text": [
      "[[ 2  4  6]\n",
      " [ 8 10 12]]\n"
     ]
    }
   ],
   "source": [
    "arr = np.array([\n",
    "    [[1, 2], [3, 4], [5, 6]],\n",
    "    [[7, 8], [9, 10], [11, 12]],\n",
    "    [[13, 14], [15, 16], [17, 18]],\n",
    "    [[19, 20], [21, 22], [23, 24]]\n",
    "])\n",
    "sub_array = arr[:2, :, 1]\n",
    "print(sub_array)"
   ]
  },
  {
   "cell_type": "code",
   "execution_count": 5,
   "id": "7a56c015",
   "metadata": {},
   "outputs": [
    {
     "name": "stdout",
     "output_type": "stream",
     "text": [
      "[1 3 4 7]\n"
     ]
    }
   ],
   "source": [
    "arr = np.array([0, 1, 2, 3, 4, 5, 6, 7, 8, 9])\n",
    "fancy_indexed_elements = arr[[1, 3, 4, 7]]\n",
    "print(fancy_indexed_elements)"
   ]
  },
  {
   "cell_type": "code",
   "execution_count": 8,
   "id": "bbdbc59b",
   "metadata": {},
   "outputs": [
    {
     "name": "stdout",
     "output_type": "stream",
     "text": [
      "[[ 2  4]\n",
      " [12 14]\n",
      " [17 19]]\n"
     ]
    }
   ],
   "source": [
    "arr = np.array([\n",
    "    [1, 2, 3, 4, 5],\n",
    "    [6, 7, 8, 9, 10],\n",
    "    [11, 12, 13, 14, 15],\n",
    "    [16, 17, 18, 19, 20],\n",
    "    [21, 22, 23, 24, 25]\n",
    "])\n",
    "fancy_indexed = arr[[0, 2, 3], :][:, [1, 3]]\n",
    "print(fancy_indexed)"
   ]
  },
  {
   "cell_type": "code",
   "execution_count": 9,
   "id": "7ff7ef17",
   "metadata": {},
   "outputs": [
    {
     "name": "stdout",
     "output_type": "stream",
     "text": [
      "[15 20 25 30]\n"
     ]
    }
   ],
   "source": [
    "array = np.array([5, 10, 15, 20, 25, 30])\n",
    "elements = array_1d[array_1d > 10]\n",
    "print(elements)"
   ]
  },
  {
   "cell_type": "code",
   "execution_count": 11,
   "id": "978256d6",
   "metadata": {},
   "outputs": [
    {
     "name": "stdout",
     "output_type": "stream",
     "text": [
      "[[ 1  2  3  4  5]\n",
      " [ 6  7  8  9 10]\n",
      " [11 12 13 14 15]\n",
      " [ 0  0  0  0  0]\n",
      " [ 0  0  0  0  0]]\n"
     ]
    }
   ],
   "source": [
    "arr = np.array([\n",
    "    [1, 2, 3, 4, 5],\n",
    "    [6, 7, 8, 9, 10],\n",
    "    [11, 12, 13, 14, 15],\n",
    "    [16, 17, 18, 19, 20],\n",
    "    [21, 22, 23, 24, 25]\n",
    "])\n",
    "arr[array_2d > 15] = 0\n",
    "print(arr)"
   ]
  },
  {
   "cell_type": "markdown",
   "id": "412b5471",
   "metadata": {},
   "source": [
    "##### Broadcasting"
   ]
  },
  {
   "cell_type": "code",
   "execution_count": 12,
   "id": "05a6b353",
   "metadata": {},
   "outputs": [
    {
     "name": "stdout",
     "output_type": "stream",
     "text": [
      "[[ 2  4  6]\n",
      " [ 5  7  9]\n",
      " [ 8 10 12]\n",
      " [11 13 15]]\n"
     ]
    }
   ],
   "source": [
    "array_2d = np.array([\n",
    "    [1, 2, 3],\n",
    "    [4, 5, 6],\n",
    "    [7, 8, 9],\n",
    "    [10, 11, 12]\n",
    "])\n",
    "array_1d = np.array([1, 2, 3])\n",
    "broadcast_sum = array_2d + array_1d\n",
    "print(broadcast_sum)"
   ]
  },
  {
   "cell_type": "code",
   "execution_count": 13,
   "id": "48e7f54e",
   "metadata": {},
   "outputs": [
    {
     "name": "stdout",
     "output_type": "stream",
     "text": [
      "[[ 1  4  9]\n",
      " [ 4 10 18]\n",
      " [ 7 16 27]]\n"
     ]
    }
   ],
   "source": [
    "array_2d = np.array([\n",
    "    [1, 2, 3],\n",
    "    [4, 5, 6],\n",
    "    [7, 8, 9]\n",
    "])\n",
    "array_1d = np.array([1, 2, 3])\n",
    "broadcast_product = array_2d * array_1d\n",
    "print(broadcast_product)"
   ]
  },
  {
   "cell_type": "code",
   "execution_count": 16,
   "id": "25cb01e4",
   "metadata": {},
   "outputs": [
    {
     "name": "stdout",
     "output_type": "stream",
     "text": [
      "[[ 5  6  7  8]\n",
      " [ 6  7  8  9]\n",
      " [ 7  8  9 10]]\n"
     ]
    }
   ],
   "source": [
    "arraya = np.array([\n",
    "    [1],\n",
    "    [2],\n",
    "    [3]\n",
    "])\n",
    "arrayb = np.array([[4, 5, 6, 7]])\n",
    "broadcast_addition = arraya + arrayb\n",
    "print(broadcast_addition)"
   ]
  },
  {
   "cell_type": "code",
   "execution_count": 17,
   "id": "5aebe869",
   "metadata": {},
   "outputs": [
    {
     "name": "stdout",
     "output_type": "stream",
     "text": [
      "[[[ 2  4  6  8]\n",
      "  [10 12 14 16]\n",
      "  [18 20 22 24]]\n",
      "\n",
      " [[14 16 18 20]\n",
      "  [22 24 26 28]\n",
      "  [30 32 34 36]]]\n"
     ]
    }
   ],
   "source": [
    "array_3d = np.array([\n",
    "    [[1, 2, 3, 4], [5, 6, 7, 8], [9, 10, 11, 12]],\n",
    "    [[13, 14, 15, 16], [17, 18, 19, 20], [21, 22, 23, 24]]\n",
    "])\n",
    "array_2d = np.array([\n",
    "    [1, 2, 3, 4],\n",
    "    [5, 6, 7, 8],\n",
    "    [9, 10, 11, 12]\n",
    "])\n",
    "broadcast_add_3d = array_3d + array_2d\n",
    "print(broadcast_add_3d)"
   ]
  },
  {
   "cell_type": "markdown",
   "id": "dc98383b",
   "metadata": {},
   "source": [
    "#### some more"
   ]
  },
  {
   "cell_type": "code",
   "execution_count": 18,
   "id": "ba72926d",
   "metadata": {},
   "outputs": [
    {
     "name": "stdout",
     "output_type": "stream",
     "text": [
      "Task 1: Extract every second row and every second column, then add a 1D array to each row of the sliced array\n",
      "[[ 1  3  5]\n",
      " [11 13 15]\n",
      " [21 23 25]]\n",
      "[[ 2  5  8]\n",
      " [12 15 18]\n",
      " [22 25 28]]\n",
      "\n",
      "Task 2: Extract a sub-array from a 3D array of shape (4, 3, 2) and use broadcasting to subtract a 2D array from each slice along the third axis\n",
      "[[[ 1  2]\n",
      "  [ 3  4]\n",
      "  [ 5  6]]\n",
      "\n",
      " [[ 7  8]\n",
      "  [ 9 10]\n",
      "  [11 12]]]\n",
      "[[[ 0  1]\n",
      "  [ 2  3]\n",
      "  [ 4  5]]\n",
      "\n",
      " [[ 6  7]\n",
      "  [ 8  9]\n",
      "  [10 11]]]\n",
      "\n",
      "Task 3: Extract the diagonal elements and create a 1D array\n",
      "[ 1  7 13 19 25]\n",
      "\n",
      "Task 4: Use slicing to reverse the order of elements in each row of a 2D array\n",
      "[[ 5  4  3  2  1]\n",
      " [10  9  8  7  6]\n",
      " [15 14 13 12 11]\n",
      " [20 19 18 17 16]\n",
      " [25 24 23 22 21]]\n",
      "\n",
      "Task 5: Extract a sub-array of shape (2, 3, 4) and use broadcasting to add a 1D array of shape (4,) to each row along the third axis\n",
      "[[[ 1  2  3  4]\n",
      "  [ 7  8  9 10]\n",
      "  [13 14 15 16]]\n",
      "\n",
      " [[31 32 33 34]\n",
      "  [37 38 39 40]\n",
      "  [43 44 45 46]]]\n",
      "[[[ 2  4  6  8]\n",
      "  [ 8 10 12 14]\n",
      "  [14 16 18 20]]\n",
      "\n",
      " [[32 34 36 38]\n",
      "  [38 40 42 44]\n",
      "  [44 46 48 50]]]\n",
      "\n",
      "Task 6: Set the last column to the sum of the first two columns for each row in a 2D array\n",
      "[[ 1  2  3  4  3]\n",
      " [ 6  7  8  9 13]\n",
      " [11 12 13 14 23]\n",
      " [16 17 18 19 33]\n",
      " [21 22 23 24 43]]\n"
     ]
    }
   ],
   "source": [
    "import numpy as np\n",
    "\n",
    "array_2d_task1 = np.array([\n",
    "    [1, 2, 3, 4, 5],\n",
    "    [6, 7, 8, 9, 10],\n",
    "    [11, 12, 13, 14, 15],\n",
    "    [16, 17, 18, 19, 20],\n",
    "    [21, 22, 23, 24, 25]\n",
    "])\n",
    "sliced_array_task1 = array_2d_task1[::2, ::2]\n",
    "array_1d_task1 = np.array([1, 2, 3])\n",
    "broadcast_sum_sliced_task1 = sliced_array_task1 + array_1d_task1[:sliced_array_task1.shape[1]]\n",
    "\n",
    "array_3d_task2 = np.array([\n",
    "    [[1, 2], [3, 4], [5, 6]],\n",
    "    [[7, 8], [9, 10], [11, 12]],\n",
    "    [[13, 14], [15, 16], [17, 18]],\n",
    "    [[19, 20], [21, 22], [23, 24]]\n",
    "])\n",
    "sub_array_3d_task2 = array_3d_task2[:2, :, :]\n",
    "array_2d_task2 = np.array([\n",
    "    [1, 1],\n",
    "    [1, 1],\n",
    "    [1, 1]\n",
    "])\n",
    "broadcast_subtract_3d_task2 = sub_array_3d_task2 - array_2d_task2\n",
    "\n",
    "array_2d_task3 = np.array([\n",
    "    [1, 2, 3, 4, 5],\n",
    "    [6, 7, 8, 9, 10],\n",
    "    [11, 12, 13, 14, 15],\n",
    "    [16, 17, 18, 19, 20],\n",
    "    [21, 22, 23, 24, 25]\n",
    "])\n",
    "diagonal_elements_task3 = np.diag(array_2d_task3)\n",
    "\n",
    "array_2d_task4 = np.array([\n",
    "    [1, 2, 3, 4, 5],\n",
    "    [6, 7, 8, 9, 10],\n",
    "    [11, 12, 13, 14, 15],\n",
    "    [16, 17, 18, 19, 20],\n",
    "    [21, 22, 23, 24, 25]\n",
    "])\n",
    "reversed_rows_task4 = array_2d_task4[:, ::-1]\n",
    "\n",
    "array_3d_task5 = np.array([\n",
    "    [[1, 2, 3, 4, 5, 6],\n",
    "     [7, 8, 9, 10, 11, 12],\n",
    "     [13, 14, 15, 16, 17, 18],\n",
    "     [19, 20, 21, 22, 23, 24],\n",
    "     [25, 26, 27, 28, 29, 30]],\n",
    "    [[31, 32, 33, 34, 35, 36],\n",
    "     [37, 38, 39, 40, 41, 42],\n",
    "     [43, 44, 45, 46, 47, 48],\n",
    "     [49, 50, 51, 52, 53, 54],\n",
    "     [55, 56, 57, 58, 59, 60]],\n",
    "    [[61, 62, 63, 64, 65, 66],\n",
    "     [67, 68, 69, 70, 71, 72],\n",
    "     [73, 74, 75, 76, 77, 78],\n",
    "     [79, 80, 81, 82, 83, 84],\n",
    "     [85, 86, 87, 88, 89, 90]],\n",
    "    [[91, 92, 93, 94, 95, 96],\n",
    "     [97, 98, 99, 100, 101, 102],\n",
    "     [103, 104, 105, 106, 107, 108],\n",
    "     [109, 110, 111, 112, 113, 114],\n",
    "     [115, 116, 117, 118, 119, 120]]\n",
    "])\n",
    "sub_array_3d_task5 = array_3d_task5[:2, :3, :4]\n",
    "array_1d_task5 = np.array([1, 2, 3, 4])\n",
    "broadcast_add_1d_task5 = sub_array_3d_task5 + array_1d_task5\n",
    "\n",
    "array_2d_task6 = np.array([\n",
    "    [1, 2, 3, 4, 5],\n",
    "    [6, 7, 8, 9, 10],\n",
    "    [11, 12, 13, 14, 15],\n",
    "    [16, 17, 18, 19, 20],\n",
    "    [21, 22, 23, 24, 25]\n",
    "])\n",
    "array_2d_task6[:, -1] = array_2d_task6[:, 0] + array_2d_task6[:, 1]\n",
    "\n",
    "print(\"Task 1: Extract every second row and every second column, then add a 1D array to each row of the sliced array\")\n",
    "print(sliced_array_task1)\n",
    "print(broadcast_sum_sliced_task1)\n",
    "\n",
    "print(\"\\nTask 2: Extract a sub-array from a 3D array of shape (4, 3, 2) and use broadcasting to subtract a 2D array from each slice along the third axis\")\n",
    "print(sub_array_3d_task2)\n",
    "print(broadcast_subtract_3d_task2)\n",
    "\n",
    "print(\"\\nTask 3: Extract the diagonal elements and create a 1D array\")\n",
    "print(diagonal_elements_task3)\n",
    "\n",
    "print(\"\\nTask 4: Use slicing to reverse the order of elements in each row of a 2D array\")\n",
    "print(reversed_rows_task4)\n",
    "\n",
    "print(\"\\nTask 5: Extract a sub-array of shape (2, 3, 4) and use broadcasting to add a 1D array of shape (4,) to each row along the third axis\")\n",
    "print(sub_array_3d_task5)\n",
    "print(broadcast_add_1d_task5)\n",
    "\n",
    "print(\"\\nTask 6: Set the last column to the sum of the first two columns for each row in a 2D array\")\n",
    "print(array_2d_task6)\n"
   ]
  },
  {
   "cell_type": "code",
   "execution_count": null,
   "id": "7d58972e",
   "metadata": {},
   "outputs": [],
   "source": []
  }
 ],
 "metadata": {
  "kernelspec": {
   "display_name": "Python 3 (ipykernel)",
   "language": "python",
   "name": "python3"
  },
  "language_info": {
   "codemirror_mode": {
    "name": "ipython",
    "version": 3
   },
   "file_extension": ".py",
   "mimetype": "text/x-python",
   "name": "python",
   "nbconvert_exporter": "python",
   "pygments_lexer": "ipython3",
   "version": "3.11.5"
  }
 },
 "nbformat": 4,
 "nbformat_minor": 5
}
