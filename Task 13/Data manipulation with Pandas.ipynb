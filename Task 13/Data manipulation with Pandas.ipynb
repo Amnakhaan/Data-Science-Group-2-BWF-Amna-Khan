{
 "cells": [
  {
   "cell_type": "code",
   "execution_count": 2,
   "id": "f78e5945",
   "metadata": {},
   "outputs": [],
   "source": [
    "import pandas as pd"
   ]
  },
  {
   "cell_type": "code",
   "execution_count": 3,
   "id": "792852a2",
   "metadata": {},
   "outputs": [],
   "source": [
    "df = pd.read_csv(\"Dataset salary 2024.csv\")"
   ]
  },
  {
   "cell_type": "markdown",
   "id": "a4e91916",
   "metadata": {},
   "source": [
    "#### Display the first and last five rows of the DataFrame"
   ]
  },
  {
   "cell_type": "code",
   "execution_count": 4,
   "id": "2ba1f9d4",
   "metadata": {},
   "outputs": [
    {
     "name": "stdout",
     "output_type": "stream",
     "text": [
      "   work_year experience_level employment_type                  job_title  \\\n",
      "0       2024               SE              FT                AI Engineer   \n",
      "1       2024               SE              FT                AI Engineer   \n",
      "2       2024               SE              FT              Data Engineer   \n",
      "3       2024               SE              FT              Data Engineer   \n",
      "4       2024               SE              FT  Machine Learning Engineer   \n",
      "\n",
      "   salary salary_currency  salary_in_usd employee_residence  remote_ratio  \\\n",
      "0  202730             USD         202730                 US             0   \n",
      "1   92118             USD          92118                 US             0   \n",
      "2  130500             USD         130500                 US             0   \n",
      "3   96000             USD          96000                 US             0   \n",
      "4  190000             USD         190000                 US             0   \n",
      "\n",
      "  company_location company_size  \n",
      "0               US            M  \n",
      "1               US            M  \n",
      "2               US            M  \n",
      "3               US            M  \n",
      "4               US            M  \n",
      "       work_year experience_level employment_type                 job_title  \\\n",
      "16529       2020               SE              FT            Data Scientist   \n",
      "16530       2021               MI              FT  Principal Data Scientist   \n",
      "16531       2020               EN              FT            Data Scientist   \n",
      "16532       2020               EN              CT     Business Data Analyst   \n",
      "16533       2021               SE              FT      Data Science Manager   \n",
      "\n",
      "        salary salary_currency  salary_in_usd employee_residence  \\\n",
      "16529   412000             USD         412000                 US   \n",
      "16530   151000             USD         151000                 US   \n",
      "16531   105000             USD         105000                 US   \n",
      "16532   100000             USD         100000                 US   \n",
      "16533  7000000             INR          94665                 IN   \n",
      "\n",
      "       remote_ratio company_location company_size  \n",
      "16529           100               US            L  \n",
      "16530           100               US            L  \n",
      "16531           100               US            S  \n",
      "16532           100               US            L  \n",
      "16533            50               IN            L  \n"
     ]
    }
   ],
   "source": [
    "print(df.head(5))\n",
    "print(df.tail(5))"
   ]
  },
  {
   "cell_type": "code",
   "execution_count": 5,
   "id": "4d010fc5",
   "metadata": {},
   "outputs": [
    {
     "name": "stdout",
     "output_type": "stream",
     "text": [
      "job_title\n",
      "AI Engineer                   202730\n",
      "AI Engineer                    92118\n",
      "Data Engineer                 130500\n",
      "Data Engineer                  96000\n",
      "Machine Learning Engineer     190000\n",
      "                              ...   \n",
      "Data Scientist                412000\n",
      "Principal Data Scientist      151000\n",
      "Data Scientist                105000\n",
      "Business Data Analyst         100000\n",
      "Data Science Manager         7000000\n",
      "Name: salary, Length: 16534, dtype: int64\n"
     ]
    }
   ],
   "source": [
    "# specific column as the index of the DataFrame\n",
    "df = df.set_index('job_title')\n",
    "\n",
    "# specific column values\n",
    "print(df['salary'])"
   ]
  },
  {
   "cell_type": "code",
   "execution_count": 6,
   "id": "5efc5a3b",
   "metadata": {},
   "outputs": [
    {
     "name": "stdout",
     "output_type": "stream",
     "text": [
      "                            salary  salary_in_usd\n",
      "job_title                                        \n",
      "AI Engineer                 202730         202730\n",
      "AI Engineer                  92118          92118\n",
      "Data Engineer               130500         130500\n",
      "Data Engineer                96000          96000\n",
      "Machine Learning Engineer   190000         190000\n",
      "...                            ...            ...\n",
      "Data Scientist              412000         412000\n",
      "Principal Data Scientist    151000         151000\n",
      "Data Scientist              105000         105000\n",
      "Business Data Analyst       100000         100000\n",
      "Data Science Manager       7000000          94665\n",
      "\n",
      "[16534 rows x 2 columns]\n"
     ]
    }
   ],
   "source": [
    "# multiple columns\n",
    "print(df[['salary', 'salary_in_usd']])"
   ]
  },
  {
   "cell_type": "code",
   "execution_count": 7,
   "id": "d137cf61",
   "metadata": {},
   "outputs": [
    {
     "name": "stdout",
     "output_type": "stream",
     "text": [
      "                work_year experience_level employment_type  salary  \\\n",
      "job_title                                                            \n",
      "Data Scientist       2024               MI              FT  156450   \n",
      "Data Scientist       2024               MI              FT  119200   \n",
      "Data Scientist       2024               MI              FT  120000   \n",
      "Data Scientist       2024               MI              FT   70000   \n",
      "Data Scientist       2024               MI              CT  130000   \n",
      "...                   ...              ...             ...     ...   \n",
      "Data Scientist       2020               MI              FT  118000   \n",
      "Data Scientist       2020               MI              FT  138350   \n",
      "Data Scientist       2021               MI              FT  160000   \n",
      "Data Scientist       2020               SE              FT  412000   \n",
      "Data Scientist       2020               EN              FT  105000   \n",
      "\n",
      "               salary_currency  salary_in_usd employee_residence  \\\n",
      "job_title                                                          \n",
      "Data Scientist             USD         156450                 US   \n",
      "Data Scientist             USD         119200                 US   \n",
      "Data Scientist             USD         120000                 AU   \n",
      "Data Scientist             USD          70000                 AU   \n",
      "Data Scientist             USD         130000                 US   \n",
      "...                        ...            ...                ...   \n",
      "Data Scientist             USD         118000                 US   \n",
      "Data Scientist             USD         138350                 US   \n",
      "Data Scientist             SGD         119059                 SG   \n",
      "Data Scientist             USD         412000                 US   \n",
      "Data Scientist             USD         105000                 US   \n",
      "\n",
      "                remote_ratio company_location company_size  \n",
      "job_title                                                   \n",
      "Data Scientist           100               US            M  \n",
      "Data Scientist           100               US            M  \n",
      "Data Scientist             0               AU            S  \n",
      "Data Scientist             0               AU            S  \n",
      "Data Scientist             0               US            M  \n",
      "...                      ...              ...          ...  \n",
      "Data Scientist           100               US            M  \n",
      "Data Scientist           100               US            M  \n",
      "Data Scientist           100               IL            M  \n",
      "Data Scientist           100               US            L  \n",
      "Data Scientist           100               US            S  \n",
      "\n",
      "[3314 rows x 10 columns]\n",
      "                          experience_level employment_type\n",
      "job_title                                                 \n",
      "AI Engineer                             SE              FT\n",
      "Data Engineer                           SE              FT\n",
      "Data Engineer                           SE              FT\n",
      "Machine Learning Engineer               SE              FT\n"
     ]
    }
   ],
   "source": [
    "# =subset of rows using the .loc method\n",
    "print(df.loc['Data Scientist'])\n",
    "\n",
    "# subset of rows and columns using the .iloc method\n",
    "print(df.iloc[1:5, 1:3])"
   ]
  },
  {
   "cell_type": "code",
   "execution_count": 9,
   "id": "8081fa4c",
   "metadata": {},
   "outputs": [
    {
     "name": "stdout",
     "output_type": "stream",
     "text": [
      "                                    work_year experience_level  \\\n",
      "job_title                                                        \n",
      "AI Engineer                              2024               SE   \n",
      "Machine Learning Engineer                2024               SE   \n",
      "Machine Learning Engineer                2024               SE   \n",
      "ML Engineer                              2024               MI   \n",
      "Data Engineer                            2024               SE   \n",
      "...                                       ...              ...   \n",
      "Applied Machine Learning Scientist       2021               MI   \n",
      "Data Specialist                          2021               SE   \n",
      "Data Scientist                           2020               SE   \n",
      "Principal Data Scientist                 2021               MI   \n",
      "Data Science Manager                     2021               SE   \n",
      "\n",
      "                                   employment_type   salary salary_currency  \\\n",
      "job_title                                                                     \n",
      "AI Engineer                                     FT   202730             USD   \n",
      "Machine Learning Engineer                       FT   190000             USD   \n",
      "Machine Learning Engineer                       FT   160000             USD   \n",
      "ML Engineer                                     FT   400000             USD   \n",
      "Data Engineer                                   FT   172469             USD   \n",
      "...                                            ...      ...             ...   \n",
      "Applied Machine Learning Scientist              FT   423000             USD   \n",
      "Data Specialist                                 FT   165000             USD   \n",
      "Data Scientist                                  FT   412000             USD   \n",
      "Principal Data Scientist                        FT   151000             USD   \n",
      "Data Science Manager                            FT  7000000             INR   \n",
      "\n",
      "                                    salary_in_usd employee_residence  \\\n",
      "job_title                                                              \n",
      "AI Engineer                                202730                 US   \n",
      "Machine Learning Engineer                  190000                 US   \n",
      "Machine Learning Engineer                  160000                 US   \n",
      "ML Engineer                                400000                 US   \n",
      "Data Engineer                              172469                 US   \n",
      "...                                           ...                ...   \n",
      "Applied Machine Learning Scientist         423000                 US   \n",
      "Data Specialist                            165000                 US   \n",
      "Data Scientist                             412000                 US   \n",
      "Principal Data Scientist                   151000                 US   \n",
      "Data Science Manager                        94665                 IN   \n",
      "\n",
      "                                    remote_ratio company_location company_size  \n",
      "job_title                                                                       \n",
      "AI Engineer                                    0               US            M  \n",
      "Machine Learning Engineer                      0               US            M  \n",
      "Machine Learning Engineer                      0               US            M  \n",
      "ML Engineer                                    0               US            M  \n",
      "Data Engineer                                  0               US            M  \n",
      "...                                          ...              ...          ...  \n",
      "Applied Machine Learning Scientist            50               US            L  \n",
      "Data Specialist                              100               US            L  \n",
      "Data Scientist                               100               US            L  \n",
      "Principal Data Scientist                     100               US            L  \n",
      "Data Science Manager                          50               IN            L  \n",
      "\n",
      "[7236 rows x 10 columns]\n"
     ]
    }
   ],
   "source": [
    "# Filter based on a condition\n",
    "print(df[df['salary'] > 150000])"
   ]
  },
  {
   "cell_type": "code",
   "execution_count": 10,
   "id": "7492578a",
   "metadata": {},
   "outputs": [
    {
     "name": "stdout",
     "output_type": "stream",
     "text": [
      "                work_year experience_level employment_type  salary  \\\n",
      "job_title                                                            \n",
      "Data Scientist       2024               MI              FT  156450   \n",
      "Data Scientist       2024               MI              FT  119200   \n",
      "Data Scientist       2024               MI              FT  120000   \n",
      "Data Scientist       2024               MI              FT   70000   \n",
      "Data Scientist       2024               MI              CT  130000   \n",
      "...                   ...              ...             ...     ...   \n",
      "Data Scientist       2020               MI              FT  118000   \n",
      "Data Scientist       2020               MI              FT  138350   \n",
      "Data Scientist       2021               MI              FT  160000   \n",
      "Data Scientist       2020               SE              FT  412000   \n",
      "Data Scientist       2020               EN              FT  105000   \n",
      "\n",
      "               salary_currency  salary_in_usd employee_residence  \\\n",
      "job_title                                                          \n",
      "Data Scientist             USD         156450                 US   \n",
      "Data Scientist             USD         119200                 US   \n",
      "Data Scientist             USD         120000                 AU   \n",
      "Data Scientist             USD          70000                 AU   \n",
      "Data Scientist             USD         130000                 US   \n",
      "...                        ...            ...                ...   \n",
      "Data Scientist             USD         118000                 US   \n",
      "Data Scientist             USD         138350                 US   \n",
      "Data Scientist             SGD         119059                 SG   \n",
      "Data Scientist             USD         412000                 US   \n",
      "Data Scientist             USD         105000                 US   \n",
      "\n",
      "                remote_ratio company_location company_size  \n",
      "job_title                                                   \n",
      "Data Scientist           100               US            M  \n",
      "Data Scientist           100               US            M  \n",
      "Data Scientist             0               AU            S  \n",
      "Data Scientist             0               AU            S  \n",
      "Data Scientist             0               US            M  \n",
      "...                      ...              ...          ...  \n",
      "Data Scientist           100               US            M  \n",
      "Data Scientist           100               US            M  \n",
      "Data Scientist           100               IL            M  \n",
      "Data Scientist           100               US            L  \n",
      "Data Scientist           100               US            S  \n",
      "\n",
      "[3314 rows x 10 columns]\n",
      "                          experience_level employment_type\n",
      "job_title                                                 \n",
      "AI Engineer                             SE              FT\n",
      "Data Engineer                           SE              FT\n",
      "Data Engineer                           SE              FT\n",
      "Machine Learning Engineer               SE              FT\n"
     ]
    }
   ],
   "source": [
    "# Select a subset of rows using the .loc method\n",
    "print(df.loc['Data Scientist'])\n",
    "\n",
    "# Select a subset of rows and columns using the .iloc method\n",
    "print(df.iloc[1:5, 1:3])"
   ]
  },
  {
   "cell_type": "code",
   "execution_count": 11,
   "id": "64002304",
   "metadata": {},
   "outputs": [
    {
     "name": "stdout",
     "output_type": "stream",
     "text": [
      "experience_level\n",
      "EN    125831.628679\n",
      "EX    208064.343313\n",
      "MI    157116.976721\n",
      "SE    168852.493440\n",
      "Name: salary, dtype: float64\n",
      "experience_level  employment_type\n",
      "EN                CT                     450200\n",
      "                  FL                     180000\n",
      "                  FT                  162869068\n",
      "                  PT                    3227640\n",
      "EX                CT                     416000\n",
      "                  FT                  103824236\n",
      "MI                CT                    1405500\n",
      "                  FL                    2622555\n",
      "                  FT                  629827011\n",
      "                  PT                     583286\n",
      "SE                CT                     966896\n",
      "                  FL                    3220000\n",
      "                  FT                 1797123909\n",
      "                  PT                     345300\n",
      "Name: salary, dtype: int64\n"
     ]
    }
   ],
   "source": [
    "# Group the DataFrame by a specific column and calculate the mean of each group\n",
    "print(df.groupby('experience_level')['salary'].mean())\n",
    "\n",
    "# Group the DataFrame by multiple columns and calculate the sum of each group\n",
    "print(df.groupby(['experience_level', 'employment_type'])['salary'].sum())\n"
   ]
  },
  {
   "cell_type": "code",
   "execution_count": 12,
   "id": "f3e544bf",
   "metadata": {},
   "outputs": [
    {
     "name": "stdout",
     "output_type": "stream",
     "text": [
      "                           mean            std\n",
      "experience_level                              \n",
      "EN                125831.628679  350666.471044\n",
      "EX                208064.343313  271464.076151\n",
      "MI                157116.976721  595199.107554\n",
      "SE                168852.493440  162108.937991\n"
     ]
    }
   ],
   "source": [
    "# Use the agg method to apply multiple aggregation functions to grouped data\n",
    "print(df.groupby('experience_level')['salary'].agg(['mean', 'std']))\n"
   ]
  },
  {
   "cell_type": "code",
   "execution_count": 13,
   "id": "697fcdaa",
   "metadata": {},
   "outputs": [
    {
     "name": "stdout",
     "output_type": "stream",
     "text": [
      "experience_level\n",
      "EN     1325\n",
      "EX      501\n",
      "MI     4038\n",
      "SE    10670\n",
      "dtype: int64\n"
     ]
    }
   ],
   "source": [
    "# Calculate the size of each group\n",
    "print(df.groupby('experience_level').size())"
   ]
  },
  {
   "cell_type": "code",
   "execution_count": 14,
   "id": "a8ee1d99",
   "metadata": {},
   "outputs": [
    {
     "name": "stdout",
     "output_type": "stream",
     "text": [
      "                          work_year experience_level employment_type  salary  \\\n",
      "job_title                                                                      \n",
      "Data Scientist                 2024               MI              FT  156450   \n",
      "Data Engineer                  2024               SE              FT  190000   \n",
      "Data Engineer                  2024               SE              FT  155000   \n",
      "Data Analyst                   2024               SE              FT  174000   \n",
      "Research Scientist             2024               MI              FT  195000   \n",
      "...                             ...              ...             ...     ...   \n",
      "Data Science Manager           2020               SE              FT  190200   \n",
      "Data Scientist                 2021               MI              FT  160000   \n",
      "Data Specialist                2021               SE              FT  165000   \n",
      "Data Scientist                 2020               SE              FT  412000   \n",
      "Principal Data Scientist       2021               MI              FT  151000   \n",
      "\n",
      "                         salary_currency  salary_in_usd employee_residence  \\\n",
      "job_title                                                                    \n",
      "Data Scientist                       USD         156450                 US   \n",
      "Data Engineer                        USD         190000                 US   \n",
      "Data Engineer                        USD         155000                 US   \n",
      "Data Analyst                         USD         174000                 US   \n",
      "Research Scientist                   USD         195000                 US   \n",
      "...                                  ...            ...                ...   \n",
      "Data Science Manager                 USD         190200                 US   \n",
      "Data Scientist                       SGD         119059                 SG   \n",
      "Data Specialist                      USD         165000                 US   \n",
      "Data Scientist                       USD         412000                 US   \n",
      "Principal Data Scientist             USD         151000                 US   \n",
      "\n",
      "                          remote_ratio company_location company_size  \n",
      "job_title                                                             \n",
      "Data Scientist                     100               US            M  \n",
      "Data Engineer                      100               US            M  \n",
      "Data Engineer                      100               US            M  \n",
      "Data Analyst                       100               US            M  \n",
      "Research Scientist                 100               US            M  \n",
      "...                                ...              ...          ...  \n",
      "Data Science Manager               100               US            M  \n",
      "Data Scientist                     100               IL            M  \n",
      "Data Specialist                    100               US            L  \n",
      "Data Scientist                     100               US            L  \n",
      "Principal Data Scientist           100               US            L  \n",
      "\n",
      "[2206 rows x 10 columns]\n",
      "                          work_year experience_level employment_type  salary  \\\n",
      "job_title                                                                      \n",
      "Data Scientist                 2024               MI              FT  156450   \n",
      "Data Engineer                  2024               SE              FT  190000   \n",
      "Data Engineer                  2024               SE              FT  155000   \n",
      "Data Analyst                   2024               SE              FT  174000   \n",
      "Research Scientist             2024               MI              FT  195000   \n",
      "...                             ...              ...             ...     ...   \n",
      "Data Science Manager           2020               SE              FT  190200   \n",
      "Data Scientist                 2021               MI              FT  160000   \n",
      "Data Specialist                2021               SE              FT  165000   \n",
      "Data Scientist                 2020               SE              FT  412000   \n",
      "Principal Data Scientist       2021               MI              FT  151000   \n",
      "\n",
      "                         salary_currency  salary_in_usd employee_residence  \\\n",
      "job_title                                                                    \n",
      "Data Scientist                       USD         156450                 US   \n",
      "Data Engineer                        USD         190000                 US   \n",
      "Data Engineer                        USD         155000                 US   \n",
      "Data Analyst                         USD         174000                 US   \n",
      "Research Scientist                   USD         195000                 US   \n",
      "...                                  ...            ...                ...   \n",
      "Data Science Manager                 USD         190200                 US   \n",
      "Data Scientist                       SGD         119059                 SG   \n",
      "Data Specialist                      USD         165000                 US   \n",
      "Data Scientist                       USD         412000                 US   \n",
      "Principal Data Scientist             USD         151000                 US   \n",
      "\n",
      "                          remote_ratio company_location company_size  \n",
      "job_title                                                             \n",
      "Data Scientist                     100               US            M  \n",
      "Data Engineer                      100               US            M  \n",
      "Data Engineer                      100               US            M  \n",
      "Data Analyst                       100               US            M  \n",
      "Research Scientist                 100               US            M  \n",
      "...                                ...              ...          ...  \n",
      "Data Science Manager               100               US            M  \n",
      "Data Scientist                     100               IL            M  \n",
      "Data Specialist                    100               US            L  \n",
      "Data Scientist                     100               US            L  \n",
      "Principal Data Scientist           100               US            L  \n",
      "\n",
      "[2206 rows x 10 columns]\n"
     ]
    }
   ],
   "source": [
    "# Select rows based on multiple conditions\n",
    "print(df[(df['salary'] > 150000) & (df['remote_ratio'] == 100)])\n",
    "\n",
    "# Use the query method to filter rows\n",
    "print(df.query('salary > 150000 and remote_ratio == 100'))"
   ]
  },
  {
   "cell_type": "code",
   "execution_count": 16,
   "id": "9ff78a73",
   "metadata": {},
   "outputs": [
    {
     "name": "stdout",
     "output_type": "stream",
     "text": [
      "                           work_year experience_level employment_type  \\\n",
      "job_title                                                               \n",
      "AI Engineer                     2024               SE              FT   \n",
      "AI Engineer                     2024               SE              FT   \n",
      "Data Engineer                   2024               SE              FT   \n",
      "Data Engineer                   2024               SE              FT   \n",
      "Machine Learning Engineer       2024               SE              FT   \n",
      "...                              ...              ...             ...   \n",
      "Data Engineer                   2021               MI              FT   \n",
      "Data Specialist                 2021               SE              FT   \n",
      "Data Scientist                  2020               SE              FT   \n",
      "Principal Data Scientist        2021               MI              FT   \n",
      "Data Science Manager            2021               SE              FT   \n",
      "\n",
      "                            salary salary_currency  salary_in_usd  \\\n",
      "job_title                                                           \n",
      "AI Engineer                 202730             USD         202730   \n",
      "AI Engineer                  92118             USD          92118   \n",
      "Data Engineer               130500             USD         130500   \n",
      "Data Engineer                96000             USD          96000   \n",
      "Machine Learning Engineer   190000             USD         190000   \n",
      "...                            ...             ...            ...   \n",
      "Data Engineer                24000             EUR          28369   \n",
      "Data Specialist             165000             USD         165000   \n",
      "Data Scientist              412000             USD         412000   \n",
      "Principal Data Scientist    151000             USD         151000   \n",
      "Data Science Manager       7000000             INR          94665   \n",
      "\n",
      "                          employee_residence  remote_ratio company_location  \\\n",
      "job_title                                                                     \n",
      "AI Engineer                               US             0               US   \n",
      "AI Engineer                               US             0               US   \n",
      "Data Engineer                             US             0               US   \n",
      "Data Engineer                             US             0               US   \n",
      "Machine Learning Engineer                 US             0               US   \n",
      "...                                      ...           ...              ...   \n",
      "Data Engineer                             MT            50               MT   \n",
      "Data Specialist                           US           100               US   \n",
      "Data Scientist                            US           100               US   \n",
      "Principal Data Scientist                  US           100               US   \n",
      "Data Science Manager                      IN            50               IN   \n",
      "\n",
      "                          company_size  \n",
      "job_title                               \n",
      "AI Engineer                          M  \n",
      "AI Engineer                          M  \n",
      "Data Engineer                        M  \n",
      "Data Engineer                        M  \n",
      "Machine Learning Engineer            M  \n",
      "...                                ...  \n",
      "Data Engineer                        L  \n",
      "Data Specialist                      L  \n",
      "Data Scientist                       L  \n",
      "Principal Data Scientist             L  \n",
      "Data Science Manager                 L  \n",
      "\n",
      "[14708 rows x 10 columns]\n"
     ]
    }
   ],
   "source": [
    "# Use isin to filter rows based on a list of values\n",
    "print(df[df['experience_level'].isin(['SE', 'MI'])])"
   ]
  },
  {
   "cell_type": "code",
   "execution_count": 17,
   "id": "22a2a0a5",
   "metadata": {},
   "outputs": [
    {
     "name": "stdout",
     "output_type": "stream",
     "text": [
      "                            Salary  Salary in USD\n",
      "job_title                                        \n",
      "AI Engineer                 202730         202730\n",
      "AI Engineer                  92118          92118\n",
      "Data Engineer               130500         130500\n",
      "Data Engineer                96000          96000\n",
      "Machine Learning Engineer   190000         190000\n",
      "...                            ...            ...\n",
      "Data Scientist              412000         412000\n",
      "Principal Data Scientist    151000         151000\n",
      "Data Scientist              105000         105000\n",
      "Business Data Analyst       100000         100000\n",
      "Data Science Manager       7000000          94665\n",
      "\n",
      "[16534 rows x 2 columns]\n"
     ]
    }
   ],
   "source": [
    "# Select specific columns and rename them\n",
    "print(df[['salary', 'salary_in_usd']].rename(columns={'salary': 'Salary', 'salary_in_usd': 'Salary in USD'}))"
   ]
  },
  {
   "cell_type": "code",
   "execution_count": null,
   "id": "2b74f955",
   "metadata": {},
   "outputs": [],
   "source": []
  }
 ],
 "metadata": {
  "kernelspec": {
   "display_name": "Python 3 (ipykernel)",
   "language": "python",
   "name": "python3"
  },
  "language_info": {
   "codemirror_mode": {
    "name": "ipython",
    "version": 3
   },
   "file_extension": ".py",
   "mimetype": "text/x-python",
   "name": "python",
   "nbconvert_exporter": "python",
   "pygments_lexer": "ipython3",
   "version": "3.11.5"
  }
 },
 "nbformat": 4,
 "nbformat_minor": 5
}
