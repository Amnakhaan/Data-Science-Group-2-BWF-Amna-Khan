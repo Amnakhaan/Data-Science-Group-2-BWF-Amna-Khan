{
 "cells": [
  {
   "cell_type": "code",
   "execution_count": 2,
   "id": "b497f864",
   "metadata": {},
   "outputs": [
    {
     "data": {
      "text/html": [
       "<div>\n",
       "<style scoped>\n",
       "    .dataframe tbody tr th:only-of-type {\n",
       "        vertical-align: middle;\n",
       "    }\n",
       "\n",
       "    .dataframe tbody tr th {\n",
       "        vertical-align: top;\n",
       "    }\n",
       "\n",
       "    .dataframe thead th {\n",
       "        text-align: right;\n",
       "    }\n",
       "</style>\n",
       "<table border=\"1\" class=\"dataframe\">\n",
       "  <thead>\n",
       "    <tr style=\"text-align: right;\">\n",
       "      <th></th>\n",
       "      <th>course_id</th>\n",
       "      <th>course_type</th>\n",
       "      <th>year</th>\n",
       "      <th>enrollment_count</th>\n",
       "      <th>pre_score</th>\n",
       "      <th>post_score</th>\n",
       "      <th>pre_requirement</th>\n",
       "      <th>department</th>\n",
       "    </tr>\n",
       "  </thead>\n",
       "  <tbody>\n",
       "    <tr>\n",
       "      <th>0</th>\n",
       "      <td>1</td>\n",
       "      <td>classroom</td>\n",
       "      <td>2018</td>\n",
       "      <td>165</td>\n",
       "      <td>28.14</td>\n",
       "      <td>73.0</td>\n",
       "      <td>Beginner</td>\n",
       "      <td>Science</td>\n",
       "    </tr>\n",
       "    <tr>\n",
       "      <th>1</th>\n",
       "      <td>2</td>\n",
       "      <td>classroom</td>\n",
       "      <td>2020</td>\n",
       "      <td>175</td>\n",
       "      <td>79.68</td>\n",
       "      <td>86.0</td>\n",
       "      <td>NaN</td>\n",
       "      <td>Science</td>\n",
       "    </tr>\n",
       "    <tr>\n",
       "      <th>2</th>\n",
       "      <td>3</td>\n",
       "      <td>online</td>\n",
       "      <td>2016</td>\n",
       "      <td>257</td>\n",
       "      <td>57.24</td>\n",
       "      <td>80.0</td>\n",
       "      <td>NaN</td>\n",
       "      <td>Mathematics</td>\n",
       "    </tr>\n",
       "    <tr>\n",
       "      <th>3</th>\n",
       "      <td>4</td>\n",
       "      <td>online</td>\n",
       "      <td>2013</td>\n",
       "      <td>251</td>\n",
       "      <td>97.67</td>\n",
       "      <td>75.0</td>\n",
       "      <td>Beginner</td>\n",
       "      <td>Technology</td>\n",
       "    </tr>\n",
       "    <tr>\n",
       "      <th>4</th>\n",
       "      <td>5</td>\n",
       "      <td>classroom</td>\n",
       "      <td>2019</td>\n",
       "      <td>165</td>\n",
       "      <td>39.75</td>\n",
       "      <td>76.0</td>\n",
       "      <td>Beginner</td>\n",
       "      <td>Science</td>\n",
       "    </tr>\n",
       "  </tbody>\n",
       "</table>\n",
       "</div>"
      ],
      "text/plain": [
       "   course_id course_type  year  enrollment_count pre_score  post_score  \\\n",
       "0          1   classroom  2018               165     28.14        73.0   \n",
       "1          2   classroom  2020               175     79.68        86.0   \n",
       "2          3      online  2016               257     57.24        80.0   \n",
       "3          4      online  2013               251     97.67        75.0   \n",
       "4          5   classroom  2019               165     39.75        76.0   \n",
       "\n",
       "  pre_requirement   department  \n",
       "0        Beginner      Science  \n",
       "1             NaN      Science  \n",
       "2             NaN  Mathematics  \n",
       "3        Beginner   Technology  \n",
       "4        Beginner      Science  "
      ]
     },
     "execution_count": 2,
     "metadata": {},
     "output_type": "execute_result"
    }
   ],
   "source": [
    "import numpy as np\n",
    "import pandas as pd\n",
    "import matplotlib.pyplot as plt\n",
    "\n",
    "df = pd.read_csv('university_enrollment_(Mini-project-01).csv')\n",
    "df.head()"
   ]
  },
  {
   "cell_type": "code",
   "execution_count": 3,
   "id": "bc70b628",
   "metadata": {},
   "outputs": [
    {
     "data": {
      "text/plain": [
       "course_id             int64\n",
       "course_type          object\n",
       "year                  int64\n",
       "enrollment_count      int64\n",
       "pre_score            object\n",
       "post_score          float64\n",
       "pre_requirement      object\n",
       "department           object\n",
       "dtype: object"
      ]
     },
     "execution_count": 3,
     "metadata": {},
     "output_type": "execute_result"
    }
   ],
   "source": [
    "df.dtypes"
   ]
  },
  {
   "cell_type": "markdown",
   "id": "1fd153e7",
   "metadata": {},
   "source": [
    "#### convert year column to datetime format"
   ]
  },
  {
   "cell_type": "code",
   "execution_count": 4,
   "id": "e1c29d76",
   "metadata": {},
   "outputs": [
    {
     "data": {
      "text/plain": [
       "course_id                    int64\n",
       "course_type                 object\n",
       "year                datetime64[ns]\n",
       "enrollment_count             int64\n",
       "pre_score                   object\n",
       "post_score                 float64\n",
       "pre_requirement             object\n",
       "department                  object\n",
       "dtype: object"
      ]
     },
     "execution_count": 4,
     "metadata": {},
     "output_type": "execute_result"
    }
   ],
   "source": [
    "df['year'] = pd.to_datetime(df['year'], format = '%Y')\n",
    "df.dtypes"
   ]
  },
  {
   "cell_type": "markdown",
   "id": "347e1f66",
   "metadata": {},
   "source": [
    "#### Drop '-' character from pre_score Column"
   ]
  },
  {
   "cell_type": "code",
   "execution_count": 5,
   "id": "6dc088f2",
   "metadata": {},
   "outputs": [
    {
     "data": {
      "text/html": [
       "<div>\n",
       "<style scoped>\n",
       "    .dataframe tbody tr th:only-of-type {\n",
       "        vertical-align: middle;\n",
       "    }\n",
       "\n",
       "    .dataframe tbody tr th {\n",
       "        vertical-align: top;\n",
       "    }\n",
       "\n",
       "    .dataframe thead th {\n",
       "        text-align: right;\n",
       "    }\n",
       "</style>\n",
       "<table border=\"1\" class=\"dataframe\">\n",
       "  <thead>\n",
       "    <tr style=\"text-align: right;\">\n",
       "      <th></th>\n",
       "      <th>course_id</th>\n",
       "      <th>course_type</th>\n",
       "      <th>year</th>\n",
       "      <th>enrollment_count</th>\n",
       "      <th>pre_score</th>\n",
       "      <th>post_score</th>\n",
       "      <th>pre_requirement</th>\n",
       "      <th>department</th>\n",
       "    </tr>\n",
       "  </thead>\n",
       "  <tbody>\n",
       "    <tr>\n",
       "      <th>15</th>\n",
       "      <td>16</td>\n",
       "      <td>online</td>\n",
       "      <td>2013-01-01</td>\n",
       "      <td>256</td>\n",
       "      <td>-</td>\n",
       "      <td>86.0</td>\n",
       "      <td>NaN</td>\n",
       "      <td>Mathematics</td>\n",
       "    </tr>\n",
       "    <tr>\n",
       "      <th>22</th>\n",
       "      <td>23</td>\n",
       "      <td>online</td>\n",
       "      <td>2015-01-01</td>\n",
       "      <td>236</td>\n",
       "      <td>-</td>\n",
       "      <td>72.0</td>\n",
       "      <td>Intermediate</td>\n",
       "      <td>Mathematics</td>\n",
       "    </tr>\n",
       "    <tr>\n",
       "      <th>26</th>\n",
       "      <td>27</td>\n",
       "      <td>online</td>\n",
       "      <td>2014-01-01</td>\n",
       "      <td>251</td>\n",
       "      <td>-</td>\n",
       "      <td>80.0</td>\n",
       "      <td>NaN</td>\n",
       "      <td>Science</td>\n",
       "    </tr>\n",
       "    <tr>\n",
       "      <th>27</th>\n",
       "      <td>28</td>\n",
       "      <td>online</td>\n",
       "      <td>2016-01-01</td>\n",
       "      <td>251</td>\n",
       "      <td>-</td>\n",
       "      <td>83.0</td>\n",
       "      <td>NaN</td>\n",
       "      <td>Science</td>\n",
       "    </tr>\n",
       "    <tr>\n",
       "      <th>31</th>\n",
       "      <td>32</td>\n",
       "      <td>online</td>\n",
       "      <td>2013-01-01</td>\n",
       "      <td>261</td>\n",
       "      <td>-</td>\n",
       "      <td>96.0</td>\n",
       "      <td>NaN</td>\n",
       "      <td>Technology</td>\n",
       "    </tr>\n",
       "  </tbody>\n",
       "</table>\n",
       "</div>"
      ],
      "text/plain": [
       "    course_id course_type       year  enrollment_count pre_score  post_score  \\\n",
       "15         16      online 2013-01-01               256         -        86.0   \n",
       "22         23      online 2015-01-01               236         -        72.0   \n",
       "26         27      online 2014-01-01               251         -        80.0   \n",
       "27         28      online 2016-01-01               251         -        83.0   \n",
       "31         32      online 2013-01-01               261         -        96.0   \n",
       "\n",
       "   pre_requirement   department  \n",
       "15             NaN  Mathematics  \n",
       "22    Intermediate  Mathematics  \n",
       "26             NaN      Science  \n",
       "27             NaN      Science  \n",
       "31             NaN   Technology  "
      ]
     },
     "execution_count": 5,
     "metadata": {},
     "output_type": "execute_result"
    }
   ],
   "source": [
    "df[df['pre_score'] == '-'].head()"
   ]
  },
  {
   "cell_type": "markdown",
   "id": "9fd879e0",
   "metadata": {},
   "source": [
    "#### Check Missing Values"
   ]
  },
  {
   "cell_type": "code",
   "execution_count": 6,
   "id": "7c3ffb25",
   "metadata": {},
   "outputs": [
    {
     "data": {
      "text/plain": [
       "course_id             0\n",
       "course_type           0\n",
       "year                  0\n",
       "enrollment_count      0\n",
       "pre_score             0\n",
       "post_score          185\n",
       "pre_requirement     891\n",
       "department            0\n",
       "dtype: int64"
      ]
     },
     "execution_count": 6,
     "metadata": {},
     "output_type": "execute_result"
    }
   ],
   "source": [
    "df.isnull().sum()"
   ]
  },
  {
   "cell_type": "markdown",
   "id": "a01dbca1",
   "metadata": {},
   "source": [
    "#### Course type category"
   ]
  },
  {
   "cell_type": "code",
   "execution_count": 13,
   "id": "83ce4a61",
   "metadata": {},
   "outputs": [
    {
     "data": {
      "text/html": [
       "<div>\n",
       "<style scoped>\n",
       "    .dataframe tbody tr th:only-of-type {\n",
       "        vertical-align: middle;\n",
       "    }\n",
       "\n",
       "    .dataframe tbody tr th {\n",
       "        vertical-align: top;\n",
       "    }\n",
       "\n",
       "    .dataframe thead th {\n",
       "        text-align: right;\n",
       "    }\n",
       "</style>\n",
       "<table border=\"1\" class=\"dataframe\">\n",
       "  <thead>\n",
       "    <tr style=\"text-align: right;\">\n",
       "      <th></th>\n",
       "      <th>course_id</th>\n",
       "      <th>course_type</th>\n",
       "      <th>year</th>\n",
       "      <th>enrollment_count</th>\n",
       "      <th>pre_score</th>\n",
       "      <th>post_score</th>\n",
       "      <th>pre_requirement</th>\n",
       "      <th>department</th>\n",
       "    </tr>\n",
       "  </thead>\n",
       "  <tbody>\n",
       "    <tr>\n",
       "      <th>0</th>\n",
       "      <td>1</td>\n",
       "      <td>classroom</td>\n",
       "      <td>2018-01-01</td>\n",
       "      <td>165</td>\n",
       "      <td>28.14</td>\n",
       "      <td>73.0</td>\n",
       "      <td>Beginner</td>\n",
       "      <td>Science</td>\n",
       "    </tr>\n",
       "    <tr>\n",
       "      <th>1</th>\n",
       "      <td>2</td>\n",
       "      <td>classroom</td>\n",
       "      <td>2020-01-01</td>\n",
       "      <td>175</td>\n",
       "      <td>79.68</td>\n",
       "      <td>86.0</td>\n",
       "      <td>NaN</td>\n",
       "      <td>Science</td>\n",
       "    </tr>\n",
       "    <tr>\n",
       "      <th>4</th>\n",
       "      <td>5</td>\n",
       "      <td>classroom</td>\n",
       "      <td>2019-01-01</td>\n",
       "      <td>165</td>\n",
       "      <td>39.75</td>\n",
       "      <td>76.0</td>\n",
       "      <td>Beginner</td>\n",
       "      <td>Science</td>\n",
       "    </tr>\n",
       "    <tr>\n",
       "      <th>9</th>\n",
       "      <td>10</td>\n",
       "      <td>classroom</td>\n",
       "      <td>2016-01-01</td>\n",
       "      <td>180</td>\n",
       "      <td>83.53</td>\n",
       "      <td>79.0</td>\n",
       "      <td>Beginner</td>\n",
       "      <td>Engineering</td>\n",
       "    </tr>\n",
       "    <tr>\n",
       "      <th>10</th>\n",
       "      <td>11</td>\n",
       "      <td>classroom</td>\n",
       "      <td>2022-01-01</td>\n",
       "      <td>180</td>\n",
       "      <td>9.84</td>\n",
       "      <td>74.0</td>\n",
       "      <td>Beginner</td>\n",
       "      <td>Engineering</td>\n",
       "    </tr>\n",
       "  </tbody>\n",
       "</table>\n",
       "</div>"
      ],
      "text/plain": [
       "    course_id course_type       year  enrollment_count pre_score  post_score  \\\n",
       "0           1   classroom 2018-01-01               165     28.14        73.0   \n",
       "1           2   classroom 2020-01-01               175     79.68        86.0   \n",
       "4           5   classroom 2019-01-01               165     39.75        76.0   \n",
       "9          10   classroom 2016-01-01               180     83.53        79.0   \n",
       "10         11   classroom 2022-01-01               180      9.84        74.0   \n",
       "\n",
       "   pre_requirement   department  \n",
       "0         Beginner      Science  \n",
       "1              NaN      Science  \n",
       "4         Beginner      Science  \n",
       "9         Beginner  Engineering  \n",
       "10        Beginner  Engineering  "
      ]
     },
     "execution_count": 13,
     "metadata": {},
     "output_type": "execute_result"
    }
   ],
   "source": [
    "classroom_data = df[df['course_type'] == 'classroom']\n",
    "classroom_data.head()"
   ]
  },
  {
   "cell_type": "code",
   "execution_count": 14,
   "id": "e3e0a640",
   "metadata": {},
   "outputs": [
    {
     "data": {
      "text/html": [
       "<div>\n",
       "<style scoped>\n",
       "    .dataframe tbody tr th:only-of-type {\n",
       "        vertical-align: middle;\n",
       "    }\n",
       "\n",
       "    .dataframe tbody tr th {\n",
       "        vertical-align: top;\n",
       "    }\n",
       "\n",
       "    .dataframe thead th {\n",
       "        text-align: right;\n",
       "    }\n",
       "</style>\n",
       "<table border=\"1\" class=\"dataframe\">\n",
       "  <thead>\n",
       "    <tr style=\"text-align: right;\">\n",
       "      <th></th>\n",
       "      <th>course_id</th>\n",
       "      <th>course_type</th>\n",
       "      <th>year</th>\n",
       "      <th>enrollment_count</th>\n",
       "      <th>pre_score</th>\n",
       "      <th>post_score</th>\n",
       "      <th>pre_requirement</th>\n",
       "      <th>department</th>\n",
       "    </tr>\n",
       "  </thead>\n",
       "  <tbody>\n",
       "    <tr>\n",
       "      <th>2</th>\n",
       "      <td>3</td>\n",
       "      <td>online</td>\n",
       "      <td>2016-01-01</td>\n",
       "      <td>257</td>\n",
       "      <td>57.24</td>\n",
       "      <td>80.0</td>\n",
       "      <td>NaN</td>\n",
       "      <td>Mathematics</td>\n",
       "    </tr>\n",
       "    <tr>\n",
       "      <th>3</th>\n",
       "      <td>4</td>\n",
       "      <td>online</td>\n",
       "      <td>2013-01-01</td>\n",
       "      <td>251</td>\n",
       "      <td>97.67</td>\n",
       "      <td>75.0</td>\n",
       "      <td>Beginner</td>\n",
       "      <td>Technology</td>\n",
       "    </tr>\n",
       "    <tr>\n",
       "      <th>5</th>\n",
       "      <td>6</td>\n",
       "      <td>online</td>\n",
       "      <td>2014-01-01</td>\n",
       "      <td>246</td>\n",
       "      <td>50.1</td>\n",
       "      <td>76.0</td>\n",
       "      <td>Beginner</td>\n",
       "      <td>Math</td>\n",
       "    </tr>\n",
       "    <tr>\n",
       "      <th>6</th>\n",
       "      <td>7</td>\n",
       "      <td>online</td>\n",
       "      <td>2021-01-01</td>\n",
       "      <td>241</td>\n",
       "      <td>87.83</td>\n",
       "      <td>84.0</td>\n",
       "      <td>Beginner</td>\n",
       "      <td>Science</td>\n",
       "    </tr>\n",
       "    <tr>\n",
       "      <th>7</th>\n",
       "      <td>8</td>\n",
       "      <td>online</td>\n",
       "      <td>2018-01-01</td>\n",
       "      <td>261</td>\n",
       "      <td>76.48</td>\n",
       "      <td>88.0</td>\n",
       "      <td>NaN</td>\n",
       "      <td>Technology</td>\n",
       "    </tr>\n",
       "  </tbody>\n",
       "</table>\n",
       "</div>"
      ],
      "text/plain": [
       "   course_id course_type       year  enrollment_count pre_score  post_score  \\\n",
       "2          3      online 2016-01-01               257     57.24        80.0   \n",
       "3          4      online 2013-01-01               251     97.67        75.0   \n",
       "5          6      online 2014-01-01               246      50.1        76.0   \n",
       "6          7      online 2021-01-01               241     87.83        84.0   \n",
       "7          8      online 2018-01-01               261     76.48        88.0   \n",
       "\n",
       "  pre_requirement   department  \n",
       "2             NaN  Mathematics  \n",
       "3        Beginner   Technology  \n",
       "5        Beginner         Math  \n",
       "6        Beginner      Science  \n",
       "7             NaN   Technology  "
      ]
     },
     "execution_count": 14,
     "metadata": {},
     "output_type": "execute_result"
    }
   ],
   "source": [
    "online_data = df[df['course_type'] == 'online']\n",
    "online_data.head()"
   ]
  },
  {
   "cell_type": "markdown",
   "id": "76cc0c78",
   "metadata": {},
   "source": [
    "### Graphs for Analysis"
   ]
  },
  {
   "cell_type": "markdown",
   "id": "340a04a5",
   "metadata": {},
   "source": [
    "##### Plotting Enrollment Counts by Year"
   ]
  },
  {
   "cell_type": "code",
   "execution_count": 19,
   "id": "3e94cd32",
   "metadata": {},
   "outputs": [
    {
     "data": {
      "image/png": "[encoded data removed]",
      "text/plain": [
       "<Figure size 1000x600 with 1 Axes>"
      ]
     },
     "metadata": {},
     "output_type": "display_data"
    }
   ],
   "source": [
    "enrollment_by_year = df.groupby('year')['enrollment_count'].sum() # Group by year and sum the enrollment counts\n",
    "\n",
    "plt.figure(figsize=(10, 6))\n",
    "plt.plot(enrollment_by_year.index, enrollment_by_year.values, marker='o')\n",
    "plt.title('Enrollment Counts by Year')\n",
    "plt.xlabel('Year')\n",
    "plt.ylabel('Enrollment Count')\n",
    "plt.grid(True)\n",
    "plt.show()"
   ]
  }
 ],
 "metadata": {
  "kernelspec": {
   "display_name": "Python 3 (ipykernel)",
   "language": "python",
   "name": "python3"
  },
  "language_info": {
   "codemirror_mode": {
    "name": "ipython",
    "version": 3
   },
   "file_extension": ".py",
   "mimetype": "text/x-python",
   "name": "python",
   "nbconvert_exporter": "python",
   "pygments_lexer": "ipython3",
   "version": "3.11.5"
  }
 },
 "nbformat": 4,
 "nbformat_minor": 5
}
