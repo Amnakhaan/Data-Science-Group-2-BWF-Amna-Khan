{
 "cells": [
  {
   "cell_type": "code",
   "execution_count": 7,
   "id": "a605d1ca",
   "metadata": {},
   "outputs": [
    {
     "data": {
      "text/html": [
       "<div>\n",
       "<style scoped>\n",
       "    .dataframe tbody tr th:only-of-type {\n",
       "        vertical-align: middle;\n",
       "    }\n",
       "\n",
       "    .dataframe tbody tr th {\n",
       "        vertical-align: top;\n",
       "    }\n",
       "\n",
       "    .dataframe thead th {\n",
       "        text-align: right;\n",
       "    }\n",
       "</style>\n",
       "<table border=\"1\" class=\"dataframe\">\n",
       "  <thead>\n",
       "    <tr style=\"text-align: right;\">\n",
       "      <th></th>\n",
       "      <th>Index</th>\n",
       "      <th>Reviews</th>\n",
       "    </tr>\n",
       "  </thead>\n",
       "  <tbody>\n",
       "    <tr>\n",
       "      <th>0</th>\n",
       "      <td>1</td>\n",
       "      <td>Alexa cannot hear after she starts playing</td>\n",
       "    </tr>\n",
       "    <tr>\n",
       "      <th>1</th>\n",
       "      <td>2</td>\n",
       "      <td>I purchased this as a birthday gift for my 7 y...</td>\n",
       "    </tr>\n",
       "    <tr>\n",
       "      <th>2</th>\n",
       "      <td>3</td>\n",
       "      <td>/*Here I'm Uploading video, enjoy*/Most idioti...</td>\n",
       "    </tr>\n",
       "    <tr>\n",
       "      <th>3</th>\n",
       "      <td>4</td>\n",
       "      <td>Do not buy this product. When i asked alexa t...</td>\n",
       "    </tr>\n",
       "    <tr>\n",
       "      <th>4</th>\n",
       "      <td>5</td>\n",
       "      <td>Its just one if the best deal i ever got on am...</td>\n",
       "    </tr>\n",
       "  </tbody>\n",
       "</table>\n",
       "</div>"
      ],
      "text/plain": [
       "   Index                                            Reviews\n",
       "0      1         Alexa cannot hear after she starts playing\n",
       "1      2  I purchased this as a birthday gift for my 7 y...\n",
       "2      3  /*Here I'm Uploading video, enjoy*/Most idioti...\n",
       "3      4   Do not buy this product. When i asked alexa t...\n",
       "4      5  Its just one if the best deal i ever got on am..."
      ]
     },
     "execution_count": 7,
     "metadata": {},
     "output_type": "execute_result"
    }
   ],
   "source": [
    "import nltk\n",
    "import pandas as pd\n",
    "from nltk import word_tokenize, pos_tag, ne_chunk\n",
    "\n",
    "file_path = 'ECO.csv'\n",
    "df = pd.read_csv(file_path)\n",
    "\n",
    "df.head()\n"
   ]
  },
  {
   "cell_type": "code",
   "execution_count": 10,
   "id": "e128da8b",
   "metadata": {},
   "outputs": [
    {
     "data": {
      "text/plain": [
       "Index(['Index', 'Reviews', 'NER'], dtype='object')"
      ]
     },
     "execution_count": 10,
     "metadata": {},
     "output_type": "execute_result"
    }
   ],
   "source": [
    "df.columns"
   ]
  },
  {
   "cell_type": "markdown",
   "id": "f0337547",
   "metadata": {},
   "source": [
    "## Perform NER"
   ]
  },
  {
   "cell_type": "code",
   "execution_count": 11,
   "id": "0072168a",
   "metadata": {},
   "outputs": [
    {
     "name": "stderr",
     "output_type": "stream",
     "text": [
      "[nltk_data] Downloading package maxent_ne_chunker to C:\\Users\\Abid\n",
      "[nltk_data]     Khan\\AppData\\Roaming\\nltk_data...\n",
      "[nltk_data]   Package maxent_ne_chunker is already up-to-date!\n",
      "[nltk_data] Downloading package words to C:\\Users\\Abid\n",
      "[nltk_data]     Khan\\AppData\\Roaming\\nltk_data...\n",
      "[nltk_data]   Package words is already up-to-date!\n",
      "[nltk_data] Downloading package averaged_perceptron_tagger to\n",
      "[nltk_data]     C:\\Users\\Abid Khan\\AppData\\Roaming\\nltk_data...\n",
      "[nltk_data]   Package averaged_perceptron_tagger is already up-to-\n",
      "[nltk_data]       date!\n"
     ]
    },
    {
     "data": {
      "text/html": [
       "<div>\n",
       "<style scoped>\n",
       "    .dataframe tbody tr th:only-of-type {\n",
       "        vertical-align: middle;\n",
       "    }\n",
       "\n",
       "    .dataframe tbody tr th {\n",
       "        vertical-align: top;\n",
       "    }\n",
       "\n",
       "    .dataframe thead th {\n",
       "        text-align: right;\n",
       "    }\n",
       "</style>\n",
       "<table border=\"1\" class=\"dataframe\">\n",
       "  <thead>\n",
       "    <tr style=\"text-align: right;\">\n",
       "      <th></th>\n",
       "      <th>Reviews</th>\n",
       "      <th>NER</th>\n",
       "    </tr>\n",
       "  </thead>\n",
       "  <tbody>\n",
       "    <tr>\n",
       "      <th>0</th>\n",
       "      <td>Alexa cannot hear after she starts playing</td>\n",
       "      <td>[[(Alexa, NNP)], (can, MD), (not, RB), (hear, ...</td>\n",
       "    </tr>\n",
       "    <tr>\n",
       "      <th>1</th>\n",
       "      <td>I purchased this as a birthday gift for my 7 y...</td>\n",
       "      <td>[(I, PRP), (purchased, VBD), (this, DT), (as, ...</td>\n",
       "    </tr>\n",
       "    <tr>\n",
       "      <th>2</th>\n",
       "      <td>/*Here I'm Uploading video, enjoy*/Most idioti...</td>\n",
       "      <td>[(/, NN), (*, NN), (Here, RB), (I, PRP), ('m, ...</td>\n",
       "    </tr>\n",
       "    <tr>\n",
       "      <th>3</th>\n",
       "      <td>Do not buy this product. When i asked alexa t...</td>\n",
       "      <td>[(Do, NNP), (not, RB), (buy, VB), (this, DT), ...</td>\n",
       "    </tr>\n",
       "    <tr>\n",
       "      <th>4</th>\n",
       "      <td>Its just one if the best deal i ever got on am...</td>\n",
       "      <td>[(Its, PRP$), (just, RB), (one, CD), (if, IN),...</td>\n",
       "    </tr>\n",
       "  </tbody>\n",
       "</table>\n",
       "</div>"
      ],
      "text/plain": [
       "                                             Reviews  \\\n",
       "0         Alexa cannot hear after she starts playing   \n",
       "1  I purchased this as a birthday gift for my 7 y...   \n",
       "2  /*Here I'm Uploading video, enjoy*/Most idioti...   \n",
       "3   Do not buy this product. When i asked alexa t...   \n",
       "4  Its just one if the best deal i ever got on am...   \n",
       "\n",
       "                                                 NER  \n",
       "0  [[(Alexa, NNP)], (can, MD), (not, RB), (hear, ...  \n",
       "1  [(I, PRP), (purchased, VBD), (this, DT), (as, ...  \n",
       "2  [(/, NN), (*, NN), (Here, RB), (I, PRP), ('m, ...  \n",
       "3  [(Do, NNP), (not, RB), (buy, VB), (this, DT), ...  \n",
       "4  [(Its, PRP$), (just, RB), (one, CD), (if, IN),...  "
      ]
     },
     "execution_count": 11,
     "metadata": {},
     "output_type": "execute_result"
    }
   ],
   "source": [
    "import nltk\n",
    "import pandas as pd\n",
    "from nltk import word_tokenize, pos_tag, ne_chunk\n",
    "\n",
    "# NLTK data\n",
    "nltk.download('maxent_ne_chunker')\n",
    "nltk.download('words')\n",
    "nltk.download('averaged_perceptron_tagger')\n",
    "\n",
    "text_column = 'Reviews' #target coln\n",
    "\n",
    "def perform_ner(text):\n",
    "    tokens = word_tokenize(text)\n",
    "    pos_tags = pos_tag(tokens)\n",
    "    ner_tree = ne_chunk(pos_tags)\n",
    "    return ner_tree\n",
    "\n",
    "# Apply NER to the text column\n",
    "df['NER'] = df[text_column].apply(lambda x: perform_ner(str(x)))\n",
    "\n",
    "# Display the first few rows with NER results\n",
    "df[[text_column, 'NER']].head()\n"
   ]
  },
  {
   "cell_type": "markdown",
   "id": "0953d626",
   "metadata": {},
   "source": [
    "## sentiment analysis"
   ]
  },
  {
   "cell_type": "code",
   "execution_count": 14,
   "id": "bc253365",
   "metadata": {},
   "outputs": [
    {
     "name": "stderr",
     "output_type": "stream",
     "text": [
      "[nltk_data] Downloading package vader_lexicon to C:\\Users\\Abid\n",
      "[nltk_data]     Khan\\AppData\\Roaming\\nltk_data...\n",
      "[nltk_data]   Package vader_lexicon is already up-to-date!\n"
     ]
    }
   ],
   "source": [
    "from nltk.sentiment import SentimentIntensityAnalyzer\n",
    "\n",
    "nltk.download('vader_lexicon')\n",
    "\n",
    "# Initialize the Sentiment Intensity Analyzer\n",
    "sia = SentimentIntensityAnalyzer()"
   ]
  },
  {
   "cell_type": "code",
   "execution_count": 15,
   "id": "17a833d6",
   "metadata": {},
   "outputs": [],
   "source": [
    "def sentiment_analysis(text):\n",
    "    return sia.polarity_scores(text)\n",
    "\n",
    "# sentiment analysis to the 'Reviews' column\n",
    "df['Sentiment'] = df[text_column].apply(lambda x: sentiment_analysis(str(x)))\n"
   ]
  },
  {
   "cell_type": "code",
   "execution_count": 16,
   "id": "d1844a12",
   "metadata": {},
   "outputs": [
    {
     "data": {
      "text/html": [
       "<div>\n",
       "<style scoped>\n",
       "    .dataframe tbody tr th:only-of-type {\n",
       "        vertical-align: middle;\n",
       "    }\n",
       "\n",
       "    .dataframe tbody tr th {\n",
       "        vertical-align: top;\n",
       "    }\n",
       "\n",
       "    .dataframe thead th {\n",
       "        text-align: right;\n",
       "    }\n",
       "</style>\n",
       "<table border=\"1\" class=\"dataframe\">\n",
       "  <thead>\n",
       "    <tr style=\"text-align: right;\">\n",
       "      <th></th>\n",
       "      <th>Reviews</th>\n",
       "      <th>Sentiment</th>\n",
       "    </tr>\n",
       "  </thead>\n",
       "  <tbody>\n",
       "    <tr>\n",
       "      <th>0</th>\n",
       "      <td>Alexa cannot hear after she starts playing</td>\n",
       "      <td>{'neg': 0.0, 'neu': 0.769, 'pos': 0.231, 'comp...</td>\n",
       "    </tr>\n",
       "    <tr>\n",
       "      <th>1</th>\n",
       "      <td>I purchased this as a birthday gift for my 7 y...</td>\n",
       "      <td>{'neg': 0.071, 'neu': 0.747, 'pos': 0.182, 'co...</td>\n",
       "    </tr>\n",
       "    <tr>\n",
       "      <th>2</th>\n",
       "      <td>/*Here I'm Uploading video, enjoy*/Most idioti...</td>\n",
       "      <td>{'neg': 0.046, 'neu': 0.799, 'pos': 0.155, 'co...</td>\n",
       "    </tr>\n",
       "    <tr>\n",
       "      <th>3</th>\n",
       "      <td>Do not buy this product. When i asked alexa t...</td>\n",
       "      <td>{'neg': 0.0, 'neu': 1.0, 'pos': 0.0, 'compound...</td>\n",
       "    </tr>\n",
       "    <tr>\n",
       "      <th>4</th>\n",
       "      <td>Its just one if the best deal i ever got on am...</td>\n",
       "      <td>{'neg': 0.016, 'neu': 0.79, 'pos': 0.194, 'com...</td>\n",
       "    </tr>\n",
       "  </tbody>\n",
       "</table>\n",
       "</div>"
      ],
      "text/plain": [
       "                                             Reviews  \\\n",
       "0         Alexa cannot hear after she starts playing   \n",
       "1  I purchased this as a birthday gift for my 7 y...   \n",
       "2  /*Here I'm Uploading video, enjoy*/Most idioti...   \n",
       "3   Do not buy this product. When i asked alexa t...   \n",
       "4  Its just one if the best deal i ever got on am...   \n",
       "\n",
       "                                           Sentiment  \n",
       "0  {'neg': 0.0, 'neu': 0.769, 'pos': 0.231, 'comp...  \n",
       "1  {'neg': 0.071, 'neu': 0.747, 'pos': 0.182, 'co...  \n",
       "2  {'neg': 0.046, 'neu': 0.799, 'pos': 0.155, 'co...  \n",
       "3  {'neg': 0.0, 'neu': 1.0, 'pos': 0.0, 'compound...  \n",
       "4  {'neg': 0.016, 'neu': 0.79, 'pos': 0.194, 'com...  "
      ]
     },
     "execution_count": 16,
     "metadata": {},
     "output_type": "execute_result"
    }
   ],
   "source": [
    "df[['Reviews', 'Sentiment']].head()"
   ]
  },
  {
   "cell_type": "code",
   "execution_count": null,
   "id": "b59d3710",
   "metadata": {},
   "outputs": [],
   "source": []
  }
 ],
 "metadata": {
  "kernelspec": {
   "display_name": "Python 3 (ipykernel)",
   "language": "python",
   "name": "python3"
  },
  "language_info": {
   "codemirror_mode": {
    "name": "ipython",
    "version": 3
   },
   "file_extension": ".py",
   "mimetype": "text/x-python",
   "name": "python",
   "nbconvert_exporter": "python",
   "pygments_lexer": "ipython3",
   "version": "3.11.5"
  }
 },
 "nbformat": 4,
 "nbformat_minor": 5
}
