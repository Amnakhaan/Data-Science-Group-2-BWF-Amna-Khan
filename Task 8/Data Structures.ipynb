{
 "cells": [
  {
   "cell_type": "markdown",
   "id": "be822ed8",
   "metadata": {},
   "source": [
    "### Simple Data Structures in Python (Dictionary, Set, List, Tuple)\n"
   ]
  },
  {
   "cell_type": "markdown",
   "id": "bf79e506",
   "metadata": {},
   "source": [
    "####  Inventory Management System"
   ]
  },
  {
   "cell_type": "markdown",
   "id": "d6afa39d",
   "metadata": {},
   "source": [
    "##### Data Structures"
   ]
  },
  {
   "cell_type": "code",
   "execution_count": 10,
   "id": "bf50f58a",
   "metadata": {},
   "outputs": [],
   "source": [
    "products = {}\n",
    "product_order = []\n",
    "categories = set()"
   ]
  },
  {
   "cell_type": "markdown",
   "id": "730d0686",
   "metadata": {},
   "source": [
    "##### Implement Functions"
   ]
  },
  {
   "cell_type": "code",
   "execution_count": 11,
   "id": "6e69bd2d",
   "metadata": {},
   "outputs": [],
   "source": [
    "def add_product(product_id, name, category, stock):\n",
    "    if product_id in products:\n",
    "        print(f\"Product ID {product_id} already exists.\")\n",
    "        return\n",
    "    products[product_id] = {'info': (name, category), 'stock': stock}\n",
    "    product_order.append(product_id)\n",
    "    categories.add(category)\n",
    "    print(f\"Added product {name} with ID {product_id}.\")\n"
   ]
  },
  {
   "cell_type": "code",
   "execution_count": 12,
   "id": "02a8c6e7",
   "metadata": {},
   "outputs": [],
   "source": [
    "def update_stock(product_id, quantity):\n",
    "    if product_id not in products:\n",
    "        print(f\"Product ID {product_id} does not exist.\")\n",
    "        return\n",
    "    products[product_id]['stock'] += quantity\n",
    "    print(f\"Updated stock for product ID {product_id}. New stock: {products[product_id]['stock']}.\")\n"
   ]
  },
  {
   "cell_type": "code",
   "execution_count": 13,
   "id": "ee56f9bc",
   "metadata": {},
   "outputs": [],
   "source": [
    "def display_products():\n",
    "    for product_id in product_order:\n",
    "        info = products[product_id]['info']\n",
    "        stock = products[product_id]['stock']\n",
    "        print(f\"ID: {product_id}, Name: {info[0]}, Category: {info[1]}, Stock: {stock}\")\n"
   ]
  },
  {
   "cell_type": "code",
   "execution_count": 14,
   "id": "4ffc707c",
   "metadata": {},
   "outputs": [],
   "source": [
    "def display_by_category(category):\n",
    "    for product_id in product_order:\n",
    "        info = products[product_id]['info']\n",
    "        stock = products[product_id]['stock']\n",
    "        if info[1] == category:\n",
    "            print(f\"ID: {product_id}, Name: {info[0]}, Stock: {stock}\")\n"
   ]
  },
  {
   "cell_type": "markdown",
   "id": "fb8c8bbe",
   "metadata": {},
   "source": [
    "##### Testing"
   ]
  },
  {
   "cell_type": "code",
   "execution_count": 15,
   "id": "66a0b60e",
   "metadata": {},
   "outputs": [
    {
     "name": "stdout",
     "output_type": "stream",
     "text": [
      "\n",
      "-----Adding multiple products-----\n",
      "Added product Laptop with ID ID001.\n",
      "Added product Smartphone with ID ID002.\n",
      "Added product Desk with ID ID003.\n",
      "\n",
      "-----Updating stock levels-----\n",
      "Updated stock for product ID ID001. New stock: 60.\n",
      "Updated stock for product ID ID002. New stock: 25.\n",
      "\n",
      "-----Display all products-----\n",
      "ID: ID001, Name: Laptop, Category: Electronics, Stock: 60\n",
      "ID: ID002, Name: Smartphone, Category: Electronics, Stock: 25\n",
      "ID: ID003, Name: Desk, Category: Furniture, Stock: 20\n",
      "\n",
      "Products in Electronics:\n",
      "ID: ID001, Name: Laptop, Stock: 60\n",
      "ID: ID002, Name: Smartphone, Stock: 25\n",
      "\n",
      "Products in Furniture:\n",
      "ID: ID003, Name: Desk, Stock: 20\n"
     ]
    }
   ],
   "source": [
    "print(\"\\n-----Adding multiple products-----\")\n",
    "add_product('ID001', 'Laptop', 'Electronics', 50)\n",
    "add_product('ID002', 'Smartphone', 'Electronics', 30)\n",
    "add_product('ID003', 'Desk', 'Furniture', 20)\n",
    "\n",
    "print(\"\\n-----Updating stock levels-----\")\n",
    "update_stock('ID001', 10)  # Increase stock by 10\n",
    "update_stock('ID002', -5)  # Decrease stock by 5\n",
    "\n",
    "print(\"\\n-----Display all products-----\")\n",
    "display_products()\n",
    "\n",
    "print(\"\\nProducts in Electronics:\")\n",
    "display_by_category('Electronics')\n",
    "\n",
    "print(\"\\nProducts in Furniture:\")\n",
    "display_by_category('Furniture')\n"
   ]
  },
  {
   "cell_type": "code",
   "execution_count": null,
   "id": "7c3e84ec",
   "metadata": {},
   "outputs": [],
   "source": []
  }
 ],
 "metadata": {
  "kernelspec": {
   "display_name": "Python 3 (ipykernel)",
   "language": "python",
   "name": "python3"
  },
  "language_info": {
   "codemirror_mode": {
    "name": "ipython",
    "version": 3
   },
   "file_extension": ".py",
   "mimetype": "text/x-python",
   "name": "python",
   "nbconvert_exporter": "python",
   "pygments_lexer": "ipython3",
   "version": "3.11.5"
  }
 },
 "nbformat": 4,
 "nbformat_minor": 5
}
