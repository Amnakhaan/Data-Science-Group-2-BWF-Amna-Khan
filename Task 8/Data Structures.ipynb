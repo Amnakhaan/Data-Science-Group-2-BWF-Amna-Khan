{
 "cells": [
  {
   "cell_type": "markdown",
   "id": "07ec884d",
   "metadata": {},
   "source": [
    "### Simple Data Structures in Python (Dictionary, Set, List, Tuple)\n"
   ]
  },
  {
   "cell_type": "markdown",
   "id": "e3759368",
   "metadata": {},
   "source": [
    "####  Inventory Management System"
   ]
  },
  {
   "cell_type": "markdown",
   "id": "b71bbd9e",
   "metadata": {},
   "source": [
    "##### Data Structures"
   ]
  },
  {
   "cell_type": "code",
   "execution_count": 1,
   "id": "7649118f",
   "metadata": {},
   "outputs": [],
   "source": [
    "products = {}\n",
    "product_order = []\n",
    "categories = set()"
   ]
  },
  {
   "cell_type": "markdown",
   "id": "da5eec8a",
   "metadata": {},
   "source": [
    "##### Implement Functions"
   ]
  },
  {
   "cell_type": "code",
   "execution_count": 2,
   "id": "c9e0e9e8",
   "metadata": {},
   "outputs": [],
   "source": [
    "def add_product(product_id, name, category, stock):\n",
    "    if product_id in products:\n",
    "        print(f\"Product ID {product_id} already exists.\")\n",
    "        return\n",
    "    products[product_id] = {'info': (name, category), 'stock': stock}\n",
    "    product_order.append(product_id)\n",
    "    categories.add(category)\n",
    "    print(f\"Added product {name} with ID {product_id}.\")\n"
   ]
  },
  {
   "cell_type": "code",
   "execution_count": 3,
   "id": "c98df0ab",
   "metadata": {},
   "outputs": [],
   "source": [
    "def update_stock(product_id, quantity):\n",
    "    if product_id not in products:\n",
    "        print(f\"Product ID {product_id} does not exist.\")\n",
    "        return\n",
    "    products[product_id]['stock'] += quantity\n",
    "    print(f\"Updated stock for product ID {product_id}. New stock: {products[product_id]['stock']}.\")\n"
   ]
  },
  {
   "cell_type": "code",
   "execution_count": 4,
   "id": "07490c5f",
   "metadata": {},
   "outputs": [],
   "source": [
    "def display_products():\n",
    "    for product_id in product_order:\n",
    "        info = products[product_id]['info']\n",
    "        stock = products[product_id]['stock']\n",
    "        print(f\"ID: {product_id}, Name: {info[0]}, Category: {info[1]}, Stock: {stock}\")\n"
   ]
  },
  {
   "cell_type": "code",
   "execution_count": 5,
   "id": "0457660f",
   "metadata": {},
   "outputs": [],
   "source": [
    "def display_by_category(category):\n",
    "    for product_id in product_order:\n",
    "        info = products[product_id]['info']\n",
    "        stock = products[product_id]['stock']\n",
    "        if info[1] == category:\n",
    "            print(f\"ID: {product_id}, Name: {info[0]}, Stock: {stock}\")\n"
   ]
  },
  {
   "cell_type": "markdown",
   "id": "54c25aeb",
   "metadata": {},
   "source": [
    "##### Testing"
   ]
  },
  {
   "cell_type": "code",
   "execution_count": 9,
   "id": "639f8069",
   "metadata": {},
   "outputs": [
    {
     "name": "stdout",
     "output_type": "stream",
     "text": [
      "\n",
      "-----Adding multiple products-----\n",
      "Product ID ID001 already exists.\n",
      "Product ID ID002 already exists.\n",
      "Product ID ID003 already exists.\n",
      "\n",
      "-----Updating stock levels-----\n",
      "Updated stock for product ID ID001. New stock: 90.\n",
      "Updated stock for product ID ID002. New stock: 10.\n",
      "\n",
      "-----Display all products-----\n",
      "ID: ID001, Name: Product1, Category: Category1, Stock: 90\n",
      "ID: ID002, Name: Product2, Category: Category1, Stock: 10\n",
      "ID: ID003, Name: Product3, Category: Category2, Stock: 20\n",
      "\n",
      "Products in Electronics:\n",
      "\n",
      "Products in Furniture:\n"
     ]
    }
   ],
   "source": [
    "print(\"\\n-----Adding multiple products-----\")\n",
    "add_product('ID001', 'Laptop', 'Electronics', 50)\n",
    "add_product('ID002', 'Smartphone', 'Electronics', 30)\n",
    "add_product('ID003', 'Desk', 'Furniture', 20)\n",
    "\n",
    "print(\"\\n-----Updating stock levels-----\")\n",
    "update_stock('ID001', 10)  # Increase stock by 10\n",
    "update_stock('ID002', -5)  # Decrease stock by 5\n",
    "\n",
    "print(\"\\n-----Display all products-----\")\n",
    "display_products()\n",
    "\n",
    "print(\"\\nProducts in Electronics:\")\n",
    "display_by_category('Electronics')\n",
    "\n",
    "print(\"\\nProducts in Furniture:\")\n",
    "display_by_category('Furniture')\n"
   ]
  },
  {
   "cell_type": "code",
   "execution_count": null,
   "id": "7d17174f",
   "metadata": {},
   "outputs": [],
   "source": []
  }
 ],
 "metadata": {
  "kernelspec": {
   "display_name": "Python 3 (ipykernel)",
   "language": "python",
   "name": "python3"
  },
  "language_info": {
   "codemirror_mode": {
    "name": "ipython",
    "version": 3
   },
   "file_extension": ".py",
   "mimetype": "text/x-python",
   "name": "python",
   "nbconvert_exporter": "python",
   "pygments_lexer": "ipython3",
   "version": "3.11.5"
  }
 },
 "nbformat": 4,
 "nbformat_minor": 5
}
