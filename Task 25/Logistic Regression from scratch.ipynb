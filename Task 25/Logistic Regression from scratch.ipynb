{
 "cells": [
  {
   "cell_type": "code",
   "execution_count": 1,
   "id": "db9902b9",
   "metadata": {},
   "outputs": [],
   "source": [
    "import numpy as np"
   ]
  },
  {
   "cell_type": "code",
   "execution_count": 2,
   "id": "b98000cc",
   "metadata": {},
   "outputs": [],
   "source": [
    "def sigmoid(z):\n",
    "    return 1 / (1 + np.exp(-z))"
   ]
  },
  {
   "cell_type": "code",
   "execution_count": 3,
   "id": "14001101",
   "metadata": {},
   "outputs": [],
   "source": [
    "# cost func\n",
    "def compute_cost(X, y, weights):\n",
    "    m = len(y)\n",
    "    h = sigmoid(np.dot(X, weights))\n",
    "    cost = (-1/m) * np.sum(y * np.log(h) + (1 - y) * np.log(1 - h))\n",
    "    return cost"
   ]
  },
  {
   "cell_type": "code",
   "execution_count": 4,
   "id": "c5a97bec",
   "metadata": {},
   "outputs": [],
   "source": [
    "def gradient_descent(X, y, weights, learning_rate, num_iterations):\n",
    "    m = len(y)\n",
    "    cost_history = []\n",
    "\n",
    "    for i in range(num_iterations):\n",
    "        h = sigmoid(np.dot(X, weights))\n",
    "        gradient = np.dot(X.T, (h - y)) / m\n",
    "        weights -= learning_rate * gradient\n",
    "        cost = compute_cost(X, y, weights)\n",
    "        cost_history.append(cost)\n",
    "\n",
    "    return weights, cost_history"
   ]
  },
  {
   "cell_type": "markdown",
   "id": "3af1cb85",
   "metadata": {},
   "source": [
    "### Train the logistic regression model"
   ]
  },
  {
   "cell_type": "code",
   "execution_count": 8,
   "id": "f5c56593",
   "metadata": {},
   "outputs": [],
   "source": [
    "# random data for a binary classification problem\n",
    "np.random.seed(0)\n",
    "X = np.random.rand(100, 2)\n",
    "y = (X[:, 0] + X[:, 1] > 1).astype(int)  # decision boundary\n",
    "\n",
    "X = np.hstack((np.ones((X.shape[0], 1)), X)) # Add intercept term to X\n",
    "\n",
    "weights = np.zeros(X.shape[1])\n",
    "\n",
    "# Set parameters\n",
    "learning_rate = 0.1\n",
    "num_iterations = 1000\n",
    "\n",
    "weights, cost_history = gradient_descent(X, y, weights, learning_rate, num_iterations)"
   ]
  },
  {
   "cell_type": "markdown",
   "id": "c28ddbf6",
   "metadata": {},
   "source": [
    "### Make predictions"
   ]
  },
  {
   "cell_type": "code",
   "execution_count": 9,
   "id": "1e477d2f",
   "metadata": {},
   "outputs": [
    {
     "name": "stdout",
     "output_type": "stream",
     "text": [
      "Training Accuracy: 94.00%\n"
     ]
    }
   ],
   "source": [
    "def predict(X, weights):\n",
    "    return sigmoid(np.dot(X, weights)) >= 0.5\n",
    "\n",
    "# Predict on the training set\n",
    "predictions = predict(X, weights)\n",
    "\n",
    "# Calculate accuracy\n",
    "accuracy = np.mean(predictions == y) * 100\n",
    "print(f\"Training Accuracy: {accuracy:.2f}%\")\n"
   ]
  },
  {
   "cell_type": "code",
   "execution_count": null,
   "id": "aa65b0cd",
   "metadata": {},
   "outputs": [],
   "source": []
  }
 ],
 "metadata": {
  "kernelspec": {
   "display_name": "Python 3 (ipykernel)",
   "language": "python",
   "name": "python3"
  },
  "language_info": {
   "codemirror_mode": {
    "name": "ipython",
    "version": 3
   },
   "file_extension": ".py",
   "mimetype": "text/x-python",
   "name": "python",
   "nbconvert_exporter": "python",
   "pygments_lexer": "ipython3",
   "version": "3.11.5"
  }
 },
 "nbformat": 4,
 "nbformat_minor": 5
}
